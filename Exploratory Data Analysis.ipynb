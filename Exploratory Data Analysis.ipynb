{
  "nbformat": 4,
  "nbformat_minor": 0,
  "metadata": {
    "kernelspec": {
      "display_name": "Python 3",
      "language": "python",
      "name": "python3"
    },
    "language_info": {
      "codemirror_mode": {
        "name": "ipython",
        "version": 3
      },
      "file_extension": ".py",
      "mimetype": "text/x-python",
      "name": "python",
      "nbconvert_exporter": "python",
      "pygments_lexer": "ipython3",
      "version": "3.7.4"
    },
    "colab": {
      "name": "Exploratory Data Analysis.ipynb",
      "provenance": []
    }
  },
  "cells": [
    {
      "cell_type": "markdown",
      "metadata": {
        "id": "SlHNM0ylUtXc"
      },
      "source": [
        "# Exploratory Data Analysis"
      ]
    },
    {
      "cell_type": "code",
      "metadata": {
        "id": "s41Gdd-7UtXh"
      },
      "source": [
        "from zipfile import ZipFile\n",
        "import json\n",
        "import os\n",
        "from collections import Counter\n",
        "import matplotlib.pyplot as plt\n",
        "import re\n",
        "import numpy as np\n",
        "import pandas as pd"
      ],
      "execution_count": 5,
      "outputs": []
    },
    {
      "cell_type": "code",
      "metadata": {
        "id": "NZ26ReHaXQFU",
        "outputId": "c3a66a23-7afc-49b6-fac3-4c1fff476fd8",
        "colab": {
          "base_uri": "https://localhost:8080/"
        }
      },
      "source": [
        "os.listdir()"
      ],
      "execution_count": 6,
      "outputs": [
        {
          "output_type": "execute_result",
          "data": {
            "text/plain": [
              "['.config', 'cuad-main', 'main.zip', 'main.zip.1', 'main.zip.2', 'sample_data']"
            ]
          },
          "metadata": {
            "tags": []
          },
          "execution_count": 6
        }
      ]
    },
    {
      "cell_type": "markdown",
      "metadata": {
        "id": "bQ4UlOkTUtXj"
      },
      "source": [
        "## The Data\n",
        "\n",
        "CUAD: An Expert-Annotated NLP Dataset for Legal Contract Review\n",
        "\n",
        "https://arxiv.org/abs/2103.06268\n",
        "\n",
        "This code is an adaptation of the scrape.py file avaliable on the github repository for CUAD.  It has been adapted to run in Jypter notebooks and allow us to step throght the coding line by line.`"
      ]
    },
    {
      "cell_type": "markdown",
      "metadata": {
        "id": "k5RS1m1RUtXk"
      },
      "source": [
        "### Download repository and extract data"
      ]
    },
    {
      "cell_type": "code",
      "metadata": {
        "id": "nAHzdcCrUtXl"
      },
      "source": [
        "def extract_zip(pth,data_pth = None):\n",
        "    \"\"\"Function to extract contents of a zip file to a specified location (wd if data_pth not passed)\"\"\"\n",
        "    with ZipFile(pth, 'r') as zipObj:\n",
        "       # Extract all the contents of zip file in different directory\n",
        "       zipObj.extractall(data_pth)"
      ],
      "execution_count": 7,
      "outputs": []
    },
    {
      "cell_type": "code",
      "metadata": {
        "id": "yWKGVvidWpzT"
      },
      "source": [
        ""
      ],
      "execution_count": 7,
      "outputs": []
    },
    {
      "cell_type": "code",
      "metadata": {
        "id": "pWljb-PkUtXm"
      },
      "source": [
        "#Download CUAD git repository\n",
        "if not os.path.exists('main.zip'):\n",
        "  !wget --no-check-certificate https://github.com/TheAtticusProject/cuad/archive/refs/heads/main.zip\n",
        "  !unzip -q main.zip\n",
        "\n",
        "#If it has not already been extracted, extract the contents of data.zip\n",
        "if not os.path.exists('cuad-main/data'):\n",
        "  os.makedirs('cuad-main/data')\n",
        "\n",
        "if not os.path.exists('cuad-main/data/CUADv1.json'):\n",
        "  extract_zip('cuad-main/data.zip','cuad-main/data/')"
      ],
      "execution_count": 8,
      "outputs": []
    },
    {
      "cell_type": "markdown",
      "metadata": {
        "id": "2kALdbSCUtXo"
      },
      "source": [
        "### Load CUADv1.json data"
      ]
    },
    {
      "cell_type": "code",
      "metadata": {
        "id": "-j6zwYHHUtXp"
      },
      "source": [
        "#Load CUADv1 JSON to data\n",
        "with open('cuad-main/data/CUADv1.json','r') as infile:\n",
        "    for line in infile:\n",
        "        data = json.loads(line)"
      ],
      "execution_count": 9,
      "outputs": []
    },
    {
      "cell_type": "code",
      "metadata": {
        "id": "U31EK2yLWPAw",
        "outputId": "f7d504fe-512d-4fc6-dcac-7710e8ae699a",
        "colab": {
          "base_uri": "https://localhost:8080/"
        }
      },
      "source": [
        "os.listdir('cuad-main')"
      ],
      "execution_count": 10,
      "outputs": [
        {
          "output_type": "execute_result",
          "data": {
            "text/plain": [
              "['category_descriptions.csv',\n",
              " 'run.sh',\n",
              " 'data.zip',\n",
              " 'data',\n",
              " 'utils.py',\n",
              " 'readme.md',\n",
              " 'contract_review.png',\n",
              " 'train.py',\n",
              " 'evaluate.py',\n",
              " 'scrape.py']"
            ]
          },
          "metadata": {
            "tags": []
          },
          "execution_count": 10
        }
      ]
    },
    {
      "cell_type": "markdown",
      "metadata": {
        "id": "9A48t7f8UtXq"
      },
      "source": [
        "#### Examples of data within the data dictionary"
      ]
    },
    {
      "cell_type": "code",
      "metadata": {
        "id": "PpDm-PgEUtXr",
        "outputId": "29ebc7b1-dfd7-491e-bb35-dcc65e736683",
        "colab": {
          "base_uri": "https://localhost:8080/"
        }
      },
      "source": [
        "print('Title:',data['data'][0]['title'])\n",
        "print('Question:',data['data'][0]['paragraphs'][0]['qas'][0]['question'])\n",
        "print('Is_Possible:',data['data'][0]['paragraphs'][0]['qas'][0]['is_impossible'])"
      ],
      "execution_count": 11,
      "outputs": [
        {
          "output_type": "stream",
          "text": [
            "Title: LIMEENERGYCO_09_09_1999-EX-10-DISTRIBUTOR AGREEMENT\n",
            "Question: Highlight the parts (if any) of this contract related to \"Document Name\" that should be reviewed by a lawyer. Details: The name of the contract\n",
            "Is_Possible: False\n"
          ],
          "name": "stdout"
        }
      ]
    },
    {
      "cell_type": "code",
      "metadata": {
        "id": "zlRQlYEyUtXt",
        "outputId": "f1bd4f63-f6b4-4ad0-ae8e-ba3bd6a0cc25",
        "colab": {
          "base_uri": "https://localhost:8080/"
        }
      },
      "source": [
        "#Determine number of contracts within the data dictionary\n",
        "contracts = len(data['data'])\n",
        "print('There are {} contracts in the data set'.format(contracts))"
      ],
      "execution_count": 12,
      "outputs": [
        {
          "output_type": "stream",
          "text": [
            "There are 510 contracts in the data set\n"
          ],
          "name": "stdout"
        }
      ]
    },
    {
      "cell_type": "markdown",
      "metadata": {
        "id": "NjaspyzZUtXu"
      },
      "source": [
        "#### Explore the responses within the data"
      ]
    },
    {
      "cell_type": "code",
      "metadata": {
        "id": "Bs8SCtgpUtXv"
      },
      "source": [
        "#Initate lists to store responses\n",
        "titles =[]\n",
        "paragraph_len = []\n",
        "qas_len = []\n",
        "clause = []\n",
        "clause_found = []\n",
        "\n",
        "#For each contract in the data\n",
        "for i in range(contracts):\n",
        "    #Append the title to titles\n",
        "    titles.append(data['data'][i]['title'])\n",
        "    \n",
        "    #Append the length of the paragraph key to the data to paragraph_len\n",
        "    paragraph_len.append(len(data['data'][i]['paragraphs']))\n",
        "    \n",
        "    #Append the number of clauses investigated for each contract to qas_len\n",
        "    qas_len.append(len(data['data'][i]['paragraphs'][0]['qas']))\n",
        "    \n",
        "    #Initate lists for the contract to capture clauses investigated and if responses found in contract\n",
        "    contract_clause= []\n",
        "    contract_clause_found = []\n",
        "    \n",
        "    #For each clause investigated in contract\n",
        "    for j in range(len(data['data'][i]['paragraphs'][0]['qas'])):\n",
        "        \n",
        "        #Extract the specific clause from the question key using regex (clause always \"quoted\")\n",
        "        q_text = data['data'][i]['paragraphs'][0]['qas'][j]['question']\n",
        "        #Append clause to contract_clause list\n",
        "        contract_clause.append(re.search(r'\"(.*?)\"', q_text)[0].replace('\"',''))\n",
        "        \n",
        "        #Identify if clause found in cotnract and append to contract_clause_found list\n",
        "        contract_clause_found.append(data['data'][i]['paragraphs'][0]['qas'][j]['is_impossible'])\n",
        "    \n",
        "    #Append overal conract lists to clause and clause found lists (list within a list)\n",
        "    clause.append(contract_clause)\n",
        "    clause_found.append(contract_clause_found)\n",
        "    \n",
        "#Define function to flatten a list\n",
        "flatten = lambda t: [item for sublist in t for item in sublist]\n",
        "\n",
        "#Count total responses\n",
        "responded = Counter(flatten(clause_found))\n",
        "\n",
        "#To simplify analysis convert clause and clause_found to np.arrays\n",
        "clause = np.array(clause)\n",
        "clause_found = np.array(clause_found)"
      ],
      "execution_count": 13,
      "outputs": []
    },
    {
      "cell_type": "code",
      "metadata": {
        "id": "eJJ_hRu4UtXw"
      },
      "source": [
        "#Initate lists to store the specific clauses found and totals\n",
        "clauses_found = []\n",
        "clauses_found_num = []\n",
        "\n",
        "#For each contract, produce lists of the specific clauses and total number found\n",
        "for j in range(contracts):\n",
        "    clauses_found.append(clause[j][clause_found[j]])\n",
        "    clauses_found_num.append(len(clause[j][clause_found[j]]))"
      ],
      "execution_count": 14,
      "outputs": []
    },
    {
      "cell_type": "code",
      "metadata": {
        "id": "DzPFlEmEUtXw",
        "outputId": "6f2553a4-465e-4dba-e4a5-10d1e4bc8d22",
        "colab": {
          "base_uri": "https://localhost:8080/"
        }
      },
      "source": [
        "#Output Summary Analysis\n",
        "print('Each contract has minimum of {} questions answered'.format(min(qas_len)))\n",
        "print('Each contract has maximum of {} questions answered'.format(max(qas_len)))\n",
        "print('Of the {} questions asked in total, {} have had responses found'.format(*(contracts*max(qas_len),responded[False])))"
      ],
      "execution_count": 15,
      "outputs": [
        {
          "output_type": "stream",
          "text": [
            "Each contract has minimum of 41 questions answered\n",
            "Each contract has maximum of 41 questions answered\n",
            "Of the 20910 questions asked in total, 6702 have had responses found\n"
          ],
          "name": "stdout"
        }
      ]
    },
    {
      "cell_type": "code",
      "metadata": {
        "id": "8S_NmjLqUtXy",
        "outputId": "79fb2c22-e2b9-4304-f16b-6b16b86777de",
        "colab": {
          "base_uri": "https://localhost:8080/",
          "height": 644
        }
      },
      "source": [
        "plt.figure(figsize=(15,10))\n",
        "plt.title('Distribution of clauses in contracts\\n',size = 15)\n",
        "plt.hist(clauses_found_num,bins=22)\n",
        "plt.xlabel('Clause Count',size = 12)\n",
        "plt.ylabel('Frequency',size = 12)\n",
        "plt.show()"
      ],
      "execution_count": 16,
      "outputs": [
        {
          "output_type": "display_data",
          "data": {
            "image/png": "[encoded data removed]",
            "text/plain": [
              "<Figure size 1080x720 with 1 Axes>"
            ]
          },
          "metadata": {
            "tags": [],
            "needs_background": "light"
          }
        }
      ]
    },
    {
      "cell_type": "markdown",
      "metadata": {
        "id": "QgQ0aWyBUtXz"
      },
      "source": [
        "#### Labeling Data\n",
        "\n",
        "A manual mapping exercise has been completed to map the contract title to one of the know contract classes.  In most cases a direct mapping can be made.  in c80% of cases a decision has been made by the labeller regarding where to best map the data.\n",
        "\n",
        "This shows that with minimal intervention, Figure 3 can be recovered from the CUAD data"
      ]
    },
    {
      "cell_type": "code",
      "metadata": {
        "id": "VKH7hiCFUtXz",
        "outputId": "b592ed64-f04b-4859-a8d4-f42c8536d1ab",
        "colab": {
          "base_uri": "https://localhost:8080/",
          "height": 249
        }
      },
      "source": [
        "#Correct for a single identified edgecase in the data\n",
        "titles = [x.replace('É','E') for x in titles]\n",
        "\n",
        "#Read in and build a mapping from titles to label\n",
        "label_LU = {}\n",
        "\n",
        "with open('labels3.txt','r') as infile:\n",
        "    for line in infile:\n",
        "        label_data = line.strip().replace('\"','').split(sep='\\t')\n",
        "        label_LU[(label_data[0])] = label_data[1]\n",
        "        \n",
        "#label data with imported labels\n",
        "labels = [label_LU[x] for x in titles]"
      ],
      "execution_count": 17,
      "outputs": [
        {
          "output_type": "error",
          "ename": "FileNotFoundError",
          "evalue": "ignored",
          "traceback": [
            "\u001b[0;31m---------------------------------------------------------------------------\u001b[0m",
            "\u001b[0;31mFileNotFoundError\u001b[0m                         Traceback (most recent call last)",
            "\u001b[0;32m<ipython-input-17-db9b9f439000>\u001b[0m in \u001b[0;36m<module>\u001b[0;34m()\u001b[0m\n\u001b[1;32m      5\u001b[0m \u001b[0mlabel_LU\u001b[0m \u001b[0;34m=\u001b[0m \u001b[0;34m{\u001b[0m\u001b[0;34m}\u001b[0m\u001b[0;34m\u001b[0m\u001b[0;34m\u001b[0m\u001b[0m\n\u001b[1;32m      6\u001b[0m \u001b[0;34m\u001b[0m\u001b[0m\n\u001b[0;32m----> 7\u001b[0;31m \u001b[0;32mwith\u001b[0m \u001b[0mopen\u001b[0m\u001b[0;34m(\u001b[0m\u001b[0;34m'labels3.txt'\u001b[0m\u001b[0;34m,\u001b[0m\u001b[0;34m'r'\u001b[0m\u001b[0;34m)\u001b[0m \u001b[0;32mas\u001b[0m \u001b[0minfile\u001b[0m\u001b[0;34m:\u001b[0m\u001b[0;34m\u001b[0m\u001b[0;34m\u001b[0m\u001b[0m\n\u001b[0m\u001b[1;32m      8\u001b[0m     \u001b[0;32mfor\u001b[0m \u001b[0mline\u001b[0m \u001b[0;32min\u001b[0m \u001b[0minfile\u001b[0m\u001b[0;34m:\u001b[0m\u001b[0;34m\u001b[0m\u001b[0;34m\u001b[0m\u001b[0m\n\u001b[1;32m      9\u001b[0m         \u001b[0mlabel_data\u001b[0m \u001b[0;34m=\u001b[0m \u001b[0mline\u001b[0m\u001b[0;34m.\u001b[0m\u001b[0mstrip\u001b[0m\u001b[0;34m(\u001b[0m\u001b[0;34m)\u001b[0m\u001b[0;34m.\u001b[0m\u001b[0mreplace\u001b[0m\u001b[0;34m(\u001b[0m\u001b[0;34m'\"'\u001b[0m\u001b[0;34m,\u001b[0m\u001b[0;34m''\u001b[0m\u001b[0;34m)\u001b[0m\u001b[0;34m.\u001b[0m\u001b[0msplit\u001b[0m\u001b[0;34m(\u001b[0m\u001b[0msep\u001b[0m\u001b[0;34m=\u001b[0m\u001b[0;34m'\\t'\u001b[0m\u001b[0;34m)\u001b[0m\u001b[0;34m\u001b[0m\u001b[0;34m\u001b[0m\u001b[0m\n",
            "\u001b[0;31mFileNotFoundError\u001b[0m: [Errno 2] No such file or directory: 'labels3.txt'"
          ]
        }
      ]
    },
    {
      "cell_type": "code",
      "metadata": {
        "id": "SV-4KM-lUtX0"
      },
      "source": [
        "#Output count analysis of labels\n",
        "label_counts = Counter(labels)\n",
        "pd.DataFrame(label_counts.values(),index=label_counts.keys(),columns=['counts'])"
      ],
      "execution_count": null,
      "outputs": []
    },
    {
      "cell_type": "markdown",
      "metadata": {
        "id": "hiGbtEs3UtX1"
      },
      "source": [
        "## Build Labled Data Of Annotations"
      ]
    },
    {
      "cell_type": "code",
      "metadata": {
        "id": "kNa3069HUtX1"
      },
      "source": [
        "from collections import defaultdict"
      ],
      "execution_count": null,
      "outputs": []
    },
    {
      "cell_type": "code",
      "metadata": {
        "id": "kJn9camAUtX2"
      },
      "source": [
        "contract_data =defaultdict(list)\n",
        "check_count = 0\n",
        "#For each contract in the data\n",
        "for i in range(contracts):\n",
        "    c_title = titles[i]\n",
        "    c_label = labels[i] \n",
        "    \n",
        "    for j in range(len(data['data'][i]['paragraphs'][0]['qas'])):\n",
        "        \n",
        "        q_text = data['data'][i]['paragraphs'][0]['qas'][j]['question']\n",
        "        c_clause = re.search(r'\"(.*?)\"', q_text)[0].replace('\"','')\n",
        "        \n",
        "        if not data['data'][i]['paragraphs'][0]['qas'][j]['is_impossible']:\n",
        "            check_count += 1\n",
        "        \n",
        "            for k in range(len(data['data'][i]['paragraphs'][0]['qas'][j]['answers'])):\n",
        "\n",
        "                c_text = data['data'][i]['paragraphs'][0]['qas'][j]['answers'][k]['text']\n",
        "                \n",
        "                contract_data['contract'].append(c_title)\n",
        "                contract_data['type'].append(c_label)\n",
        "                contract_data['clause'].append(c_clause)\n",
        "                contract_data['text'].append(str(c_text))\n",
        "            \n",
        "\"\"\"EXPORT DATA AS JSON\"\"\""
      ],
      "execution_count": null,
      "outputs": []
    },
    {
      "cell_type": "code",
      "metadata": {
        "id": "NDZM44JDUtX3"
      },
      "source": [
        "#Build dataframe of clause data\n",
        "clause_data = pd.DataFrame(contract_data)\n",
        "\n",
        "#determine counts of clauses and sort by count results\n",
        "cl, cl_count = np.unique(clause_data['clause'],return_counts=True)\n",
        "idx = np.argsort(cl_count)\n",
        "cl, cl_count = cl[idx],cl_count[idx] \n",
        "\n",
        "#Plot sorted count volumes\n",
        "plt.figure(figsize=(15,10))\n",
        "plt.barh(cl, cl_count)\n",
        "plt.title('Count of clause text foind in contracts\\n',size = 15)\n",
        "plt.xlabel('Count',size = 12)\n",
        "plt.ylabel('Clause',size = 12)\n",
        "plt.show()"
      ],
      "execution_count": null,
      "outputs": []
    },
    {
      "cell_type": "code",
      "metadata": {
        "id": "lqHAPDd8UtX4"
      },
      "source": [
        ""
      ],
      "execution_count": null,
      "outputs": []
    },
    {
      "cell_type": "code",
      "metadata": {
        "id": "oGRNv60FUtX4"
      },
      "source": [
        ""
      ],
      "execution_count": null,
      "outputs": []
    }
  ]
}