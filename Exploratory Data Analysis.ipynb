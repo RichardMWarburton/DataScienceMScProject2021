{
 "cells": [
  {
   "cell_type": "markdown",
   "metadata": {},
   "source": [
    "# Exploratory Data Analysis"
   ]
  },
  {
   "cell_type": "code",
   "execution_count": 1,
   "metadata": {},
   "outputs": [],
   "source": [
    "from zipfile import ZipFile\n",
    "import json\n",
    "import wget\n",
    "import os\n",
    "from collections import Counter\n",
    "import matplotlib.pyplot as plt\n",
    "import re\n",
    "import numpy as np\n",
    "import pandas as pd"
   ]
  },
  {
   "cell_type": "markdown",
   "metadata": {},
   "source": [
    "## The Data\n",
    "\n",
    "CUAD: An Expert-Annotated NLP Dataset for Legal Contract Review\n",
    "\n",
    "https://arxiv.org/abs/2103.06268\n",
    "\n",
    "This code is an adaptation of the scrape.py file avaliable on the github repository for CUAD.  It has been adapted to run in Jypter notebooks and allow us to step throght the coding line by line.`"
   ]
  },
  {
   "cell_type": "markdown",
   "metadata": {},
   "source": [
    "### Download repository and extract data"
   ]
  },
  {
   "cell_type": "code",
   "execution_count": 2,
   "metadata": {},
   "outputs": [],
   "source": [
    "def extract_zip(pth,data_pth = None):\n",
    "    \"\"\"Function to extract contents of a zip file to a specified location (wd if data_pth not passed)\"\"\"\n",
    "    with ZipFile(pth, 'r') as zipObj:\n",
    "       # Extract all the contents of zip file in different directory\n",
    "       zipObj.extractall(data_pth)"
   ]
  },
  {
   "cell_type": "code",
   "execution_count": 3,
   "metadata": {},
   "outputs": [],
   "source": [
    "#If it does not already exist, download CUAD git repository\n",
    "if not os.path.isdir('cuad-main'):\n",
    "    wget.download('https://github.com/TheAtticusProject/cuad/archive/refs/heads/main.zip')\n",
    "    extract_zip('main.zip')"
   ]
  },
  {
   "cell_type": "code",
   "execution_count": 4,
   "metadata": {},
   "outputs": [],
   "source": [
    "#If it has not already been extracted, extract the contents of data.zip\n",
    "if not os.path.isdir('cuad-main/data'):\n",
    "    os.makedirs('cuad-main/data')\n",
    "    extract_zip('cuad-main/data.zip','cuad-main/data/')"
   ]
  },
  {
   "cell_type": "markdown",
   "metadata": {},
   "source": [
    "### Load CUADv1.json data"
   ]
  },
  {
   "cell_type": "code",
   "execution_count": 5,
   "metadata": {},
   "outputs": [],
   "source": [
    "#Load CUADv1 JSON to data\n",
    "with open('cuad-main/data/CUADv1.json','r') as infile:\n",
    "    for line in infile:\n",
    "        data = json.loads(line)"
   ]
  },
  {
   "cell_type": "markdown",
   "metadata": {},
   "source": [
    "#### Examples of data within the data dictionary"
   ]
  },
  {
   "cell_type": "code",
   "execution_count": 6,
   "metadata": {},
   "outputs": [
    {
     "name": "stdout",
     "output_type": "stream",
     "text": [
      "Title: LIMEENERGYCO_09_09_1999-EX-10-DISTRIBUTOR AGREEMENT\n",
      "Question: Highlight the parts (if any) of this contract related to \"Document Name\" that should be reviewed by a lawyer. Details: The name of the contract\n",
      "Is_Possible: False\n"
     ]
    }
   ],
   "source": [
    "print('Title:',data['data'][0]['title'])\n",
    "print('Question:',data['data'][0]['paragraphs'][0]['qas'][0]['question'])\n",
    "print('Is_Possible:',data['data'][0]['paragraphs'][0]['qas'][0]['is_impossible'])"
   ]
  },
  {
   "cell_type": "code",
   "execution_count": 7,
   "metadata": {},
   "outputs": [
    {
     "name": "stdout",
     "output_type": "stream",
     "text": [
      "There are 510 contracts in the data set\n"
     ]
    }
   ],
   "source": [
    "#Determine number of contracts within the data dictionary\n",
    "contracts = len(data['data'])\n",
    "print('There are {} contracts in the data set'.format(contracts))"
   ]
  },
  {
   "cell_type": "markdown",
   "metadata": {},
   "source": [
    "#### Explore the responses within the data"
   ]
  },
  {
   "cell_type": "code",
   "execution_count": 8,
   "metadata": {},
   "outputs": [],
   "source": [
    "#Initate lists to store responses\n",
    "titles =[]\n",
    "paragraph_len = []\n",
    "qas_len = []\n",
    "clause = []\n",
    "clause_found = []\n",
    "\n",
    "#For each contract in the data\n",
    "for i in range(contracts):\n",
    "    #Append the title to titles\n",
    "    titles.append(data['data'][i]['title'])\n",
    "    \n",
    "    #Append the length of the paragraph key to the data to paragraph_len\n",
    "    paragraph_len.append(len(data['data'][i]['paragraphs']))\n",
    "    \n",
    "    #Append the number of clauses investigated for each contract to qas_len\n",
    "    qas_len.append(len(data['data'][i]['paragraphs'][0]['qas']))\n",
    "    \n",
    "    #Initate lists for the contract to capture clauses investigated and if responses found in contract\n",
    "    contract_clause= []\n",
    "    contract_clause_found = []\n",
    "    \n",
    "    #For each clause investigated in contract\n",
    "    for j in range(len(data['data'][i]['paragraphs'][0]['qas'])):\n",
    "        \n",
    "        #Extract the specific clause from the question key using regex (clause always \"quoted\")\n",
    "        q_text = data['data'][i]['paragraphs'][0]['qas'][j]['question']\n",
    "        #Append clause to contract_clause list\n",
    "        contract_clause.append(re.search(r'\"(.*?)\"', q_text)[0].replace('\"',''))\n",
    "        \n",
    "        #Identify if clause found in cotnract and append to contract_clause_found list\n",
    "        contract_clause_found.append(data['data'][i]['paragraphs'][0]['qas'][j]['is_impossible'])\n",
    "    \n",
    "    #Append overal conract lists to clause and clause found lists (list within a list)\n",
    "    clause.append(contract_clause)\n",
    "    clause_found.append(contract_clause_found)\n",
    "    \n",
    "#Define function to flatten a list\n",
    "flatten = lambda t: [item for sublist in t for item in sublist]\n",
    "\n",
    "#Count total responses\n",
    "responded = Counter(flatten(clause_found))\n",
    "\n",
    "#To simplify analysis convert clause and clause_found to np.arrays\n",
    "clause = np.array(clause)\n",
    "clause_found = np.array(clause_found)"
   ]
  },
  {
   "cell_type": "code",
   "execution_count": 9,
   "metadata": {},
   "outputs": [],
   "source": [
    "#Initate lists to store the specific clauses found and totals\n",
    "clauses_found = []\n",
    "clauses_found_num = []\n",
    "\n",
    "#For each contract, produce lists of the specific clauses and total number found\n",
    "for j in range(contracts):\n",
    "    clauses_found.append(clause[j][clause_found[j]])\n",
    "    clauses_found_num.append(len(clause[j][clause_found[j]]))"
   ]
  },
  {
   "cell_type": "code",
   "execution_count": 18,
   "metadata": {},
   "outputs": [
    {
     "name": "stdout",
     "output_type": "stream",
     "text": [
      "Each contract has minimum of 41 questions answered\n",
      "Each contract has maximum of 41 questions answered\n",
      "Of the 20910 questions asked in total, 6702 have had responses found\n"
     ]
    }
   ],
   "source": [
    "#Output Summary Analysis\n",
    "print('Each contract has minimum of {} questions answered'.format(min(qas_len)))\n",
    "print('Each contract has maximum of {} questions answered'.format(max(qas_len)))\n",
    "print('Of the {} questions asked in total, {} have had responses found'.format(*(contracts*max(qas_len),responded[False])))"
   ]
  },
  {
   "cell_type": "code",
   "execution_count": 11,
   "metadata": {},
   "outputs": [
    {
     "data": {
      "image/png": "[encoded data removed]",
      "text/plain": [
       "<Figure size 1080x720 with 1 Axes>"
      ]
     },
     "metadata": {
      "needs_background": "light"
     },
     "output_type": "display_data"
    }
   ],
   "source": [
    "plt.figure(figsize=(15,10))\n",
    "plt.title('Distribution of clauses in contracts\\n',size = 15)\n",
    "plt.hist(clauses_found_num,bins=22)\n",
    "plt.xlabel('Clause Count',size = 12)\n",
    "plt.ylabel('Frequency',size = 12)\n",
    "plt.show()"
   ]
  },
  {
   "cell_type": "markdown",
   "metadata": {},
   "source": [
    "#### Labeling Data\n",
    "\n",
    "A manual mapping exercise has been completed to map the contract title to one of the know contract classes.  In most cases a direct mapping can be made.  in c80% of cases a decision has been made by the labeller regarding where to best map the data.\n",
    "\n",
    "This shows that with minimal intervention, Figure 3 can be recovered from the CUAD data"
   ]
  },
  {
   "cell_type": "code",
   "execution_count": 12,
   "metadata": {},
   "outputs": [],
   "source": [
    "#Correct for a single identified edgecase in the data\n",
    "titles = [x.replace('É','E') for x in titles]\n",
    "\n",
    "#Read in and build a mapping from titles to label\n",
    "label_LU = {}\n",
    "\n",
    "with open('labels3.txt','r') as infile:\n",
    "    for line in infile:\n",
    "        label_data = line.strip().replace('\"','').split(sep='\\t')\n",
    "        label_LU[(label_data[0])] = label_data[1]\n",
    "        \n",
    "#label data with imported labels\n",
    "labels = [label_LU[x] for x in titles]"
   ]
  },
  {
   "cell_type": "code",
   "execution_count": 13,
   "metadata": {},
   "outputs": [
    {
     "data": {
      "text/html": [
       "<div>\n",
       "<style scoped>\n",
       "    .dataframe tbody tr th:only-of-type {\n",
       "        vertical-align: middle;\n",
       "    }\n",
       "\n",
       "    .dataframe tbody tr th {\n",
       "        vertical-align: top;\n",
       "    }\n",
       "\n",
       "    .dataframe thead th {\n",
       "        text-align: right;\n",
       "    }\n",
       "</style>\n",
       "<table border=\"1\" class=\"dataframe\">\n",
       "  <thead>\n",
       "    <tr style=\"text-align: right;\">\n",
       "      <th></th>\n",
       "      <th>counts</th>\n",
       "    </tr>\n",
       "  </thead>\n",
       "  <tbody>\n",
       "    <tr>\n",
       "      <th>distributor agreement</th>\n",
       "      <td>32</td>\n",
       "    </tr>\n",
       "    <tr>\n",
       "      <th>promotion agreement</th>\n",
       "      <td>12</td>\n",
       "    </tr>\n",
       "    <tr>\n",
       "      <th>supply agreement</th>\n",
       "      <td>18</td>\n",
       "    </tr>\n",
       "    <tr>\n",
       "      <th>hosting agreement</th>\n",
       "      <td>20</td>\n",
       "    </tr>\n",
       "    <tr>\n",
       "      <th>joint venture agreement</th>\n",
       "      <td>23</td>\n",
       "    </tr>\n",
       "    <tr>\n",
       "      <th>endorsement agreement</th>\n",
       "      <td>24</td>\n",
       "    </tr>\n",
       "    <tr>\n",
       "      <th>consulting agreement</th>\n",
       "      <td>11</td>\n",
       "    </tr>\n",
       "    <tr>\n",
       "      <th>marketing agreement</th>\n",
       "      <td>17</td>\n",
       "    </tr>\n",
       "    <tr>\n",
       "      <th>strategic alliance agreement</th>\n",
       "      <td>32</td>\n",
       "    </tr>\n",
       "    <tr>\n",
       "      <th>sponsorship agreement</th>\n",
       "      <td>31</td>\n",
       "    </tr>\n",
       "    <tr>\n",
       "      <th>franchise agreement</th>\n",
       "      <td>15</td>\n",
       "    </tr>\n",
       "    <tr>\n",
       "      <th>ip agreement</th>\n",
       "      <td>17</td>\n",
       "    </tr>\n",
       "    <tr>\n",
       "      <th>service agreement</th>\n",
       "      <td>28</td>\n",
       "    </tr>\n",
       "    <tr>\n",
       "      <th>agency agreement</th>\n",
       "      <td>13</td>\n",
       "    </tr>\n",
       "    <tr>\n",
       "      <th>maintenance agreement</th>\n",
       "      <td>34</td>\n",
       "    </tr>\n",
       "    <tr>\n",
       "      <th>license agreement</th>\n",
       "      <td>33</td>\n",
       "    </tr>\n",
       "    <tr>\n",
       "      <th>collaboration agreement</th>\n",
       "      <td>26</td>\n",
       "    </tr>\n",
       "    <tr>\n",
       "      <th>reseller agreement</th>\n",
       "      <td>12</td>\n",
       "    </tr>\n",
       "    <tr>\n",
       "      <th>development agreement</th>\n",
       "      <td>29</td>\n",
       "    </tr>\n",
       "    <tr>\n",
       "      <th>outsourcing agreement</th>\n",
       "      <td>18</td>\n",
       "    </tr>\n",
       "    <tr>\n",
       "      <th>co-branding agreement</th>\n",
       "      <td>22</td>\n",
       "    </tr>\n",
       "    <tr>\n",
       "      <th>affiliate agreement</th>\n",
       "      <td>10</td>\n",
       "    </tr>\n",
       "    <tr>\n",
       "      <th>manufacturing agreement</th>\n",
       "      <td>17</td>\n",
       "    </tr>\n",
       "    <tr>\n",
       "      <th>transportation agreement</th>\n",
       "      <td>13</td>\n",
       "    </tr>\n",
       "    <tr>\n",
       "      <th>non-compete agreement</th>\n",
       "      <td>3</td>\n",
       "    </tr>\n",
       "  </tbody>\n",
       "</table>\n",
       "</div>"
      ],
      "text/plain": [
       "                              counts\n",
       "distributor agreement             32\n",
       "promotion agreement               12\n",
       "supply agreement                  18\n",
       "hosting agreement                 20\n",
       "joint venture agreement           23\n",
       "endorsement agreement             24\n",
       "consulting agreement              11\n",
       "marketing agreement               17\n",
       "strategic alliance agreement      32\n",
       "sponsorship agreement             31\n",
       "franchise agreement               15\n",
       "ip agreement                      17\n",
       "service agreement                 28\n",
       "agency agreement                  13\n",
       "maintenance agreement             34\n",
       "license agreement                 33\n",
       "collaboration agreement           26\n",
       "reseller agreement                12\n",
       "development agreement             29\n",
       "outsourcing agreement             18\n",
       "co-branding agreement             22\n",
       "affiliate agreement               10\n",
       "manufacturing agreement           17\n",
       "transportation agreement          13\n",
       "non-compete agreement              3"
      ]
     },
     "execution_count": 13,
     "metadata": {},
     "output_type": "execute_result"
    }
   ],
   "source": [
    "#Output count analysis of labels\n",
    "label_counts = Counter(labels)\n",
    "pd.DataFrame(label_counts.values(),index=label_counts.keys(),columns=['counts'])"
   ]
  },
  {
   "cell_type": "markdown",
   "metadata": {},
   "source": [
    "## Build Labled Data Of Annotations"
   ]
  },
  {
   "cell_type": "code",
   "execution_count": 14,
   "metadata": {},
   "outputs": [],
   "source": [
    "from collections import defaultdict"
   ]
  },
  {
   "cell_type": "code",
   "execution_count": 21,
   "metadata": {},
   "outputs": [],
   "source": [
    "contract_data =defaultdict(list)\n",
    "check_count = 0\n",
    "#For each contract in the data\n",
    "for i in range(contracts):\n",
    "    c_title = titles[i]\n",
    "    c_label = labels[i] \n",
    "    \n",
    "    for j in range(len(data['data'][i]['paragraphs'][0]['qas'])):\n",
    "        \n",
    "        q_text = data['data'][i]['paragraphs'][0]['qas'][j]['question']\n",
    "        c_clause = re.search(r'\"(.*?)\"', q_text)[0].replace('\"','')\n",
    "        \n",
    "        if not data['data'][i]['paragraphs'][0]['qas'][j]['is_impossible']:\n",
    "            check_count += 1\n",
    "        \n",
    "            for k in range(len(data['data'][i]['paragraphs'][0]['qas'][j]['answers'])):\n",
    "\n",
    "                c_text = data['data'][i]['paragraphs'][0]['qas'][j]['answers'][k]['text']\n",
    "                \n",
    "                contract_data['contract'].append(c_title)\n",
    "                contract_data['type'].append(c_label)\n",
    "                contract_data['clause'].append(c_clause)\n",
    "                contract_data['text'].append(str(c_text))\n",
    "            \n",
    "\"\"\"EXPORT DATA AS JSON\"\"\""
   ]
  },
  {
   "cell_type": "code",
   "execution_count": 48,
   "metadata": {},
   "outputs": [
    {
     "data": {
      "image/png": "[encoded data removed]",
      "text/plain": [
       "<Figure size 1080x720 with 1 Axes>"
      ]
     },
     "metadata": {
      "needs_background": "light"
     },
     "output_type": "display_data"
    }
   ],
   "source": [
    "#Build dataframe of clause data\n",
    "clause_data = pd.DataFrame(contract_data)\n",
    "\n",
    "#determine counts of clauses and sort by count results\n",
    "cl, cl_count = np.unique(clause_data['clause'],return_counts=True)\n",
    "idx = np.argsort(cl_count)\n",
    "cl, cl_count = cl[idx],cl_count[idx] \n",
    "\n",
    "#Plot sorted count volumes\n",
    "plt.figure(figsize=(15,10))\n",
    "plt.barh(cl, cl_count)\n",
    "plt.title('Count of clause text foind in contracts\\n',size = 15)\n",
    "plt.xlabel('Count',size = 12)\n",
    "plt.ylabel('Clause',size = 12)\n",
    "plt.show()"
   ]
  },
  {
   "cell_type": "code",
   "execution_count": null,
   "metadata": {},
   "outputs": [],
   "source": []
  },
  {
   "cell_type": "code",
   "execution_count": null,
   "metadata": {},
   "outputs": [],
   "source": []
  }
 ],
 "metadata": {
  "kernelspec": {
   "display_name": "Python 3",
   "language": "python",
   "name": "python3"
  },
  "language_info": {
   "codemirror_mode": {
    "name": "ipython",
    "version": 3
   },
   "file_extension": ".py",
   "mimetype": "text/x-python",
   "name": "python",
   "nbconvert_exporter": "python",
   "pygments_lexer": "ipython3",
   "version": "3.7.4"
  }
 },
 "nbformat": 4,
 "nbformat_minor": 4
}
