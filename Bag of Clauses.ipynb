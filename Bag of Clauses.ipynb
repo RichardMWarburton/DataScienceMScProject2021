{
 "cells": [
  {
   "cell_type": "code",
   "execution_count": 32,
   "id": "46ae41cc",
   "metadata": {},
   "outputs": [],
   "source": [
    "#Import required packages\n",
    "from DownloadCUAD import DownloadCUAD\n",
    "from UsefulProjectFunctions import print_class_samples, write_vector\n",
    "from collections import defaultdict\n",
    "import numpy as np\n",
    "import os"
   ]
  },
  {
   "cell_type": "code",
   "execution_count": 2,
   "id": "c77c6e09",
   "metadata": {},
   "outputs": [
    {
     "name": "stdout",
     "output_type": "stream",
     "text": [
      "CUAD data downloading...\n",
      "CUAD data downloaded & extracted!\n"
     ]
    }
   ],
   "source": [
    "#Download CUAD Data to local drive\n",
    "DC = DownloadCUAD()\n",
    "DC.setup()"
   ]
  },
  {
   "cell_type": "code",
   "execution_count": 16,
   "id": "e4da7db9",
   "metadata": {},
   "outputs": [],
   "source": [
    "contracts = DC.extract_contracts(True)"
   ]
  },
  {
   "cell_type": "code",
   "execution_count": 34,
   "id": "93793b99",
   "metadata": {},
   "outputs": [],
   "source": [
    "#Initate Bag of Clauses\n",
    "bag_of_clauses = defaultdict(dict)\n",
    "\n",
    "#For each contract, identify clauses within it and build BoC\n",
    "for contract in contracts['contract title'].unique():\n",
    "    idx = contracts['contract title'] == contract\n",
    "    clauses = contracts[idx]['clause']\n",
    "    for clause in clauses.unique():\n",
    "        bag_of_clauses[contract][clause] = np.nan\n",
    "        "
   ]
  },
  {
   "cell_type": "markdown",
   "id": "807487cb",
   "metadata": {},
   "source": [
    "## Import Vectorized Clauses"
   ]
  },
  {
   "cell_type": "code",
   "execution_count": 51,
   "id": "8fdc7b59",
   "metadata": {},
   "outputs": [],
   "source": [
    "#Define path\n",
    "pth = os.getcwd() + '\\\\BoC Data\\\\'\n",
    "\n",
    "#Identify files in BoC Data Folder\n",
    "BoC_files = os.listdir(pth)\n",
    "\n",
    "#Read Files and add to bag_of_clauses\n",
    "for file in BoC_files:\n",
    "    clause = file.replace('.txt','').replace('_',' ')\n",
    "    with open(pth + file,'r',encoding ='UTF-8') as infile:\n",
    "        for line in infile:\n",
    "            data = line.split(sep='\\t')\n",
    "            bag_of_clauses[data[0]][clause] = data[1].strip()"
   ]
  },
  {
   "cell_type": "code",
   "execution_count": 63,
   "id": "7f7e5762",
   "metadata": {},
   "outputs": [
    {
     "name": "stdout",
     "output_type": "stream",
     "text": [
      "Bag of Clauses for: WHITESMOKE,INC_11_08_2011-EX-10.26-PROMOTION AND DISTRIBUTION AGREEMENT \n",
      "\n"
     ]
    },
    {
     "data": {
      "text/plain": [
       "{'Document Name': nan,\n",
       " 'Parties': nan,\n",
       " 'Effective Date': nan,\n",
       " 'Expiration Date': nan,\n",
       " 'Governing Law': '[0, 0, 0, 0, 0, 0, 0, 0, 0, 0, 0, 0, 0, 0, 0, 0, 0, 0, 0, 0, 0, 0, 0, 0, 0, 0, 0, 0, 0, 0, 1, 0, 0, 0, 0, 0, 0, 0, 0, 0, 0, 0, 0, 0, 0, 0, 0, 0, 0, 0, 0, 0, 0, 0, 0, 0, 0, 0, 0, 0, 0, 0, 0, 0, 0, 0, 0, 0, 0, 0, 0, 0, 0, 0, 0, 0, 0, 0, 0, 0, 0, 0, 0, 0, 0, 0, 0, 0, 0, 0, 0, 0, 0, 0, 0, 0, 0, 0, 0, 0, 0, 0, 0]',\n",
       " 'Change Of Control': nan,\n",
       " 'Anti-Assignment': nan,\n",
       " 'License Grant': nan,\n",
       " 'Audit Rights': '[0.6623280786078156, 0.0, 0.0, 0.0, 0.7492139322567882, 0.0, 0.0, 0.0, 0.0, 0.0, 0.0, 0.0, 0.0, 0.0, 0.0]',\n",
       " 'Uncapped Liability': nan,\n",
       " 'Cap On Liability': nan,\n",
       " 'Warranty Duration': nan}"
      ]
     },
     "execution_count": 63,
     "metadata": {},
     "output_type": "execute_result"
    }
   ],
   "source": [
    "#Output Example\n",
    "contract_of_interst = list(bag_of_clauses.keys())[1]\n",
    "\n",
    "print('Bag of Clauses for:', contract_of_interst,'\\n')\n",
    "\n",
    "bag_of_clauses[contract_of_interst]"
   ]
  }
 ],
 "metadata": {
  "kernelspec": {
   "display_name": "Python 3",
   "language": "python",
   "name": "python3"
  },
  "language_info": {
   "codemirror_mode": {
    "name": "ipython",
    "version": 3
   },
   "file_extension": ".py",
   "mimetype": "text/x-python",
   "name": "python",
   "nbconvert_exporter": "python",
   "pygments_lexer": "ipython3",
   "version": "3.8.8"
  }
 },
 "nbformat": 4,
 "nbformat_minor": 5
}
