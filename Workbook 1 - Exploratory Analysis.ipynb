{
 "cells": [
  {
   "cell_type": "markdown",
   "id": "459bcfcc",
   "metadata": {},
   "source": [
    "# Clause and Contract Text Investigation"
   ]
  },
  {
   "cell_type": "markdown",
   "id": "025eb9ad",
   "metadata": {},
   "source": [
    "This workbook caries out some simple preliminary exploratory analysis in to the clauses and the text of the Governing Law and Audit Rights Clauses"
   ]
  },
  {
   "cell_type": "markdown",
   "id": "99e58f1a",
   "metadata": {},
   "source": [
    "## Section 1: Download Data & Extract Clause Of Interest\n",
    "\n",
    "\n",
    "This uses a customized class (DownloadCUAD) to download the CUAD data and extract the required data to the working memory.\n"
   ]
  },
  {
   "cell_type": "code",
   "execution_count": 1,
   "id": "eb486e2f",
   "metadata": {},
   "outputs": [
    {
     "name": "stderr",
     "output_type": "stream",
     "text": [
      "[nltk_data] Downloading package stopwords to\n",
      "[nltk_data]     C:\\Users\\RichardWarburton\\AppData\\Roaming\\nltk_data...\n",
      "[nltk_data]   Package stopwords is already up-to-date!\n"
     ]
    }
   ],
   "source": [
    "#Import required packages for section\n",
    "from DownloadCUAD import DownloadCUAD\n",
    "import pandas as pd\n",
    "from collections import defaultdict\n",
    "import matplotlib.pyplot as plt\n",
    "from scipy import stats\n",
    "import numpy as np"
   ]
  },
  {
   "cell_type": "code",
   "execution_count": 2,
   "id": "bbabe83e",
   "metadata": {},
   "outputs": [
    {
     "name": "stdout",
     "output_type": "stream",
     "text": [
      "CUAD data already downloaded & extracted!\n"
     ]
    }
   ],
   "source": [
    "#Download CUAD Data to local drive\n",
    "DC = DownloadCUAD()\n",
    "DC.setup()"
   ]
  },
  {
   "cell_type": "code",
   "execution_count": 3,
   "id": "977adf40",
   "metadata": {},
   "outputs": [
    {
     "name": "stdout",
     "output_type": "stream",
     "text": [
      "There are 437 contracts (85.69%) with 'Governing Law' annotations\n",
      "There are 25 contracts with more than one annotation\n",
      "There are 214 contracts (41.96%) with 'Audit Rights' annotations\n",
      "There are 136 contracts with more than one annotation\n"
     ]
    }
   ],
   "source": [
    "#Extract data from CUAD\n",
    "clause_data,raw_data = DC.extract_contracts()\n",
    "\n",
    "#Concatenate string where there are multiple annotations.\n",
    "contracts_GL,combined_annotations_GL = DC.extract_clause('Governing Law',True)\n",
    "contracts_AR,combined_annotations_AR = DC.extract_clause('Audit Rights',True)"
   ]
  },
  {
   "cell_type": "code",
   "execution_count": 4,
   "id": "38591bda",
   "metadata": {},
   "outputs": [],
   "source": [
    "#Initate clause list defult dict\n",
    "clause_list = defaultdict(list)\n",
    "\n",
    "for i in range(len(clause_data['contract title'])):\n",
    "    clause_list[clause_data['contract title'][i]].append(clause_data['clause'][i])\n",
    "\n",
    "#Defnine function to obtian len of list/array elememnts\n",
    "length_fn = lambda array : list(map(len,array))\n",
    "\n",
    "#Determine lenght of clause lists and respective annotations.\n",
    "clause_lens = length_fn(clause_list.values())\n",
    "AR_lens = length_fn(combined_annotations_AR)\n",
    "GL_lens = length_fn(combined_annotations_GL)"
   ]
  },
  {
   "cell_type": "markdown",
   "id": "cf6cd09f",
   "metadata": {},
   "source": [
    "## Section 2: Summary Analysis"
   ]
  },
  {
   "cell_type": "markdown",
   "id": "6ab31b1d",
   "metadata": {},
   "source": [
    "Analysis of character length of clause text and clauses annotated within contracts."
   ]
  },
  {
   "cell_type": "code",
   "execution_count": 5,
   "id": "620bc930",
   "metadata": {},
   "outputs": [
    {
     "data": {
      "image/png": "[encoded data removed]",
      "text/plain": [
       "<Figure size 1440x360 with 3 Axes>"
      ]
     },
     "metadata": {
      "needs_background": "light"
     },
     "output_type": "display_data"
    }
   ],
   "source": [
    "#Plot histograms of clause counts and character lenghts\n",
    "fig,axs = plt.subplots(1,3,figsize = (20,5))\n",
    "\n",
    "#Plot clause coutns\n",
    "axs[0].hist(clause_lens,bins = 20)\n",
    "axs[0].set_xlabel('Clauses Labeled')\n",
    "axs[0].set_title('Histogram of Labelled Clause Counts Per Contract\\n')\n",
    "axs[0].set_ylim([0,100])\n",
    "axs[0].grid(alpha=0.3)\n",
    "\n",
    "#plot governing law character lengths\n",
    "axs[1].hist(GL_lens,bins = 20)\n",
    "axs[1].set_xlabel('Clauses Length (Characters)')\n",
    "axs[1].set_title('Histogram of Governing Law Clause Length\\n')\n",
    "axs[1].set_ylim([0,100])\n",
    "axs[1].grid(alpha=0.3)\n",
    "\n",
    "#Plot Audit Rights character lenghts\n",
    "axs[2].hist(AR_lens,bins = 20)\n",
    "axs[2].set_xlabel('Clauses Length (Characters)')\n",
    "axs[2].set_title('Histogram of Audit Rights Clause Length\\n')\n",
    "axs[2].set_ylim([0,100])\n",
    "axs[2].grid(alpha=0.3)\n",
    "\n",
    "#Output and save plot\n",
    "plt.savefig('Fig2.png',bbox_inches='tight')\n",
    "plt.show()"
   ]
  },
  {
   "cell_type": "code",
   "execution_count": 6,
   "id": "d9f6bf75",
   "metadata": {},
   "outputs": [],
   "source": [
    "def print_sum(arr,txt=''):\n",
    "    \"\"\"Function to print mean and Var of an array (arr)\"\"\"\n",
    "    if txt != '':\n",
    "        print(txt+':\\n')\n",
    "        \n",
    "    print('Mean:\\t {2:.2f}'.format(*stats.describe(arr)))\n",
    "    print('Var:\\t {3:.2f}'.format(*stats.describe(arr)))"
   ]
  },
  {
   "cell_type": "code",
   "execution_count": 7,
   "id": "a031b99c",
   "metadata": {},
   "outputs": [
    {
     "name": "stdout",
     "output_type": "stream",
     "text": [
      "Clauses per contract:\n",
      "\n",
      "Mean:\t 27.10\n",
      "Var:\t 328.36\n",
      "\n",
      "Governing Law Character Length:\n",
      "\n",
      "Mean:\t 215.82\n",
      "Var:\t 14548.13\n",
      "\n",
      "Audit Rights Character Length:\n",
      "\n",
      "Mean:\t 914.00\n",
      "Var:\t 917079.76\n"
     ]
    }
   ],
   "source": [
    "#Output summary statistics for plots\n",
    "print_sum(clause_lens,txt='Clauses per contract')\n",
    "print_sum(GL_lens,txt='\\nGoverning Law Character Length')\n",
    "print_sum(AR_lens,txt='\\nAudit Rights Character Length')"
   ]
  },
  {
   "cell_type": "markdown",
   "id": "6ecdd11b",
   "metadata": {},
   "source": [
    "## Example of the Elbow Method Selection\n",
    "\n",
    "The following is a constructed example used to demonstrate the 'Elbow' method of selecting the clusters K in a KMeans algorithm."
   ]
  },
  {
   "cell_type": "code",
   "execution_count": 8,
   "id": "9e8816d0",
   "metadata": {},
   "outputs": [],
   "source": [
    "#Initate hypothetical array examples\n",
    "vals = [700,300,100,90,77,71,60,59,55,52,51]\n",
    "k_r = np.arange(1,len(vals)+1)"
   ]
  },
  {
   "cell_type": "code",
   "execution_count": 9,
   "id": "050e141e",
   "metadata": {},
   "outputs": [
    {
     "data": {
      "image/png": "[encoded data removed]",
      "text/plain": [
       "<Figure size 432x288 with 1 Axes>"
      ]
     },
     "metadata": {
      "needs_background": "light"
     },
     "output_type": "display_data"
    }
   ],
   "source": [
    "#Plot\n",
    "plt.plot(k_r,vals)\n",
    "plt.scatter(k_r,vals)\n",
    "plt.scatter(3,100,s=100, facecolors='none', edgecolors='r',label ='Candidate for optimal k via the \\'elbow\\' method')\n",
    "plt.grid(alpha=0.3)\n",
    "plt.xlabel('Number of clusters (k)')\n",
    "plt.ylabel('Within cluster SSE')\n",
    "plt.title('Example data to demonstate selection of\\ncluster number k via \\'elbow\\' method\\n')\n",
    "plt.legend()\n",
    "plt.savefig('Fig3.png')\n",
    "plt.show()"
   ]
  }
 ],
 "metadata": {
  "kernelspec": {
   "display_name": "Python 3",
   "language": "python",
   "name": "python3"
  },
  "language_info": {
   "codemirror_mode": {
    "name": "ipython",
    "version": 3
   },
   "file_extension": ".py",
   "mimetype": "text/x-python",
   "name": "python",
   "nbconvert_exporter": "python",
   "pygments_lexer": "ipython3",
   "version": "3.8.8"
  }
 },
 "nbformat": 4,
 "nbformat_minor": 5
}
