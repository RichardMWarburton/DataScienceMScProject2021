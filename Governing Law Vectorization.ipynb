{
  "nbformat": 4,
  "nbformat_minor": 0,
  "metadata": {
    "kernelspec": {
      "display_name": "Python 3",
      "language": "python",
      "name": "python3"
    },
    "language_info": {
      "codemirror_mode": {
        "name": "ipython",
        "version": 3
      },
      "file_extension": ".py",
      "mimetype": "text/x-python",
      "name": "python",
      "nbconvert_exporter": "python",
      "pygments_lexer": "ipython3",
      "version": "3.7.4"
    },
    "colab": {
      "name": "Exploratory Data Analysis.ipynb",
      "provenance": [],
      "include_colab_link": true
    }
  },
  "cells": [
    {
      "cell_type": "markdown",
      "metadata": {
        "id": "view-in-github",
        "colab_type": "text"
      },
      "source": [
        "<a href=\"https://colab.research.google.com/github/RichardMWarburton/ExploringCUAD/blob/Dev/Governing%20Law%20Vectorization.ipynb\" target=\"_parent\"><img src=\"https://colab.research.google.com/assets/colab-badge.svg\" alt=\"Open In Colab\"/></a>"
      ]
    },
    {
      "cell_type": "markdown",
      "metadata": {
        "id": "SlHNM0ylUtXc"
      },
      "source": [
        "# Named Entity Recognition\n",
        "\n",
        "This notebook investigates extracting named entities from the the governing law annotations.\n",
        "\n",
        "\n",
        "\n"
      ]
    },
    {
      "cell_type": "markdown",
      "metadata": {
        "id": "bQ4UlOkTUtXj"
      },
      "source": [
        "## The Data\n",
        "\n",
        "CUAD: An Expert-Annotated NLP Dataset for Legal Contract Review\n",
        "\n",
        "https://arxiv.org/abs/2103.06268\n",
        "\n",
        "This code is an adaptation of the scrape.py file avaliable on the github repository for CUAD.  It has been adapted to run in Jypter notebooks and allow us to step throght the coding line by line.`"
      ]
    },
    {
      "cell_type": "markdown",
      "metadata": {
        "id": "maa-snhRqRjR"
      },
      "source": [
        "## 1: Import Packages & Define Useful Functions"
      ]
    },
    {
      "cell_type": "code",
      "metadata": {
        "id": "s41Gdd-7UtXh",
        "outputId": "ea4f95da-3d16-438b-f9b5-0633227f317f",
        "colab": {
          "base_uri": "https://localhost:8080/"
        }
      },
      "source": [
        "from zipfile import ZipFile\n",
        "import json\n",
        "import os\n",
        "from collections import Counter, defaultdict\n",
        "import matplotlib.pyplot as plt\n",
        "import re\n",
        "from random import sample, choice\n",
        "import numpy as np\n",
        "import pandas as pd\n",
        "import re\n",
        "import string\n",
        "from sklearn.manifold import TSNE\n",
        "from sklearn.feature_extraction.text import TfidfVectorizer\n",
        "from sklearn.cluster import DBSCAN, KMeans\n",
        "from sklearn.cluster import AgglomerativeClustering\n",
        "\n",
        "import nltk\n",
        "from nltk.tokenize import word_tokenize\n",
        "from nltk.tag import pos_tag\n",
        "nltk.download('punkt')\n",
        "nltk.download('averaged_perceptron_tagger')\n",
        "from nltk.corpus import stopwords\n",
        "nltk.download('stopwords')\n",
        "from sklearn.feature_extraction.text import CountVectorizer\n",
        "\n",
        "\n",
        "import spacy\n",
        "from spacy import displacy\n",
        "from collections import Counter\n",
        "import en_core_web_sm\n",
        "\n",
        "from pprint import pprint"
      ],
      "execution_count": 54,
      "outputs": [
        {
          "output_type": "stream",
          "text": [
            "[nltk_data] Downloading package punkt to /root/nltk_data...\n",
            "[nltk_data]   Package punkt is already up-to-date!\n",
            "[nltk_data] Downloading package averaged_perceptron_tagger to\n",
            "[nltk_data]     /root/nltk_data...\n",
            "[nltk_data]   Package averaged_perceptron_tagger is already up-to-\n",
            "[nltk_data]       date!\n",
            "[nltk_data] Downloading package stopwords to /root/nltk_data...\n",
            "[nltk_data]   Package stopwords is already up-to-date!\n"
          ],
          "name": "stdout"
        }
      ]
    },
    {
      "cell_type": "code",
      "metadata": {
        "id": "nAHzdcCrUtXl"
      },
      "source": [
        "def extract_zip(pth,data_pth = None):\n",
        "    \"\"\"Function to extract contents of a zip file to a specified location (wd if data_pth not passed)\"\"\"\n",
        "    with ZipFile(pth, 'r') as zipObj:\n",
        "       # Extract all the contents of zip file in different directory\n",
        "       zipObj.extractall(data_pth)"
      ],
      "execution_count": 55,
      "outputs": []
    },
    {
      "cell_type": "markdown",
      "metadata": {
        "id": "k5RS1m1RUtXk"
      },
      "source": [
        "## 2: Download repository and extract data"
      ]
    },
    {
      "cell_type": "code",
      "metadata": {
        "id": "pWljb-PkUtXm"
      },
      "source": [
        "#Download CUAD git repository\n",
        "if not os.path.exists('main.zip'):\n",
        "  !wget --no-check-certificate https://github.com/TheAtticusProject/cuad/archive/refs/heads/main.zip\n",
        "  !unzip -q main.zip\n",
        "\n",
        "#If it has not already been extracted, extract the contents of data.zip\n",
        "if not os.path.exists('cuad-main/data'):\n",
        "  os.makedirs('cuad-main/data')\n",
        "\n",
        "if not os.path.exists('cuad-main/data/CUADv1.json'):\n",
        "  extract_zip('cuad-main/data.zip','cuad-main/data/')\n",
        "\n",
        "#Download a manualy curated set of labels for the full CUAD data. \n",
        "if not os.path.exists('labels3.txt'):\n",
        "  !wget https://raw.githubusercontent.com/RichardMWarburton/ExploringCUAD/main/labels3.txt"
      ],
      "execution_count": 56,
      "outputs": []
    },
    {
      "cell_type": "code",
      "metadata": {
        "id": "-j6zwYHHUtXp"
      },
      "source": [
        "#Load CUADv1 JSON to data\n",
        "with open('cuad-main/data/CUADv1.json','r') as infile:\n",
        "    for line in infile:\n",
        "        contract_data = json.loads(line)"
      ],
      "execution_count": 57,
      "outputs": []
    },
    {
      "cell_type": "markdown",
      "metadata": {
        "id": "G_1H8XPNxNTG"
      },
      "source": [
        "### 2.1: Read in Label Data & Generate Look Up Dictionary"
      ]
    },
    {
      "cell_type": "code",
      "metadata": {
        "id": "yHqEpKU5xNjB"
      },
      "source": [
        "#Initate storage for labels look up (LU)\n",
        "labels_LU = {}\n",
        "\n",
        "#Read in labels data\n",
        "with open('labels3.txt','r',encoding ='UTF-8') as infile:\n",
        "  for line in infile:\n",
        "    #Remove trailing special characters and split on tab\n",
        "    data = line.strip().split(sep='\\t')\n",
        "    #Add name and label to labels_LU dictionary\n",
        "    labels_LU[data[0]] = data[1]"
      ],
      "execution_count": 58,
      "outputs": []
    },
    {
      "cell_type": "markdown",
      "metadata": {
        "id": "LKjA7wac3yse"
      },
      "source": [
        "The look up returns one error, most likely due to the accented E and a disparity of encoding.  This will be forced to 'Marketing Agreement' manually for now (EITHER SORT OR PROVIDE EXAMPLE)"
      ]
    },
    {
      "cell_type": "markdown",
      "metadata": {
        "id": "igP7vzKnqac7"
      },
      "source": [
        "### 2.2: Extract Raw Contract Data"
      ]
    },
    {
      "cell_type": "code",
      "metadata": {
        "id": "MgadIkwcqemy"
      },
      "source": [
        "#ser reg ex expression for characters to remove from contract contest\n",
        "spec_chars = '\\\\n|\\\\t|\\\\t'\n",
        "\n",
        "#Set number of contracts in data\n",
        "num_contracts = len(contract_data['data'])\n",
        "\n",
        "#Initate dictionary to store raw contract data\n",
        "raw_contracts = defaultdict(list)\n",
        "\n",
        "#for each contract\n",
        "for i in range(num_contracts):\n",
        "  #Append the title, contract text and character length of text to the raw_contracts dictionary\n",
        "  raw_contracts['contract title'].append(contract_data['data'][i]['title'])\n",
        "  raw_contracts['label'].append(labels_LU[contract_data['data'][i]['title']] if contract_data['data'][i]['title'] in labels_LU else 'marketing agreement' ) #<- manual error trap applied here (see below)\n",
        "  \n",
        "  #Parse raw text and process to remove breaks\n",
        "  raw_text = contract_data['data'][i]['paragraphs'][0]['context']\n",
        "  clean_text = re.sub(spec_chars,'',raw_text)\n",
        "\n",
        "  #Split clean text in to sentances and tokens\n",
        "  sentance_text = clean_text.split(sep = '. ')\n",
        "  token_text = clean_text.split(sep = ' ')\n",
        "\n",
        "  #Append text to the respective key in the raw_contracts dictionary\n",
        "  raw_contracts['raw text'].append(raw_text)\n",
        "  raw_contracts['clean text'].append(clean_text)\n",
        "  raw_contracts['sentance text'].append(sentance_text)\n",
        "  raw_contracts['token text'].append(token_text)\n",
        "  \n",
        "  #Add character, sentance and token counts to raw_contracts dictionary\n",
        "  raw_contracts['character count'].append(len(raw_text))\n",
        "  raw_contracts['sentance count'].append(len(sentance_text))\n",
        "  raw_contracts['token count'].append(len(token_text))\n"
      ],
      "execution_count": 59,
      "outputs": []
    },
    {
      "cell_type": "markdown",
      "metadata": {
        "id": "n876lWEZsh7o"
      },
      "source": [
        "### 2.3: Extract Clause Specific Data"
      ]
    },
    {
      "cell_type": "code",
      "metadata": {
        "id": "tg1TjBOurSrD"
      },
      "source": [
        "#Define the number of clauses\n",
        "num_clauses = 41\n",
        "\n",
        "#initate dictioanry to store caluse data\n",
        "clause_data = defaultdict(list)\n",
        "\n",
        "#For each contract\n",
        "for i in range(num_contracts):\n",
        "  #for each clause\n",
        "  for j in range(num_clauses):\n",
        "    #for each found clause annotation\n",
        "    for k in range(len(contract_data['data'][i]['paragraphs'][0]['qas'][j]['answers'])): \n",
        "      #Add the contract title\n",
        "      clause_data['contract title'].append(contract_data['data'][i]['title'])\n",
        "      clause_data['label'].append(labels_LU[contract_data['data'][i]['title']] if contract_data['data'][i]['title'] in labels_LU else 'marketing agreement' )  #<- manual error trap applied here\n",
        "      clause_data['clause'].append(contract_data['data'][i]['paragraphs'][0]['qas'][j]['id'].split(sep='__')[1])\n",
        "      clause_data['annotation'].append(contract_data['data'][i]['paragraphs'][0]['qas'][j]['answers'][k]['text'])\n",
        "      clause_data['annotation start'].append(contract_data['data'][i]['paragraphs'][0]['qas'][j]['answers'][k]['answer_start'])\n",
        "      clause_data['annotation length'].append(len(contract_data['data'][i]['paragraphs'][0]['qas'][j]['answers'][k]['text']))\n"
      ],
      "execution_count": 60,
      "outputs": []
    },
    {
      "cell_type": "markdown",
      "metadata": {
        "id": "1ojxytoG46D9"
      },
      "source": [
        "## 3: Cleaning data and extracting a single clause"
      ]
    },
    {
      "cell_type": "code",
      "metadata": {
        "id": "fXET1UnSbTpM"
      },
      "source": [
        "#Initate dataframe of all clause data\n",
        "clause_df = pd.DataFrame(clause_data)\n",
        "\n",
        "#Convert to lower case\n",
        "#clause_df['annotation'] = clause_df['annotation'].apply(lambda x: x.lower())\n",
        "\n",
        "#Remove any formating characters or multiple spaces and replace with a single space\n",
        "clause_df['annotation'] = clause_df['annotation'].apply(lambda x: re.sub('\\\\t|\\\\r|\\\\n|[^\\S]{2,}',' ',x))\n",
        "\n",
        "#Remove punctuation from the string\n",
        "clause_df['annotation'] = clause_df['annotation'].apply(lambda x: x.translate(str.maketrans('', '', string.punctuation)))"
      ],
      "execution_count": 61,
      "outputs": []
    },
    {
      "cell_type": "code",
      "metadata": {
        "colab": {
          "base_uri": "https://localhost:8080/"
        },
        "id": "B3xFTGsWJ0fH",
        "outputId": "605d174f-c46f-46e1-bc70-261be95d9dc3"
      },
      "source": [
        "#Define clause of interest\n",
        "clause_of_interest = 'Governing Law'\n",
        "\n",
        "#Limit df to clause of interest and extract annotations of itnerest\n",
        "of_interest_data = clause_df[clause_df['clause'] == clause_of_interest]\n",
        "annotations_of_interest = of_interest_data['annotation'].values\n",
        "\n",
        "#Identify where there are multiple annotations per contract\n",
        "titles,counts = np.unique(of_interest_data['contract title'],return_counts =True)\n",
        "dups = titles[counts >= 2]\n",
        "\n",
        "#Output Analysis\n",
        "print('There are {} contracts with \\'{}\\' annotations'.format(*(titles.shape[0],clause_of_interest)))\n",
        "print('There are {} contracts with more than one annotation'.format(dups.shape[0]))\n",
        "\n",
        "#output duplicate annotations anc contract titles\n",
        "dup_df = of_interest_data[of_interest_data['contract title'].isin(dups)][['contract title','annotation']]"
      ],
      "execution_count": 62,
      "outputs": [
        {
          "output_type": "stream",
          "text": [
            "There are 437 contracts with 'Governing Law' annotations\n",
            "There are 25 contracts with more than one annotation\n"
          ],
          "name": "stdout"
        }
      ]
    },
    {
      "cell_type": "code",
      "metadata": {
        "id": "aiO83dK-iZvG"
      },
      "source": [
        "#Initate memory for annotations within contracts\n",
        "combined_annotations_list = defaultdict(list)\n",
        "combined_annotations_string = {}\n",
        "\n",
        "#For each annotation of interest found in the contract, \n",
        "#append annotation to a default dict list with contract as key\n",
        "for i in of_interest_data.index:\n",
        "  name = of_interest_data.loc[i,['contract title']].values[0]\n",
        "  annotation = of_interest_data.loc[i,['annotation']].values[0]\n",
        "  combined_annotations_list[name].append(annotation)\n",
        "\n",
        "#Produce a singel string of all annotations found in specific contracts\n",
        "for key in combined_annotations_list.keys():\n",
        "  combined_annotations_string[key] = ' '.join(combined_annotations_list[key])"
      ],
      "execution_count": 63,
      "outputs": []
    },
    {
      "cell_type": "code",
      "metadata": {
        "id": "oyJbopX_jFY5"
      },
      "source": [
        "#Build array of contract names and concatenated annotations\n",
        "contracts = np.array(list(combined_annotations_string.keys()))\n",
        "combined_annotations = list(combined_annotations_string.values())"
      ],
      "execution_count": 64,
      "outputs": []
    },
    {
      "cell_type": "markdown",
      "metadata": {
        "id": "pQcaGdqWlf_Q"
      },
      "source": [
        "## Section 4: Named Entity Extraction\n",
        "\n",
        "SpaCy has been chosen as the named entity recognition approach as it provided better performance in isolating locations and laws"
      ]
    },
    {
      "cell_type": "markdown",
      "metadata": {
        "id": "IDHXzAEMd_Jz"
      },
      "source": [
        "### Section 4.1 SpaCy"
      ]
    },
    {
      "cell_type": "markdown",
      "metadata": {
        "id": "iTAaGGVjp_Hs"
      },
      "source": [
        "## Section 4: Parsing Annotations for Named Entities"
      ]
    },
    {
      "cell_type": "code",
      "metadata": {
        "id": "d6A1hD3ep_QA"
      },
      "source": [
        "#Build new features\n",
        "new_features = []\n",
        "\n",
        "for annotation in combined_annotations:\n",
        "  annotation_GPEs = []\n",
        "  \n",
        "  doc = nlp(annotation)\n",
        "\n",
        "  for X in doc.ents:\n",
        "    #First pass to capture entities\n",
        "    if X.label_ == 'GPE' or X.label_ == 'LANGUAGE':\n",
        "      if X.text not in annotation_GPEs:\n",
        "        annotation_GPEs.append(X.text)\n",
        "  \n",
        "  #If no entities found, foce to lower case and re analyise\n",
        "  if annotation_GPEs == []:\n",
        "    doc = nlp(annotation.lower())\n",
        "\n",
        "    for X in doc.ents:\n",
        "      if X.label_ == 'GPE' or X.label_ == 'LANGUAGE':\n",
        "        if X.text not in annotation_GPEs:\n",
        "          annotation_GPEs.append(X.text)\n",
        "\n",
        "  new_features.append(' '.join(annotation_GPEs))"
      ],
      "execution_count": 65,
      "outputs": []
    },
    {
      "cell_type": "code",
      "metadata": {
        "id": "CI6EQPIztDZO"
      },
      "source": [
        "#Define stopwords list\n",
        "stop_words = stopwords.words('english') +['hereof','thereof']\n",
        "\n",
        "def lower_case(x):\n",
        "  \"\"\"Function to return a lowecase value of a string x\"\"\"\n",
        "  return x.lower()\n",
        "\n",
        "def remove_stop_words(x):\n",
        "  \"\"\"Function to remove stop words from a string x \"\"\"  \n",
        "  return ' '.join([word for word in x.split(sep=' ') if word not in stop_words])\n",
        "\n",
        "def coerce_tokens(x):\n",
        "  ret = x.replace('new york','newyork')\n",
        "  ret = ret.replace('new jersey','newjersey')\n",
        "  ret = ret.replace('hong kong','hongkong')\n",
        "  ret = ret.replace('san antonio','sanantonio')\n",
        "  return ret"
      ],
      "execution_count": 66,
      "outputs": []
    },
    {
      "cell_type": "code",
      "metadata": {
        "id": "mbFTY6jXoqmw"
      },
      "source": [
        "#initiate new_features as an np array\n",
        "new_features = np.array(new_features)\n",
        "\n",
        "#Clean New Features\n",
        "new_features = np.array(list(map(lower_case,new_features)))\n",
        "new_features = np.array(list(map(remove_stop_words,new_features)))\n",
        "new_features = np.array(list(map(coerce_tokens,new_features)))\n",
        "\n",
        "#Tokenize new_features\n",
        "#new_features = np.array(list((map(nltk.word_tokenize,new_features))),dtype=object)"
      ],
      "execution_count": 67,
      "outputs": []
    },
    {
      "cell_type": "code",
      "metadata": {
        "id": "owRMemlAvr_I",
        "colab": {
          "base_uri": "https://localhost:8080/",
          "height": 468
        },
        "outputId": "17b58d74-8734-44df-845a-99e90cd7766a"
      },
      "source": [
        "#Count Vectorize new_feature vector\n",
        "cv = CountVectorizer(stop_words = 'english')\n",
        "vectorized_features = cv.fit_transform(new_features).toarray()\n",
        "\n",
        "#Reduce dimension wiht TSNE to 2D\n",
        "X_tsne = TSNE(n_components=2).fit_transform(vectorized_features)\n",
        "x = X_tsne[:,0]\n",
        "y = X_tsne[:,1]\n",
        "\n",
        "#Fit agglomerative clister model with two clusters to split groups\n",
        "cluster = AgglomerativeClustering(n_clusters=4).fit(vectorized_features)\n",
        "\n",
        "#Based on manual analysis of the data\n",
        "class_names = {0:'US States (exld NY & Cal)',1:'New York',2:'Countries',3:'California'}\n",
        "\n",
        "#Get data points for plot\n",
        "x = X_tsne[:,0]\n",
        "y = X_tsne[:,1]\n",
        "labels = cluster.labels_\n",
        "\n",
        "plt.figure(figsize =(8,5))\n",
        "#Plot, highlighting each labeld class\n",
        "for i in np.unique(labels):\n",
        "  idx = labels == i\n",
        "  plt.scatter(x[idx],y[idx],label = 'Class {}: {}'.format(*(str(i),class_names[i])))\n",
        "\n",
        "plt.title('2D TSNE plot of agglomerative clustering\\nmodel applied to \\'Governing Law\\'\\nvector representation\\n')\n",
        "plt.xlabel('Component 1')\n",
        "plt.xlabel('Component 2')\n",
        "\n",
        "plt.legend(loc ='lower center', bbox_to_anchor = (0.5,-0.4),title='Manually Assigned Labels Names:\\n',fontsize = 8,ncol=2)\n",
        "plt.show()"
      ],
      "execution_count": 125,
      "outputs": [
        {
          "output_type": "display_data",
          "data": {
            "image/png": "[encoded data removed]",
            "text/plain": [
              "<Figure size 576x360 with 1 Axes>"
            ]
          },
          "metadata": {
            "tags": [],
            "needs_background": "light"
          }
        }
      ]
    },
    {
      "cell_type": "code",
      "metadata": {
        "id": "2Q_lqHp-v7Uh",
        "colab": {
          "base_uri": "https://localhost:8080/"
        },
        "outputId": "1e80e8e6-02d0-4826-843b-e45277141741"
      },
      "source": [
        "combined_annotations = np.array(combined_annotations)\n",
        "\n",
        "for lab in np.unique(labels):\n",
        "  print('CLASS {}'.format(str(lab)),'\\n')\n",
        "  idx = labels == lab\n",
        "  for sample in combined_annotations[idx][:10]:\n",
        "    print(sample)\n",
        "  print('\\n')"
      ],
      "execution_count": 77,
      "outputs": [
        {
          "output_type": "stream",
          "text": [
            "CLASS 0 \n",
            "\n",
            "This Agreement is to be construed according to the laws of the State of Illinois\n",
            "This Agreement was entered into in the State of Florida and its validity construction interpretation and legal effect shall be governed by the laws and judicial decisions of the State of Florida applicable to contracts entered into and performed entirely within the State of Florida\n",
            "This Agreement shall be governed and construed according to the laws of the State of Kansas\n",
            "This Agreement shall be governed by the laws of the State of Texas without reference to its conflicts of law principles\n",
            "The construction interpretation and performance of this Agreement and all transactions under it shall be governed by the laws of the State of Texas irrespective of its conflict of law principles\n",
            "Any disputes relating to arising out of or resulting from this Agreement including to its execution performance or enforcement shall be governed by and construed in accordance with the Laws of the State of Delaware regardless of the Laws that might otherwise govern under applicable principles of conflicts of Laws thereof\n",
            "This Agreement and all claims or causes of action arising out of or related to this Agreement shall be governed in all respects including as to validity interpretation and effect by the laws of the State of Illinois and the United States of America without giving effect to its principles or rules of conflict of laws\n",
            "This Agreement shall be construed in accordance with the laws of the State of Kansas\n",
            "This Agreement is entered into in the State of Texas and shall be interpreted according to the laws of the State of Texas\n",
            "This Agreement shall be governed by and interpreted in accordance with the laws of the State of Delaware without reference to any conflict of laws provisions thereof except where governed by the Bankruptcy Code\n",
            "\n",
            "\n",
            "CLASS 1 \n",
            "\n",
            "This Agreement and the relationship between the Parties shall be governed by and interpreted in accordance with New York law without regard to provisions related to conflicts of laws and except as provided in Section 212 above the Parties agree to submit any dispute to the exclusive jurisdiction of the federal and state courts sitting in New York\n",
            "THIS REMARKETING AGREEMENT AND THE PRICING AGREEMENT SHALL BE GOVERNED BY AND CONSTRUED IN ACCORDANCE WITH THE LAWS OF THE STATE OF NEW YORK WITHOUT REGARD TO PRINCIPLES OF CONFLICTS OF LAW TO THE EXTENT THAT SUCH PRINCIPLES WOULD REQUIRE OR PERMIT THE APPLICATION OF LAWS OF ANOTHER JURISDICTION\n",
            "This Agreement shall be governed by and construed in accordance with the laws of the State of New York without giving effect to any choice of law or conflict of law provision or rule whether such provision or rule is that of the State of New York or any other jurisdiction\n",
            "This Agreement and all disputes or controversies arising out of or relating to this Agreement or the transactions contemplated hereby shall be governed by and construed in accordance with the internal laws of the State of New York without regard to the laws of any other jurisdiction that might be applied because of the conflicts of laws principles of the State of New York\n",
            "This Agreement shall be governed by the laws of the State of New York and all disputes and controversies arising out of or in connection with the Agreement shall be brought exclusively before the competent courts in New York County New York provided however that judgment shall be enforceable in any country and that nothing in this Section shall prevent or restrict either Party from seeking interim relief in any competent jurisdiction as it may deem fit\n",
            "This Agreement and all disputes arising out of or related to this Agreement or any breach hereof shall be governed by and construed in accordance with the laws of the State of New York without giving effect to any choice of law principles that would result in the application of the laws of any other jurisdiction\n",
            "This Agreement shall be construed in accordance with and governed by the substantive internal laws of the State of New York\n",
            "This Agreement shall be governed by the laws of the State of New York without giving effect to its principles of conflicts of laws other than Section 51401 of the New York General Obligations Law\n",
            "THIS AGREEMENT SHALL BE GOVERNED BY AND CONSTRUED IN ACCORDANCE WITH THE LAWS OF THE STATE OF NEW YORK WITHOUT REFERENCE TO ITS CONFLICT OF LAW PROVISIONS OTHER THAN SECTION 51401 OF THE GENERAL OBLIGATIONS LAW AND THE OBLIGATIONS RIGHTS AND REMEDIES OF THE PARTIES HEREUNDER SHALL BE DETERMINED IN ACCORDANCE WITH SUCH LAWS\n",
            "This Agreement shall be governed and construed in accordance with the laws of New York State without regard to the conflict of laws provisions thereof\n",
            "\n",
            "\n",
            "CLASS 2 \n",
            "\n",
            "This Agreement is governed by English law and the parties submit to the exclusive jurisdiction of the English courts in relation to any dispute contractual or noncontractual concerning this Agreement save that either party may apply to any court for an injunction or other relief to protect its Intellectual Property Rights\n",
            "It will be governed by the law of the Peoples Republic of China otherwise it is governed by United Nations Convention on Contract for the International Sale of Goods\n",
            "This Amendment shall be governed by and construed in accordance with the laws of Japan\n",
            "This Agreement and any and all matters arising directly or indirectly herefrom shall be governed by and construed and enforced in accordance with the internal laws of the  applicable to agreements made and to be performed entirely in such state including its statutes of limitation but without giving effect to the conflict of law principles thereof\n",
            "This Agreement shall be construed and enforced and interpreted in accordance with and governed by the laws of the Commonwealth of Massachusetts without reference to principles of conflicts of law\n",
            "This Agreement and the rights of the Parties hereunder shall be governed by and construed in accordance with the laws of the Commonwealth of Pennsylvania including all matters of construction validity performance and enforcement and without giving effect to the principles of conflict of laws\n",
            "This Agreement is governed by the laws of Victoria Australia and the parties submit to the jurisdiction of the courts of Victoria Australia\n",
            "This Agreement and any question about its subsistence effect or termination is to be interpreted in accordance with the laws of India save for that body of law which governs the conflict of laws\n",
            "This Termination Agreement shall be governed by the laws of the PRC without regard to conflicts of law principles This Agreement and any dispute or claim arising out of or in connection with it or its subject matter shall be governed by and construed in accordance with the laws of the Peoples Republic of China without regard to its conflicts of laws rules that would mandate the application of the laws of another jurisdiction\n",
            "This Agreement shall be governed by and interpreted pursuant to the laws of the Peoples Republic of China that are promulgated and are publicly available provided that the general international business practices shall apply if the laws of the Peoples Republic of China that are promulgated and are publicly available do not involve any matter in relation to this Agreement\n",
            "\n",
            "\n",
            "CLASS 3 \n",
            "\n",
            "This Agreement shall be governed by the laws of the State of California USA excluding conflict of laws provisions and excluding the 1980 United Nations Convention on Contracts for the International Sale of Goods\n",
            "This Agreement will be construed in accordance with and governed by the laws of the State of California without regard to principles of conflicts of law\n",
            "This Agreement shall be governed construed and interpreted in accordance with the laws of the State of California without respect to principles of conflicts of law\n",
            "This Letter of Authorization will be governed by and construed in accordance with the laws of California excluding its conflict of laws provisions and be subject to the nonexclusive jurisdiction of the California courts This Agreement will be governed by and construed in accordance with the laws of the State of California exclusive of conflict of laws principles\n",
            "This Agreement will for all purposes be governed by and interpreted in accordance with the laws of the State of California without giving effect to any conflict of laws principles that require the application of the laws of a different state\n",
            "This Agreement and all matters arising out of or relating to this Agreement shall be governed by the laws of the State of California\n",
            "This Agreement shall be governed by and construed in accordance with the laws of the State of California exclusive of its conflict of laws principles\n",
            "This Agreement and any disputes claims or actions related thereto shall be governed by and construed in accordance with the laws of the State of California USA without regard to the conflicts of law provisions thereof\n",
            "This Agreement shall be governed by and construed and enforced in accordance with the laws of the State of California and the laws of Hong Kong\n",
            "This Agreement shall be governed by and construed in accordance with the internal laws of the State of California applicable to agreements made and to be performed entirely within such state without regard to the conflicts of law principles of such state provided that any matters relating to the construction or effect of any Patent will be governed by the patent laws of the relevant jurisdiction in which such Patent is granted\n",
            "\n",
            "\n"
          ],
          "name": "stdout"
        }
      ]
    }
  ]
}