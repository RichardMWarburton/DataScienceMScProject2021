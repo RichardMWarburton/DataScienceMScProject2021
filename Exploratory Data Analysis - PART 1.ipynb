{
  "nbformat": 4,
  "nbformat_minor": 0,
  "metadata": {
    "kernelspec": {
      "display_name": "Python 3",
      "language": "python",
      "name": "python3"
    },
    "language_info": {
      "codemirror_mode": {
        "name": "ipython",
        "version": 3
      },
      "file_extension": ".py",
      "mimetype": "text/x-python",
      "name": "python",
      "nbconvert_exporter": "python",
      "pygments_lexer": "ipython3",
      "version": "3.7.4"
    },
    "colab": {
      "name": "Exploratory Data Analysis.ipynb",
      "provenance": []
    }
  },
  "cells": [
    {
      "cell_type": "markdown",
      "metadata": {
        "id": "SlHNM0ylUtXc"
      },
      "source": [
        "# Exploratory Data Analysis"
      ]
    },
    {
      "cell_type": "code",
      "metadata": {
        "id": "s41Gdd-7UtXh"
      },
      "source": [
        "from zipfile import ZipFile\n",
        "import json\n",
        "import os\n",
        "from collections import Counter\n",
        "import matplotlib.pyplot as plt\n",
        "import re\n",
        "from random import sample, choice\n",
        "import numpy as np\n",
        "import pandas as pd"
      ],
      "execution_count": null,
      "outputs": []
    },
    {
      "cell_type": "markdown",
      "metadata": {
        "id": "bQ4UlOkTUtXj"
      },
      "source": [
        "## The Data\n",
        "\n",
        "CUAD: An Expert-Annotated NLP Dataset for Legal Contract Review\n",
        "\n",
        "https://arxiv.org/abs/2103.06268\n",
        "\n",
        "This code is an adaptation of the scrape.py file avaliable on the github repository for CUAD.  It has been adapted to run in Jypter notebooks and allow us to step throght the coding line by line.`"
      ]
    },
    {
      "cell_type": "markdown",
      "metadata": {
        "id": "k5RS1m1RUtXk"
      },
      "source": [
        "### Download repository and extract data"
      ]
    },
    {
      "cell_type": "code",
      "metadata": {
        "id": "nAHzdcCrUtXl"
      },
      "source": [
        "def extract_zip(pth,data_pth = None):\n",
        "    \"\"\"Function to extract contents of a zip file to a specified location (wd if data_pth not passed)\"\"\"\n",
        "    with ZipFile(pth, 'r') as zipObj:\n",
        "       # Extract all the contents of zip file in different directory\n",
        "       zipObj.extractall(data_pth)"
      ],
      "execution_count": null,
      "outputs": []
    },
    {
      "cell_type": "code",
      "metadata": {
        "id": "pWljb-PkUtXm"
      },
      "source": [
        "#Download CUAD git repository\n",
        "if not os.path.exists('main.zip'):\n",
        "  !wget --no-check-certificate https://github.com/TheAtticusProject/cuad/archive/refs/heads/main.zip\n",
        "  !unzip -q main.zip\n",
        "\n",
        "#If it has not already been extracted, extract the contents of data.zip\n",
        "if not os.path.exists('cuad-main/data'):\n",
        "  os.makedirs('cuad-main/data')\n",
        "\n",
        "if not os.path.exists('cuad-main/data/CUADv1.json'):\n",
        "  extract_zip('cuad-main/data.zip','cuad-main/data/')\n",
        "\n"
      ],
      "execution_count": null,
      "outputs": []
    },
    {
      "cell_type": "code",
      "metadata": {
        "id": "B_5EU8EHGm9R"
      },
      "source": [
        "#Download a manualy curated set of labels for the full CUAD data. \n",
        "if not os.path.exists('labels3.txt'):\n",
        "  !wget https://raw.githubusercontent.com/RichardMWarburton/ExploringCUAD/Exporatory-Analysis/labels3.txt"
      ],
      "execution_count": null,
      "outputs": []
    },
    {
      "cell_type": "markdown",
      "metadata": {
        "id": "2kALdbSCUtXo"
      },
      "source": [
        "### Load CUADv1.json data"
      ]
    },
    {
      "cell_type": "code",
      "metadata": {
        "id": "-j6zwYHHUtXp"
      },
      "source": [
        "#Load CUADv1 JSON to data\n",
        "with open('cuad-main/data/CUADv1.json','r') as infile:\n",
        "    for line in infile:\n",
        "        contract_data = json.loads(line)"
      ],
      "execution_count": null,
      "outputs": []
    },
    {
      "cell_type": "markdown",
      "metadata": {
        "id": "9A48t7f8UtXq"
      },
      "source": [
        "#### Examples of data within the data dictionary"
      ]
    },
    {
      "cell_type": "code",
      "metadata": {
        "id": "nC_szP3tKJdQ",
        "colab": {
          "base_uri": "https://localhost:8080/"
        },
        "outputId": "9012a819-68b2-4273-abff-d65d54ce1ef5"
      },
      "source": [
        "print('The data JSON has the following keys:\\n\\n',contract_data.keys())"
      ],
      "execution_count": null,
      "outputs": [
        {
          "output_type": "stream",
          "text": [
            "The data JSON has the following keys:\n",
            "\n",
            " dict_keys(['version', 'data'])\n"
          ],
          "name": "stdout"
        }
      ]
    },
    {
      "cell_type": "markdown",
      "metadata": {
        "id": "is38Jg3QKoVC"
      },
      "source": [
        "The version key contains a single text reference outlining the version of the data"
      ]
    },
    {
      "cell_type": "code",
      "metadata": {
        "id": "ufbJNPifKfRX",
        "colab": {
          "base_uri": "https://localhost:8080/"
        },
        "outputId": "93fdbee6-2cfb-4110-c23f-4c5fdb4a14fe"
      },
      "source": [
        "print('Version of data:', contract_data['version'])"
      ],
      "execution_count": null,
      "outputs": [
        {
          "output_type": "stream",
          "text": [
            "Version of data: aok_v1.0\n"
          ],
          "name": "stdout"
        }
      ]
    },
    {
      "cell_type": "markdown",
      "metadata": {
        "id": "jmwDPDjhJvig"
      },
      "source": [
        "The data key contains a subsequent dictionary for each contract in the data set"
      ]
    },
    {
      "cell_type": "code",
      "metadata": {
        "id": "LEmhcMvoJu4z",
        "colab": {
          "base_uri": "https://localhost:8080/"
        },
        "outputId": "d60f8a75-9bf5-4cc0-9e34-187ae65e96dd"
      },
      "source": [
        "print('There are {} data points in the \\'data\\' key inf the contract_data dictionary'.format(len(contract_data['data'])))"
      ],
      "execution_count": null,
      "outputs": [
        {
          "output_type": "stream",
          "text": [
            "There are 510 data points in the 'data' key inf the contract_data dictionary\n"
          ],
          "name": "stdout"
        }
      ]
    },
    {
      "cell_type": "markdown",
      "metadata": {
        "id": "imgfenjpPYoR"
      },
      "source": [
        "Each data point consits of a dictioary with two keys"
      ]
    },
    {
      "cell_type": "code",
      "metadata": {
        "id": "fDmsz4cvPSxB",
        "colab": {
          "base_uri": "https://localhost:8080/"
        },
        "outputId": "d24ff0e6-33e9-44e3-fa1a-2f409bc1088c"
      },
      "source": [
        "#Choose random datapoint / contract\n",
        "num_contracts = len(contract_data['data'])\n",
        "m = choice(range(num_contracts))\n",
        "\n",
        "print(contract_data['data'][m].keys())"
      ],
      "execution_count": null,
      "outputs": [
        {
          "output_type": "stream",
          "text": [
            "dict_keys(['title', 'paragraphs'])\n"
          ],
          "name": "stdout"
        }
      ]
    },
    {
      "cell_type": "markdown",
      "metadata": {
        "id": "eJFzxoSuQgAS"
      },
      "source": [
        "Title consists of a single string outlining the title of the data point"
      ]
    },
    {
      "cell_type": "code",
      "metadata": {
        "id": "R8VUseUNP_MA",
        "colab": {
          "base_uri": "https://localhost:8080/"
        },
        "outputId": "4dc978de-d776-41ad-9931-7e76daf75374"
      },
      "source": [
        "print('Title of data point {}:'.format(m).upper(),contract_data['data'][m]['title'])"
      ],
      "execution_count": null,
      "outputs": [
        {
          "output_type": "stream",
          "text": [
            "TITLE OF DATA POINT 8: DovaPharmaceuticalsInc_20181108_10-Q_EX-10.2_11414857_EX-10.2_Promotion Agreement\n"
          ],
          "name": "stdout"
        }
      ]
    },
    {
      "cell_type": "markdown",
      "metadata": {
        "id": "BRCqROuiRFd8"
      },
      "source": [
        "The 'paragraphs' key contains a list with a single item."
      ]
    },
    {
      "cell_type": "code",
      "metadata": {
        "id": "iQsuEUs-Q3bf",
        "colab": {
          "base_uri": "https://localhost:8080/"
        },
        "outputId": "0756e823-bfa7-4bf8-d4ea-3d9e2a1e9688"
      },
      "source": [
        "print('Summary of paragraphs key for data point {}:\\n'.format(m))\n",
        "print('Data type of \\'paragraphs\\' key:'.upper(),type(contract_data['data'][m]['paragraphs']))\n",
        "print('Length type of \\'paragraphs\\' key:'.upper(),len(contract_data['data'][m]['paragraphs']))"
      ],
      "execution_count": null,
      "outputs": [
        {
          "output_type": "stream",
          "text": [
            "Summary of paragraphs key for data point 8:\n",
            "\n",
            "DATA TYPE OF 'PARAGRAPHS' KEY: <class 'list'>\n",
            "LENGTH TYPE OF 'PARAGRAPHS' KEY: 1\n"
          ],
          "name": "stdout"
        }
      ]
    },
    {
      "cell_type": "markdown",
      "metadata": {
        "id": "Y1kOsuu5R-Jl"
      },
      "source": [
        "For rigour, it can be quickly shown that the paragraph keys across all data points have length 1"
      ]
    },
    {
      "cell_type": "markdown",
      "metadata": {
        "id": "Vui1pBOvTBqA"
      },
      "source": [
        ""
      ]
    },
    {
      "cell_type": "code",
      "metadata": {
        "id": "C4j2BO3OQ3lE",
        "colab": {
          "base_uri": "https://localhost:8080/"
        },
        "outputId": "ddc8ba81-9207-4c98-cee3-4570842e3296"
      },
      "source": [
        "#Initate counter dictionary to store lengths of paragraph key\n",
        "len_count = Counter()\n",
        "\n",
        "#For each data point\n",
        "for i in range(num_contracts):\n",
        "  #determine the length of the paragrah key and increment respective counter\n",
        "  len_count[len(contract_data['data'][i]['paragraphs'])]+=1\n",
        "\n",
        "#Output Count analysis\n",
        "print(len_count)"
      ],
      "execution_count": null,
      "outputs": [
        {
          "output_type": "stream",
          "text": [
            "Counter({1: 510})\n"
          ],
          "name": "stdout"
        }
      ]
    },
    {
      "cell_type": "markdown",
      "metadata": {
        "id": "O48UCevGThjY"
      },
      "source": [
        "This list contains a single data point, which is a dictionary consisting of two keys"
      ]
    },
    {
      "cell_type": "code",
      "metadata": {
        "id": "iswjMU4WS_6K",
        "colab": {
          "base_uri": "https://localhost:8080/"
        },
        "outputId": "03d992c1-5e35-430a-f4f8-ff2f6ae8e203"
      },
      "source": [
        "print('Data type:'.upper(), type(contract_data['data'][m]['paragraphs'][0]))\n",
        "print(('Keys in paragraphs:'.upper(),contract_data['data'][m]['paragraphs'][0].keys()))"
      ],
      "execution_count": null,
      "outputs": [
        {
          "output_type": "stream",
          "text": [
            "DATA TYPE: <class 'dict'>\n",
            "('KEYS IN PARAGRAPHS:', dict_keys(['qas', 'context']))\n"
          ],
          "name": "stdout"
        }
      ]
    },
    {
      "cell_type": "markdown",
      "metadata": {
        "id": "ZG3HSKNKjBM0"
      },
      "source": [
        "The 'Context' key appears to hold the full text data for the contract parsed in to a clean format"
      ]
    },
    {
      "cell_type": "code",
      "metadata": {
        "id": "i1Hmewami2w5",
        "colab": {
          "base_uri": "https://localhost:8080/",
          "height": 91
        },
        "outputId": "e2634453-3987-42da-bbc0-2bcafb86cce7"
      },
      "source": [
        "#Output first 2500 characters of context\n",
        "contract_data['data'][m]['paragraphs'][0]['context'][:2500]"
      ],
      "execution_count": null,
      "outputs": [
        {
          "output_type": "execute_result",
          "data": {
            "application/vnd.google.colaboratory.intrinsic+json": {
              "type": "string"
            },
            "text/plain": [
              "'Exhibit 10.2\\n\\n______________________________________________________________________________\\n\\nCO-PROMOTION AGREEMENT\\n\\nby and between\\n\\nDOVA PHARMACEUTICALS, INC.\\n\\nand\\n\\nVALEANT PHARMACEUTICALS NORTH AMERICA LLC\\n\\nSeptember 26, 2018\\n\\n______________________________________________________________________________\\n\\nCONFIDENTIAL TREATMENT HAS BEEN REQUESTED FOR PORTIONS OF THIS EXHIBIT. THE COPY FILED HEREWITH OMITS THE INFORMATION SUBJECT TO A CONFIDENTIALITY REQUEST. OMISSIONS ARE DESIGNATED [***]. A COMPLETE VERSION OF THIS EXHIBIT HAS BEEN FILED SEPARATELY WITH THE SECURITIES AND EXCHANGE COMMISSION.\\n\\nSource: DOVA PHARMACEUTICALS INC., 10-Q, 11/8/2018\\n\\n\\n\\n\\n\\nTABLE OF CONTENTS\\n\\nPage\\n\\nARTICLE 1 DEFINITIONS 1\\n\\nARTICLE 2 RIGHTS AND OBLIGATIONS 8\\n\\n2.1 Engagement; Grant of Rights. 8\\n\\n2.2 Retention of Rights. 9\\n\\n2.3 Non-Competition; Non-Solicitation. 9\\n\\n2.4 Dova Trademarks and Copyrights. 10\\n\\nARTICLE 3 JOINT STEERING COMMITTEE 11\\n\\n3.1 Formation of the JSC. 11\\n\\n3.2 Meetings and Minutes. 11\\n\\n3.3 Purpose of the JSC. 11\\n\\n3.4 Decision Making. 13\\n\\n3.5 Marketing Sub-Committee. 13\\n\\nARTICLE 4 VALEANT ACTIVITIES FOR THE PRODUCT 14\\n\\n4.1 Valeant Activities. 14\\n\\n4.2 Detailing. 15\\n\\n4.3 Compliance with Applicable Law. 17\\n\\n4.4 Field Force Personnel Training; Product Materials. 19\\n\\n4.5 Provisions Related to Field Force Personnel. 21\\n\\n4.6 Responsibility for Valeant Activity Costs and Expenses. 22\\n\\n4.7 Data Sharing. 22\\n\\nARTICLE 5 REGULATORY, SAFETY AND SURVEILLANCE, COMMERCIAL MATTERS 23\\n\\n5.1 Dova Responsibility. 23\\n\\n5.2 Valeant Involvement. 23\\n\\n5.3 Inspections. 23\\n\\n5.4 Pharmacovigilance. 24\\n\\n5.5 Unsolicited Requests for Medical Information. 24\\n\\n5.6 Recalls and Market Withdrawals. 25\\n\\n5.7 Certain Reporting Responsibilities. 25\\n\\n5.8 Booking of Sales Revenues. 25\\n\\n5.9 Returns. 25\\n\\nSource: DOVA PHARMACEUTICALS INC., 10-Q, 11/8/2018\\n\\n\\n\\n\\n\\ni\\n\\nCONFIDENTIAL TREATMENT HAS BEEN REQUESTED FOR PORTIONS OF THIS EXHIBIT. THE COPY FILED HEREWITH OMITS THE INFORMATION SUBJECT TO A CONFIDENTIALITY REQUEST. OMISSIONS ARE DESIGNATED [***]. A COMPLETE VERSION OF THIS EXHIBIT HAS BEEN FILED SEPARATELY WITH THE SECURITIES AND EXCHANGE COMMISSION.\\n\\nSource: DOVA PHARMACEUTICALS INC., 10-Q, 11/8/2018\\n\\n\\n\\n\\n\\nTABLE OF CONTENTS (continued)\\n\\n5.10 Manufacturing; Distribution; Marketing. 25\\n\\nARTICLE 6 FINANCIAL PROVISIONS 26\\n\\n6.1 Promotion Fee. 26\\n\\n6.2 Milestone Payment. 27\\n\\n6.3 Reports; Payments. 27\\n\\n6.4 Taxes. 28\\n\\n6.5 Determination of Specialty. 29\\n\\nARTICLE 7 AUDIT RIGHTS 30\\n\\n7.1 Recordkeeping. 30\\n\\n7.2 Valeant Rights.'"
            ]
          },
          "metadata": {
            "tags": []
          },
          "execution_count": 52
        }
      ]
    },
    {
      "cell_type": "code",
      "metadata": {
        "id": "R1eywMUlS_9H",
        "colab": {
          "base_uri": "https://localhost:8080/"
        },
        "outputId": "978328f9-a9ba-4cbf-d530-b981a2663342"
      },
      "source": [
        "for key in contract_data['data'][m]['paragraphs'][0]:\n",
        "  print('Data type of {}:'.format(key).upper(),type(contract_data['data'][m]['paragraphs'][0][key]))"
      ],
      "execution_count": null,
      "outputs": [
        {
          "output_type": "stream",
          "text": [
            "DATA TYPE OF QAS: <class 'list'>\n",
            "DATA TYPE OF CONTEXT: <class 'str'>\n"
          ],
          "name": "stdout"
        }
      ]
    },
    {
      "cell_type": "code",
      "metadata": {
        "id": "rBDAnIHxW3wH",
        "colab": {
          "base_uri": "https://localhost:8080/"
        },
        "outputId": "55f7c626-5ea0-4424-f73e-84a098d8265e"
      },
      "source": [
        "print('There are {} items in the \\'qas\\' list in the data dictionary'.format(len(contract_data['data'][m]['paragraphs'][0]['qas'])))"
      ],
      "execution_count": null,
      "outputs": [
        {
          "output_type": "stream",
          "text": [
            "There are 41 items in the 'qas' list in the data dictionary\n"
          ],
          "name": "stdout"
        }
      ]
    },
    {
      "cell_type": "markdown",
      "metadata": {
        "id": "TYF5UViVYOLH"
      },
      "source": [
        "It can be easily shown that each data point has 41 items in the 'qas' key. "
      ]
    },
    {
      "cell_type": "code",
      "metadata": {
        "id": "cZUJ0p-kW3zD",
        "colab": {
          "base_uri": "https://localhost:8080/"
        },
        "outputId": "d43abc89-5dc4-48f3-bd15-209a52ecede9"
      },
      "source": [
        "#Initate counter dictionary to store lengths of paragraph key\n",
        "item_count = Counter()\n",
        "\n",
        "#For each data point\n",
        "for i in range(num_contracts):\n",
        "  #determine the length of the paragrah key and increment respective counter\n",
        "  item_count[len(contract_data['data'][i]['paragraphs'][0]['qas'])]+=1\n",
        "\n",
        "#Output Count analysis\n",
        "print(item_count)"
      ],
      "execution_count": null,
      "outputs": [
        {
          "output_type": "stream",
          "text": [
            "Counter({41: 510})\n"
          ],
          "name": "stdout"
        }
      ]
    },
    {
      "cell_type": "markdown",
      "metadata": {
        "id": "9ax6aOvwYoEI"
      },
      "source": [
        "This is the total number of labels to be expected.  As we are not expecting to find all of the lables in each of the contracts, there will be an additional dat apoint indicating if the label is found  "
      ]
    },
    {
      "cell_type": "code",
      "metadata": {
        "id": "h8o9br6kW32I",
        "colab": {
          "base_uri": "https://localhost:8080/"
        },
        "outputId": "437c61ce-fda4-4273-f56b-5cff080845bc"
      },
      "source": [
        "num_clauses = 41\n",
        "n = 1#choice(range(num_clauses))\n",
        "\n",
        "print('An example of clause {} in contract data point {}:\\n'.format(*(n,m)))\n",
        "\n",
        "for key in contract_data['data'][m]['paragraphs'][0]['qas'][n]:\n",
        "  print(key.upper()+':',contract_data['data'][m]['paragraphs'][0]['qas'][n][key])"
      ],
      "execution_count": null,
      "outputs": [
        {
          "output_type": "stream",
          "text": [
            "An example of clause 1 in contract data point 8:\n",
            "\n",
            "ANSWERS: [{'text': 'Valeant', 'answer_start': 1131}, {'text': 'Dova Pharmaceuticals, Inc.', 'answer_start': 4972}, {'text': 'Dova', 'answer_start': 857}, {'text': 'Dova and Valeant are each referred to individually as a \"Party\" and together as the \"Parties\".', 'answer_start': 5130}, {'text': 'Valeant Pharmaceuticals North America LLC', 'answer_start': 5037}]\n",
            "ID: DovaPharmaceuticalsInc_20181108_10-Q_EX-10.2_11414857_EX-10.2_Promotion Agreement__Parties\n",
            "QUESTION: Highlight the parts (if any) of this contract related to \"Parties\" that should be reviewed by a lawyer. Details: The two or more parties who signed the contract\n",
            "IS_IMPOSSIBLE: False\n"
          ],
          "name": "stdout"
        }
      ]
    },
    {
      "cell_type": "markdown",
      "metadata": {
        "id": "JMOLMH7VZpRk"
      },
      "source": [
        "We see that the 'is_possible' field provides a True/False view of the clause being found.  This will allow us to reconsice the number of clauses in the data vs. the published paper"
      ]
    },
    {
      "cell_type": "code",
      "metadata": {
        "id": "2j4U08ByW34u",
        "colab": {
          "base_uri": "https://localhost:8080/"
        },
        "outputId": "0e1f38bf-4b5d-4e23-f361-cc27f7f338e4"
      },
      "source": [
        "#Initate Counter\n",
        "clause_counter = Counter()\n",
        "\n",
        "for i in range(num_contracts):\n",
        "  for j in range(num_clauses):\n",
        "    clause_counter[contract_data['data'][i]['paragraphs'][0]['qas'][j]['is_impossible']] +=1\n",
        "\n",
        "print(clause_counter)"
      ],
      "execution_count": null,
      "outputs": [
        {
          "output_type": "stream",
          "text": [
            "Counter({True: 14208, False: 6702})\n"
          ],
          "name": "stdout"
        }
      ]
    },
    {
      "cell_type": "markdown",
      "metadata": {
        "id": "9AtnChSyaxDu"
      },
      "source": [
        "This count falls short of the 13101 expected in the paper.  Investigating the 'answers' key we can see that it is possible for there to be multiple answers to eash question (i.e. pultiple labels per clause per contract)"
      ]
    },
    {
      "cell_type": "code",
      "metadata": {
        "id": "8ggboAm0W374",
        "colab": {
          "base_uri": "https://localhost:8080/"
        },
        "outputId": "1c53c6dc-2f68-4cf7-b04e-6097a7ee7df1"
      },
      "source": [
        "contract_data['data'][m]['paragraphs'][0]['qas'][n]['answers']"
      ],
      "execution_count": null,
      "outputs": [
        {
          "output_type": "execute_result",
          "data": {
            "text/plain": [
              "[{'answer_start': 1131, 'text': 'Valeant'},\n",
              " {'answer_start': 4972, 'text': 'Dova Pharmaceuticals, Inc.'},\n",
              " {'answer_start': 857, 'text': 'Dova'},\n",
              " {'answer_start': 5130,\n",
              "  'text': 'Dova and Valeant are each referred to individually as a \"Party\" and together as the \"Parties\".'},\n",
              " {'answer_start': 5037, 'text': 'Valeant Pharmaceuticals North America LLC'}]"
            ]
          },
          "metadata": {
            "tags": []
          },
          "execution_count": 19
        }
      ]
    },
    {
      "cell_type": "markdown",
      "metadata": {
        "id": "bpWWstvpcOmD"
      },
      "source": [
        "Allowing for this in the count code, we get:"
      ]
    },
    {
      "cell_type": "code",
      "metadata": {
        "id": "qCCvldUbbSAt",
        "colab": {
          "base_uri": "https://localhost:8080/"
        },
        "outputId": "5ed617ba-d47a-430d-d5ed-5eccc7cede78"
      },
      "source": [
        "#Initate Counter\n",
        "clause_counter = Counter()\n",
        "\n",
        "for i in range(num_contracts):\n",
        "  for j in range(num_clauses):\n",
        "    for k in range(len(contract_data['data'][i]['paragraphs'][0]['qas'][j]['answers'])):\n",
        "      clause_counter[contract_data['data'][i]['paragraphs'][0]['qas'][j]['is_impossible']] +=1\n",
        "\n",
        "print(clause_counter)"
      ],
      "execution_count": null,
      "outputs": [
        {
          "output_type": "stream",
          "text": [
            "Counter({False: 13823})\n"
          ],
          "name": "stdout"
        }
      ]
    },
    {
      "cell_type": "markdown",
      "metadata": {
        "id": "wO8CPXD6bvWI"
      },
      "source": [
        "This total is closer to the expected total of 13,101 from the paper.  We will procede with the total from this analysis, howeve caution will be taken as there may be underlying issues for the discrepency that need adressing\n",
        "\n",
        "**NOTE**: as k = 0 if no clauses are found, the above will not count the impossible labels"
      ]
    },
    {
      "cell_type": "code",
      "metadata": {
        "id": "LqTgZkkQbSDs",
        "colab": {
          "base_uri": "https://localhost:8080/"
        },
        "outputId": "ee069202-3693-4995-8156-6fc61652f3d4"
      },
      "source": [
        "print('An example of clause {} in contract data point {}:\\n'.format(*(n,m)))\n",
        "\n",
        "for key in contract_data['data'][m]['paragraphs'][0]['qas'][n]:\n",
        "  print(key.upper()+':',contract_data['data'][m]['paragraphs'][0]['qas'][n][key])"
      ],
      "execution_count": null,
      "outputs": [
        {
          "output_type": "stream",
          "text": [
            "An example of clause 1 in contract data point 8:\n",
            "\n",
            "ANSWERS: [{'text': 'Valeant', 'answer_start': 1131}, {'text': 'Dova Pharmaceuticals, Inc.', 'answer_start': 4972}, {'text': 'Dova', 'answer_start': 857}, {'text': 'Dova and Valeant are each referred to individually as a \"Party\" and together as the \"Parties\".', 'answer_start': 5130}, {'text': 'Valeant Pharmaceuticals North America LLC', 'answer_start': 5037}]\n",
            "ID: DovaPharmaceuticalsInc_20181108_10-Q_EX-10.2_11414857_EX-10.2_Promotion Agreement__Parties\n",
            "QUESTION: Highlight the parts (if any) of this contract related to \"Parties\" that should be reviewed by a lawyer. Details: The two or more parties who signed the contract\n",
            "IS_IMPOSSIBLE: False\n"
          ],
          "name": "stdout"
        }
      ]
    },
    {
      "cell_type": "markdown",
      "metadata": {
        "id": "0BJwx1lTdW-r"
      },
      "source": [
        "The 'question' key provides a view of the question posed to the laywer for annotation"
      ]
    },
    {
      "cell_type": "code",
      "metadata": {
        "id": "7yr-r_zvbSHO",
        "colab": {
          "base_uri": "https://localhost:8080/"
        },
        "outputId": "03df94d2-b249-4085-c721-cc6404873ed5"
      },
      "source": [
        "print(contract_data['data'][m]['paragraphs'][0]['qas'][n]['question'])"
      ],
      "execution_count": null,
      "outputs": [
        {
          "output_type": "stream",
          "text": [
            "Highlight the parts (if any) of this contract related to \"Parties\" that should be reviewed by a lawyer. Details: The two or more parties who signed the contract\n"
          ],
          "name": "stdout"
        }
      ]
    },
    {
      "cell_type": "markdown",
      "metadata": {
        "id": "svQXUBl6dcfm"
      },
      "source": [
        "The 'id' key provides a concatenation of the contract title and the clause in question"
      ]
    },
    {
      "cell_type": "code",
      "metadata": {
        "id": "QkPmtfx9dOWo",
        "colab": {
          "base_uri": "https://localhost:8080/"
        },
        "outputId": "34a11e44-8891-4adb-8455-8690ad261d03"
      },
      "source": [
        "print(contract_data['data'][m]['paragraphs'][0]['qas'][n]['id'])"
      ],
      "execution_count": null,
      "outputs": [
        {
          "output_type": "stream",
          "text": [
            "DovaPharmaceuticalsInc_20181108_10-Q_EX-10.2_11414857_EX-10.2_Promotion Agreement__Parties\n"
          ],
          "name": "stdout"
        }
      ]
    },
    {
      "cell_type": "markdown",
      "metadata": {
        "id": "8zJWwsDOdk2p"
      },
      "source": [
        "This can easily be split by noting that a double underscore '__' seperates the values"
      ]
    },
    {
      "cell_type": "code",
      "metadata": {
        "id": "WLpRX1ThdsAr",
        "colab": {
          "base_uri": "https://localhost:8080/"
        },
        "outputId": "7e064760-6c8b-4de6-f8e1-978e885225ff"
      },
      "source": [
        "print(contract_data['data'][m]['paragraphs'][0]['qas'][n]['id'].split(sep='__'))"
      ],
      "execution_count": null,
      "outputs": [
        {
          "output_type": "stream",
          "text": [
            "['DovaPharmaceuticalsInc_20181108_10-Q_EX-10.2_11414857_EX-10.2_Promotion Agreement', 'Parties']\n"
          ],
          "name": "stdout"
        }
      ]
    },
    {
      "cell_type": "markdown",
      "metadata": {
        "id": "elRr3QzRbQ95"
      },
      "source": [
        "The answers key consistso of a list of dictionaries.  If a clause is found in the contract the respective annotation will be added to this list.  If multiple annotations are made, the list will have a legnth > 1\n",
        "\n",
        "**NOTE:** If no clauses are found, this will have length = 0"
      ]
    },
    {
      "cell_type": "code",
      "metadata": {
        "id": "E-mbuZdpemF7",
        "colab": {
          "base_uri": "https://localhost:8080/"
        },
        "outputId": "e87156f5-dc35-4248-c1cc-d6c0860ad5dd"
      },
      "source": [
        "print('Data Type:'.upper(),type(contract_data['data'][m]['paragraphs'][0]['qas'][n]['answers']))\n",
        "print('Data length:'.upper(),len(contract_data['data'][m]['paragraphs'][0]['qas'][n]['answers']))"
      ],
      "execution_count": null,
      "outputs": [
        {
          "output_type": "stream",
          "text": [
            "DATA TYPE: <class 'list'>\n",
            "DATA LENGTH: 5\n"
          ],
          "name": "stdout"
        }
      ]
    },
    {
      "cell_type": "markdown",
      "metadata": {
        "id": "4k6bTgtBbRBs"
      },
      "source": [
        "Each entry in this list (if one exists) consists of a dictioary with two keys"
      ]
    },
    {
      "cell_type": "code",
      "metadata": {
        "id": "1J-PcdpngGm9",
        "colab": {
          "base_uri": "https://localhost:8080/"
        },
        "outputId": "4f1ca533-8c08-4bbe-f716-86cd2fb852c5"
      },
      "source": [
        "print(type(contract_data['data'][m]['paragraphs'][0]['qas'][n]['answers'][0]))\n",
        "print(contract_data['data'][m]['paragraphs'][0]['qas'][n]['answers'][0].keys())"
      ],
      "execution_count": null,
      "outputs": [
        {
          "output_type": "stream",
          "text": [
            "<class 'dict'>\n",
            "dict_keys(['text', 'answer_start'])\n"
          ],
          "name": "stdout"
        }
      ]
    },
    {
      "cell_type": "code",
      "metadata": {
        "id": "XD7F53TogaNJ",
        "colab": {
          "base_uri": "https://localhost:8080/"
        },
        "outputId": "59ed54e4-6f0b-48c9-9fd7-e2733d49609c"
      },
      "source": [
        "for key in contract_data['data'][m]['paragraphs'][0]['qas'][n]['answers'][0].keys():\n",
        "  print(key.upper() + ':',contract_data['data'][m]['paragraphs'][0]['qas'][n]['answers'][0][key])"
      ],
      "execution_count": null,
      "outputs": [
        {
          "output_type": "stream",
          "text": [
            "TEXT: Valeant\n",
            "ANSWER_START: 1131\n"
          ],
          "name": "stdout"
        }
      ]
    },
    {
      "cell_type": "markdown",
      "metadata": {
        "id": "gWCHmBvIhJWl"
      },
      "source": [
        "The 'text' key provides the annotated text extracted from the contract and the 'answer_start' key, the character start point in the 'context' data outlined above.  \n",
        "\n",
        "The code below demonstrates that the text field above can be parsed from the context data using the answer_start data.  "
      ]
    },
    {
      "cell_type": "code",
      "metadata": {
        "id": "q3eDplMug4mL",
        "colab": {
          "base_uri": "https://localhost:8080/",
          "height": 36
        },
        "outputId": "208103cb-1f54-4fb7-a918-55703f4bb7f3"
      },
      "source": [
        "#Define start and end point for annotation in context data\n",
        "extract_len = len(contract_data['data'][m]['paragraphs'][0]['qas'][n]['answers'][0]['text'])\n",
        "extract_start = contract_data['data'][m]['paragraphs'][0]['qas'][n]['answers'][0]['answer_start']\n",
        "extract_end = extract_start + extract_len\n",
        "\n",
        "#Obtain the context data for the specific contract\n",
        "contract_context = contract_data['data'][m]['paragraphs'][0]['context']\n",
        "\n",
        "#Output the parsed string from the context\n",
        "contract_context[extract_start:extract_end]"
      ],
      "execution_count": null,
      "outputs": [
        {
          "output_type": "execute_result",
          "data": {
            "application/vnd.google.colaboratory.intrinsic+json": {
              "type": "string"
            },
            "text/plain": [
              "'Valeant'"
            ]
          },
          "metadata": {
            "tags": []
          },
          "execution_count": 50
        }
      ]
    }
  ]
}