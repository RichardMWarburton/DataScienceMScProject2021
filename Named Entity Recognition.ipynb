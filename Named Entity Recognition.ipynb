{
  "nbformat": 4,
  "nbformat_minor": 0,
  "metadata": {
    "kernelspec": {
      "display_name": "Python 3",
      "language": "python",
      "name": "python3"
    },
    "language_info": {
      "codemirror_mode": {
        "name": "ipython",
        "version": 3
      },
      "file_extension": ".py",
      "mimetype": "text/x-python",
      "name": "python",
      "nbconvert_exporter": "python",
      "pygments_lexer": "ipython3",
      "version": "3.7.4"
    },
    "colab": {
      "name": "Exploratory Data Analysis.ipynb",
      "provenance": [],
      "include_colab_link": true
    }
  },
  "cells": [
    {
      "cell_type": "markdown",
      "metadata": {
        "id": "view-in-github",
        "colab_type": "text"
      },
      "source": [
        "<a href=\"https://colab.research.google.com/github/RichardMWarburton/ExploringCUAD/blob/Dev/Named%20Entity%20Recognition.ipynb\" target=\"_parent\"><img src=\"https://colab.research.google.com/assets/colab-badge.svg\" alt=\"Open In Colab\"/></a>"
      ]
    },
    {
      "cell_type": "markdown",
      "metadata": {
        "id": "SlHNM0ylUtXc"
      },
      "source": [
        "# Named Entity Recognition\n",
        "\n",
        "This notebook investigates extracting named entities from the the governing law annotations.\n",
        "\n",
        "\n",
        "\n"
      ]
    },
    {
      "cell_type": "markdown",
      "metadata": {
        "id": "bQ4UlOkTUtXj"
      },
      "source": [
        "## The Data\n",
        "\n",
        "CUAD: An Expert-Annotated NLP Dataset for Legal Contract Review\n",
        "\n",
        "https://arxiv.org/abs/2103.06268\n",
        "\n",
        "This code is an adaptation of the scrape.py file avaliable on the github repository for CUAD.  It has been adapted to run in Jypter notebooks and allow us to step throght the coding line by line.`"
      ]
    },
    {
      "cell_type": "markdown",
      "metadata": {
        "id": "maa-snhRqRjR"
      },
      "source": [
        "## 1: Import Packages & Define Useful Functions"
      ]
    },
    {
      "cell_type": "code",
      "metadata": {
        "id": "s41Gdd-7UtXh"
      },
      "source": [
        "from zipfile import ZipFile\n",
        "import json\n",
        "import os\n",
        "from collections import Counter, defaultdict\n",
        "import matplotlib.pyplot as plt\n",
        "import re\n",
        "from random import sample, choice\n",
        "import numpy as np\n",
        "import pandas as pd\n",
        "import re\n",
        "import string\n",
        "from sklearn.manifold import TSNE\n",
        "from sklearn.feature_extraction.text import TfidfVectorizer\n",
        "from sklearn.cluster import DBSCAN, KMeans\n",
        "from sklearn.cluster import AgglomerativeClustering"
      ],
      "execution_count": 1,
      "outputs": []
    },
    {
      "cell_type": "code",
      "metadata": {
        "id": "nAHzdcCrUtXl"
      },
      "source": [
        "def extract_zip(pth,data_pth = None):\n",
        "    \"\"\"Function to extract contents of a zip file to a specified location (wd if data_pth not passed)\"\"\"\n",
        "    with ZipFile(pth, 'r') as zipObj:\n",
        "       # Extract all the contents of zip file in different directory\n",
        "       zipObj.extractall(data_pth)"
      ],
      "execution_count": 2,
      "outputs": []
    },
    {
      "cell_type": "markdown",
      "metadata": {
        "id": "k5RS1m1RUtXk"
      },
      "source": [
        "## 2: Download repository and extract data"
      ]
    },
    {
      "cell_type": "code",
      "metadata": {
        "id": "pWljb-PkUtXm",
        "colab": {
          "base_uri": "https://localhost:8080/"
        },
        "outputId": "95885b71-0d40-42ba-aa54-7f8deb010856"
      },
      "source": [
        "#Download CUAD git repository\n",
        "if not os.path.exists('main.zip'):\n",
        "  !wget --no-check-certificate https://github.com/TheAtticusProject/cuad/archive/refs/heads/main.zip\n",
        "  !unzip -q main.zip\n",
        "\n",
        "#If it has not already been extracted, extract the contents of data.zip\n",
        "if not os.path.exists('cuad-main/data'):\n",
        "  os.makedirs('cuad-main/data')\n",
        "\n",
        "if not os.path.exists('cuad-main/data/CUADv1.json'):\n",
        "  extract_zip('cuad-main/data.zip','cuad-main/data/')\n",
        "\n",
        "#Download a manualy curated set of labels for the full CUAD data. \n",
        "if not os.path.exists('labels3.txt'):\n",
        "  !wget https://raw.githubusercontent.com/RichardMWarburton/ExploringCUAD/main/labels3.txt"
      ],
      "execution_count": 3,
      "outputs": [
        {
          "output_type": "stream",
          "text": [
            "--2021-07-16 13:48:39--  https://github.com/TheAtticusProject/cuad/archive/refs/heads/main.zip\n",
            "Resolving github.com (github.com)... 140.82.114.3\n",
            "Connecting to github.com (github.com)|140.82.114.3|:443... connected.\n",
            "HTTP request sent, awaiting response... 302 Found\n",
            "Location: https://codeload.github.com/TheAtticusProject/cuad/zip/refs/heads/main [following]\n",
            "--2021-07-16 13:48:39--  https://codeload.github.com/TheAtticusProject/cuad/zip/refs/heads/main\n",
            "Resolving codeload.github.com (codeload.github.com)... 140.82.114.9\n",
            "Connecting to codeload.github.com (codeload.github.com)|140.82.114.9|:443... connected.\n",
            "HTTP request sent, awaiting response... 200 OK\n",
            "Length: unspecified [application/zip]\n",
            "Saving to: ‘main.zip’\n",
            "\n",
            "main.zip                [   <=>              ]  17.77M  21.3MB/s    in 0.8s    \n",
            "\n",
            "2021-07-16 13:48:40 (21.3 MB/s) - ‘main.zip’ saved [18631176]\n",
            "\n",
            "--2021-07-16 13:48:41--  https://raw.githubusercontent.com/RichardMWarburton/ExploringCUAD/main/labels3.txt\n",
            "Resolving raw.githubusercontent.com (raw.githubusercontent.com)... 185.199.110.133, 185.199.111.133, 185.199.109.133, ...\n",
            "Connecting to raw.githubusercontent.com (raw.githubusercontent.com)|185.199.110.133|:443... connected.\n",
            "HTTP request sent, awaiting response... 200 OK\n",
            "Length: 47879 (47K) [text/plain]\n",
            "Saving to: ‘labels3.txt’\n",
            "\n",
            "labels3.txt         100%[===================>]  46.76K  --.-KB/s    in 0.01s   \n",
            "\n",
            "2021-07-16 13:48:41 (4.74 MB/s) - ‘labels3.txt’ saved [47879/47879]\n",
            "\n"
          ],
          "name": "stdout"
        }
      ]
    },
    {
      "cell_type": "code",
      "metadata": {
        "id": "-j6zwYHHUtXp"
      },
      "source": [
        "#Load CUADv1 JSON to data\n",
        "with open('cuad-main/data/CUADv1.json','r') as infile:\n",
        "    for line in infile:\n",
        "        contract_data = json.loads(line)"
      ],
      "execution_count": 4,
      "outputs": []
    },
    {
      "cell_type": "markdown",
      "metadata": {
        "id": "G_1H8XPNxNTG"
      },
      "source": [
        "### 2.1: Read in Label Data & Generate Look Up Dictionary"
      ]
    },
    {
      "cell_type": "code",
      "metadata": {
        "id": "yHqEpKU5xNjB"
      },
      "source": [
        "#Initate storage for labels look up (LU)\n",
        "labels_LU = {}\n",
        "\n",
        "#Read in labels data\n",
        "with open('labels3.txt','r',encoding ='UTF-8') as infile:\n",
        "  for line in infile:\n",
        "    #Remove trailing special characters and split on tab\n",
        "    data = line.strip().split(sep='\\t')\n",
        "    #Add name and label to labels_LU dictionary\n",
        "    labels_LU[data[0]] = data[1]"
      ],
      "execution_count": 5,
      "outputs": []
    },
    {
      "cell_type": "markdown",
      "metadata": {
        "id": "LKjA7wac3yse"
      },
      "source": [
        "The look up returns one error, most likely due to the accented E and a disparity of encoding.  This will be forced to 'Marketing Agreement' manually for now (EITHER SORT OR PROVIDE EXAMPLE)"
      ]
    },
    {
      "cell_type": "markdown",
      "metadata": {
        "id": "igP7vzKnqac7"
      },
      "source": [
        "### 2.2: Extract Raw Contract Data"
      ]
    },
    {
      "cell_type": "code",
      "metadata": {
        "id": "MgadIkwcqemy"
      },
      "source": [
        "#ser reg ex expression for characters to remove from contract contest\n",
        "spec_chars = '\\\\n|\\\\t|\\\\t'\n",
        "\n",
        "#Set number of contracts in data\n",
        "num_contracts = len(contract_data['data'])\n",
        "\n",
        "#Initate dictionary to store raw contract data\n",
        "raw_contracts = defaultdict(list)\n",
        "\n",
        "#for each contract\n",
        "for i in range(num_contracts):\n",
        "  #Append the title, contract text and character length of text to the raw_contracts dictionary\n",
        "  raw_contracts['contract title'].append(contract_data['data'][i]['title'])\n",
        "  raw_contracts['label'].append(labels_LU[contract_data['data'][i]['title']] if contract_data['data'][i]['title'] in labels_LU else 'marketing agreement' ) #<- manual error trap applied here (see below)\n",
        "  \n",
        "  #Parse raw text and process to remove breaks\n",
        "  raw_text = contract_data['data'][i]['paragraphs'][0]['context']\n",
        "  clean_text = re.sub(spec_chars,'',raw_text)\n",
        "\n",
        "  #Split clean text in to sentances and tokens\n",
        "  sentance_text = clean_text.split(sep = '. ')\n",
        "  token_text = clean_text.split(sep = ' ')\n",
        "\n",
        "  #Append text to the respective key in the raw_contracts dictionary\n",
        "  raw_contracts['raw text'].append(raw_text)\n",
        "  raw_contracts['clean text'].append(clean_text)\n",
        "  raw_contracts['sentance text'].append(sentance_text)\n",
        "  raw_contracts['token text'].append(token_text)\n",
        "  \n",
        "  #Add character, sentance and token counts to raw_contracts dictionary\n",
        "  raw_contracts['character count'].append(len(raw_text))\n",
        "  raw_contracts['sentance count'].append(len(sentance_text))\n",
        "  raw_contracts['token count'].append(len(token_text))\n"
      ],
      "execution_count": 6,
      "outputs": []
    },
    {
      "cell_type": "code",
      "metadata": {
        "colab": {
          "base_uri": "https://localhost:8080/"
        },
        "id": "PSb9uTRWzk2O",
        "outputId": "296cb527-0876-41f5-9dbd-acfeda26e4bb"
      },
      "source": [
        "#Sanity check value lists for each key ahve the correct length (510)\n",
        "for key in raw_contracts:\n",
        "  print(key,len(raw_contracts[key]))"
      ],
      "execution_count": 7,
      "outputs": [
        {
          "output_type": "stream",
          "text": [
            "contract title 510\n",
            "label 510\n",
            "raw text 510\n",
            "clean text 510\n",
            "sentance text 510\n",
            "token text 510\n",
            "character count 510\n",
            "sentance count 510\n",
            "token count 510\n"
          ],
          "name": "stdout"
        }
      ]
    },
    {
      "cell_type": "markdown",
      "metadata": {
        "id": "n876lWEZsh7o"
      },
      "source": [
        "### 2.3: Extract Clause Specific Data"
      ]
    },
    {
      "cell_type": "code",
      "metadata": {
        "id": "tg1TjBOurSrD"
      },
      "source": [
        "#Define the number of clauses\n",
        "num_clauses = 41\n",
        "\n",
        "#initate dictioanry to store caluse data\n",
        "clause_data = defaultdict(list)\n",
        "\n",
        "#For each contract\n",
        "for i in range(num_contracts):\n",
        "  #for each clause\n",
        "  for j in range(num_clauses):\n",
        "    #for each found clause annotation\n",
        "    for k in range(len(contract_data['data'][i]['paragraphs'][0]['qas'][j]['answers'])): \n",
        "      #Add the contract title\n",
        "      clause_data['contract title'].append(contract_data['data'][i]['title'])\n",
        "      clause_data['label'].append(labels_LU[contract_data['data'][i]['title']] if contract_data['data'][i]['title'] in labels_LU else 'marketing agreement' )  #<- manual error trap applied here\n",
        "      clause_data['clause'].append(contract_data['data'][i]['paragraphs'][0]['qas'][j]['id'].split(sep='__')[1])\n",
        "      clause_data['annotation'].append(contract_data['data'][i]['paragraphs'][0]['qas'][j]['answers'][k]['text'])\n",
        "      clause_data['annotation start'].append(contract_data['data'][i]['paragraphs'][0]['qas'][j]['answers'][k]['answer_start'])\n",
        "      clause_data['annotation length'].append(len(contract_data['data'][i]['paragraphs'][0]['qas'][j]['answers'][k]['text']))\n"
      ],
      "execution_count": 8,
      "outputs": []
    },
    {
      "cell_type": "code",
      "metadata": {
        "colab": {
          "base_uri": "https://localhost:8080/"
        },
        "id": "ysUYbTddsqqD",
        "outputId": "85b5f415-4315-4f2b-a9cf-587bfb493771"
      },
      "source": [
        "#Sanity check value lists for each key ahve the correct length (13823)\n",
        "for key in clause_data:\n",
        "  print(key,len(clause_data[key]))"
      ],
      "execution_count": 9,
      "outputs": [
        {
          "output_type": "stream",
          "text": [
            "contract title 13823\n",
            "label 13823\n",
            "clause 13823\n",
            "annotation 13823\n",
            "annotation start 13823\n",
            "annotation length 13823\n"
          ],
          "name": "stdout"
        }
      ]
    },
    {
      "cell_type": "code",
      "metadata": {
        "id": "-2qHd0moLY4t",
        "colab": {
          "base_uri": "https://localhost:8080/"
        },
        "outputId": "9f0ab73f-d0b9-4aee-f9d3-2774a9d6781d"
      },
      "source": [
        "np.unique(clause_data['clause'])"
      ],
      "execution_count": 10,
      "outputs": [
        {
          "output_type": "execute_result",
          "data": {
            "text/plain": [
              "array(['Affiliate License-Licensee', 'Affiliate License-Licensor',\n",
              "       'Agreement Date', 'Anti-Assignment', 'Audit Rights',\n",
              "       'Cap On Liability', 'Change Of Control',\n",
              "       'Competitive Restriction Exception', 'Covenant Not To Sue',\n",
              "       'Document Name', 'Effective Date', 'Exclusivity',\n",
              "       'Expiration Date', 'Governing Law', 'Insurance',\n",
              "       'Ip Ownership Assignment', 'Irrevocable Or Perpetual License',\n",
              "       'Joint Ip Ownership', 'License Grant', 'Liquidated Damages',\n",
              "       'Minimum Commitment', 'Most Favored Nation',\n",
              "       'No-Solicit Of Customers', 'No-Solicit Of Employees',\n",
              "       'Non-Compete', 'Non-Disparagement', 'Non-Transferable License',\n",
              "       'Notice Period To Terminate Renewal', 'Parties',\n",
              "       'Post-Termination Services', 'Price Restrictions', 'Renewal Term',\n",
              "       'Revenue/Profit Sharing', 'Rofr/Rofo/Rofn', 'Source Code Escrow',\n",
              "       'Termination For Convenience', 'Third Party Beneficiary',\n",
              "       'Uncapped Liability', 'Unlimited/All-You-Can-Eat-License',\n",
              "       'Volume Restriction', 'Warranty Duration'], dtype='<U34')"
            ]
          },
          "metadata": {
            "tags": []
          },
          "execution_count": 10
        }
      ]
    },
    {
      "cell_type": "markdown",
      "metadata": {
        "id": "1ojxytoG46D9"
      },
      "source": [
        "## 3: Cleaning data and extracting a single clause"
      ]
    },
    {
      "cell_type": "code",
      "metadata": {
        "id": "fXET1UnSbTpM"
      },
      "source": [
        "#Initate dataframe of all clause data\n",
        "clause_df = pd.DataFrame(clause_data)\n",
        "\n",
        "#Convert to lower case\n",
        "#clause_df['annotation'] = clause_df['annotation'].apply(lambda x: x.lower())\n",
        "\n",
        "#Remove any formating characters or multiple spaces and replace with a single space\n",
        "clause_df['annotation'] = clause_df['annotation'].apply(lambda x: re.sub('\\\\t|\\\\r|\\\\n|[^\\S]{2,}',' ',x))\n",
        "\n",
        "#Remove punctuation from the string\n",
        "clause_df['annotation'] = clause_df['annotation'].apply(lambda x: x.translate(str.maketrans('', '', string.punctuation)))"
      ],
      "execution_count": 11,
      "outputs": []
    },
    {
      "cell_type": "code",
      "metadata": {
        "colab": {
          "base_uri": "https://localhost:8080/"
        },
        "id": "B3xFTGsWJ0fH",
        "outputId": "dcf97e06-cd00-461d-e63d-81a5eedc3c82"
      },
      "source": [
        "#Define clause of interest\n",
        "clause_of_interest = 'Governing Law'\n",
        "\n",
        "#Limit df to clause of interest and extract annotations of itnerest\n",
        "of_interest_data = clause_df[clause_df['clause'] == clause_of_interest]\n",
        "annotations_of_interest = of_interest_data['annotation'].values\n",
        "\n",
        "#Identify where there are multiple annotations per contract\n",
        "titles,counts = np.unique(of_interest_data['contract title'],return_counts =True)\n",
        "dups = titles[counts >= 2]\n",
        "\n",
        "#Output Analysis\n",
        "print('There are {} contracts with \\'{}\\' annotations'.format(*(titles.shape[0],clause_of_interest)))\n",
        "print('There are {} contracts with more than one annotation'.format(dups.shape[0]))"
      ],
      "execution_count": 12,
      "outputs": [
        {
          "output_type": "stream",
          "text": [
            "There are 437 contracts with 'Governing Law' annotations\n",
            "There are 25 contracts with more than one annotation\n"
          ],
          "name": "stdout"
        }
      ]
    },
    {
      "cell_type": "markdown",
      "metadata": {
        "id": "6CRZkfULhlnS"
      },
      "source": [
        "From the above we can see that: \n",
        "\n",
        "1.   Contracts may have multiple annotations for the same clause\n",
        "2.   Not all contracts have an annotation of interest\n",
        "\n",
        "Provisionally, we will look to concatinate all such annotations for a contract in to one string.  This will then represent all the salient points for the contract and clause in question."
      ]
    },
    {
      "cell_type": "code",
      "metadata": {
        "id": "RwhtFSughlvA",
        "colab": {
          "base_uri": "https://localhost:8080/"
        },
        "outputId": "6c897838-fd9c-4ade-92ba-d31fac2921a4"
      },
      "source": [
        "#output duplicate annotations anc contract titles\n",
        "dup_df = of_interest_data[of_interest_data['contract title'].isin(dups)][['contract title','annotation']]\n",
        "\n",
        "#print sample of duplicate annotations\n",
        "for i in dup_df.index[:8]:\n",
        "  print(dup_df.loc[i,'contract title'])\n",
        "  print(repr(dup_df.loc[i,'annotation']))\n",
        "  #print(dup_df.loc[i,'annotation'].split(sep=' '))\n",
        "  print('\\n')"
      ],
      "execution_count": 13,
      "outputs": [
        {
          "output_type": "stream",
          "text": [
            "ChinaRealEstateInformationCorp_20090929_F-1_EX-10.32_4771615_EX-10.32_Content License Agreement\n",
            "'This Termination Agreement shall be governed by the laws of the PRC without regard to conflicts of law principles'\n",
            "\n",
            "\n",
            "ChinaRealEstateInformationCorp_20090929_F-1_EX-10.32_4771615_EX-10.32_Content License Agreement\n",
            "'This Agreement and any dispute or claim arising out of or in connection with it or its subject matter shall be governed by and construed in accordance with the laws of the Peoples Republic of China without regard to its conflicts of laws rules that would mandate the application of the laws of another jurisdiction'\n",
            "\n",
            "\n",
            "LOYALTYPOINTINC_11_16_2004-EX-10.2-RESELLER AGREEMENT\n",
            "'This Agreement shall be subject to and governed by the laws of the State of Missouri USA'\n",
            "\n",
            "\n",
            "LOYALTYPOINTINC_11_16_2004-EX-10.2-RESELLER AGREEMENT\n",
            "'This Agreement shall be deemed to have been made and executed in the State of Missouri and any dispute arising thereunder shall be resolved in accordance with the laws of the State of Missouri without reference to its rules governing conflicts of law'\n",
            "\n",
            "\n",
            "ENERGOUSCORP_03_16_2017-EX-10.24-STRATEGIC ALLIANCE AGREEMENT\n",
            "'This Letter of Authorization will be governed by and construed in accordance with the laws of California excluding its conflict of laws provisions and be subject to the nonexclusive jurisdiction of the California courts'\n",
            "\n",
            "\n",
            "ENERGOUSCORP_03_16_2017-EX-10.24-STRATEGIC ALLIANCE AGREEMENT\n",
            "'This Agreement will be governed by and construed in accordance with the laws of the State of California exclusive of conflict of laws principles'\n",
            "\n",
            "\n",
            "NANOPHASETECHNOLOGIESCORP_11_01_2005-EX-99.1-DISTRIBUTOR AGREEMENT\n",
            "'This Agreement shall be governed by and interpreted under and in accordance with the laws of the State of Delaware without regard to principles of conflicts of laws'\n",
            "\n",
            "\n",
            "NANOPHASETECHNOLOGIESCORP_11_01_2005-EX-99.1-DISTRIBUTOR AGREEMENT\n",
            "'This agreement shall be governed by and subject to the internal laws exclusive of the conflicts of law provisions and decisions of the courts of the State of Illinois'\n",
            "\n",
            "\n"
          ],
          "name": "stdout"
        }
      ]
    },
    {
      "cell_type": "markdown",
      "metadata": {
        "id": "XDOLIqlkFMfJ"
      },
      "source": [
        "**THE ABOVE COULD BE DISPLAYED BETTER**"
      ]
    },
    {
      "cell_type": "code",
      "metadata": {
        "id": "aiO83dK-iZvG"
      },
      "source": [
        "#Initate memory for annotations within contracts\n",
        "combined_annotations_list = defaultdict(list)\n",
        "combined_annotations_string = {}\n",
        "\n",
        "#For each annotation of interest found in the contract, \n",
        "#append annotation to a default dict list with contract as key\n",
        "for i in of_interest_data.index:\n",
        "  name = of_interest_data.loc[i,['contract title']].values[0]\n",
        "  annotation = of_interest_data.loc[i,['annotation']].values[0]\n",
        "  combined_annotations_list[name].append(annotation)\n",
        "\n",
        "#Produce a singel string of all annotations found in specific contracts\n",
        "for key in combined_annotations_list.keys():\n",
        "  combined_annotations_string[key] = ' '.join(combined_annotations_list[key])"
      ],
      "execution_count": 14,
      "outputs": []
    },
    {
      "cell_type": "code",
      "metadata": {
        "id": "oyJbopX_jFY5"
      },
      "source": [
        "#Build array of contract names and concatenated annotations\n",
        "contracts = np.array(list(combined_annotations_string.keys()))\n",
        "combined_annotations = list(combined_annotations_string.values())"
      ],
      "execution_count": 42,
      "outputs": []
    },
    {
      "cell_type": "markdown",
      "metadata": {
        "id": "pQcaGdqWlf_Q"
      },
      "source": [
        "## Section 4: Texting named Entity Extraction"
      ]
    },
    {
      "cell_type": "code",
      "metadata": {
        "id": "fcMB4L-glfI3",
        "outputId": "f0dc8a46-cb39-4888-ee29-bd1287865f6c",
        "colab": {
          "base_uri": "https://localhost:8080/",
          "height": 36
        }
      },
      "source": [
        "txt = combined_annotations[0]\n",
        "txt"
      ],
      "execution_count": 35,
      "outputs": [
        {
          "output_type": "execute_result",
          "data": {
            "application/vnd.google.colaboratory.intrinsic+json": {
              "type": "string"
            },
            "text/plain": [
              "'This Agreement is to be construed according to the laws of the State of Illinois'"
            ]
          },
          "metadata": {
            "tags": []
          },
          "execution_count": 35
        }
      ]
    },
    {
      "cell_type": "code",
      "metadata": {
        "id": "3lxqpQS1lnKD",
        "outputId": "4ee62395-e9e4-4d03-b771-60ad30b956fc",
        "colab": {
          "base_uri": "https://localhost:8080/"
        }
      },
      "source": [
        "import nltk\n",
        "from nltk.tokenize import word_tokenize\n",
        "from nltk.tag import pos_tag\n",
        "\n",
        "import nltk\n",
        "nltk.download('punkt')\n",
        "nltk.download('averaged_perceptron_tagger')"
      ],
      "execution_count": 25,
      "outputs": [
        {
          "output_type": "stream",
          "text": [
            "[nltk_data] Downloading package punkt to /root/nltk_data...\n",
            "[nltk_data]   Package punkt is already up-to-date!\n",
            "[nltk_data] Downloading package averaged_perceptron_tagger to\n",
            "[nltk_data]     /root/nltk_data...\n",
            "[nltk_data]   Unzipping taggers/averaged_perceptron_tagger.zip.\n"
          ],
          "name": "stdout"
        },
        {
          "output_type": "execute_result",
          "data": {
            "text/plain": [
              "True"
            ]
          },
          "metadata": {
            "tags": []
          },
          "execution_count": 25
        }
      ]
    },
    {
      "cell_type": "code",
      "metadata": {
        "id": "odgvT-9-loFR"
      },
      "source": [
        "def preprocess(sent):\n",
        "    sent = nltk.word_tokenize(sent)\n",
        "    sent = nltk.pos_tag(sent)\n",
        "    return sent"
      ],
      "execution_count": 26,
      "outputs": []
    },
    {
      "cell_type": "code",
      "metadata": {
        "id": "q0YG_wullyQ0",
        "outputId": "f0ddaa0d-d7f3-48a7-d7fe-37bb7e7e07b0",
        "colab": {
          "base_uri": "https://localhost:8080/"
        }
      },
      "source": [
        "sent = preprocess(txt)\n",
        "sent"
      ],
      "execution_count": 27,
      "outputs": [
        {
          "output_type": "execute_result",
          "data": {
            "text/plain": [
              "[('This', 'DT'),\n",
              " ('Agreement', 'NNP'),\n",
              " ('is', 'VBZ'),\n",
              " ('to', 'TO'),\n",
              " ('be', 'VB'),\n",
              " ('construed', 'VBN'),\n",
              " ('according', 'VBG'),\n",
              " ('to', 'TO'),\n",
              " ('the', 'DT'),\n",
              " ('laws', 'NNS'),\n",
              " ('of', 'IN'),\n",
              " ('the', 'DT'),\n",
              " ('State', 'NNP'),\n",
              " ('of', 'IN'),\n",
              " ('Illinois', 'NNP')]"
            ]
          },
          "metadata": {
            "tags": []
          },
          "execution_count": 27
        }
      ]
    },
    {
      "cell_type": "code",
      "metadata": {
        "id": "cOLiOrZMl0tM",
        "outputId": "8078adf6-17cb-43db-dd4e-2ef5328b16e9",
        "colab": {
          "base_uri": "https://localhost:8080/"
        }
      },
      "source": [
        "pattern = 'NP: {<IN>?<NNP>}'\n",
        "cp = nltk.RegexpParser(pattern)\n",
        "cs = cp.parse(sent)\n",
        "print(cs)"
      ],
      "execution_count": 29,
      "outputs": [
        {
          "output_type": "stream",
          "text": [
            "(S\n",
            "  This/DT\n",
            "  (NP Agreement/NNP)\n",
            "  is/VBZ\n",
            "  to/TO\n",
            "  be/VB\n",
            "  construed/VBN\n",
            "  according/VBG\n",
            "  to/TO\n",
            "  the/DT\n",
            "  laws/NNS\n",
            "  of/IN\n",
            "  the/DT\n",
            "  (NP State/NNP)\n",
            "  (NP of/IN Illinois/NNP))\n"
          ],
          "name": "stdout"
        }
      ]
    },
    {
      "cell_type": "code",
      "metadata": {
        "id": "0mt8BQvxmYIr",
        "outputId": "cc6596ed-ccaa-4498-ca53-b2fc68ae3c7f",
        "colab": {
          "base_uri": "https://localhost:8080/"
        }
      },
      "source": [
        "from nltk.chunk import conlltags2tree, tree2conlltags\n",
        "from pprint import pprint\n",
        "iob_tagged = tree2conlltags(cs)\n",
        "pprint(iob_tagged)"
      ],
      "execution_count": 31,
      "outputs": [
        {
          "output_type": "stream",
          "text": [
            "[('This', 'DT', 'O'),\n",
            " ('Agreement', 'NNP', 'B-NP'),\n",
            " ('is', 'VBZ', 'O'),\n",
            " ('to', 'TO', 'O'),\n",
            " ('be', 'VB', 'O'),\n",
            " ('construed', 'VBN', 'O'),\n",
            " ('according', 'VBG', 'O'),\n",
            " ('to', 'TO', 'O'),\n",
            " ('the', 'DT', 'O'),\n",
            " ('laws', 'NNS', 'O'),\n",
            " ('of', 'IN', 'O'),\n",
            " ('the', 'DT', 'O'),\n",
            " ('State', 'NNP', 'B-NP'),\n",
            " ('of', 'IN', 'B-NP'),\n",
            " ('Illinois', 'NNP', 'I-NP')]\n"
          ],
          "name": "stdout"
        }
      ]
    },
    {
      "cell_type": "code",
      "metadata": {
        "id": "PEQdaHmWm0Wz"
      },
      "source": [
        "import spacy\n",
        "from spacy import displacy\n",
        "from collections import Counter\n",
        "import en_core_web_sm\n",
        "nlp = en_core_web_sm.load()\n"
      ],
      "execution_count": 33,
      "outputs": []
    },
    {
      "cell_type": "code",
      "metadata": {
        "id": "FmttVafjnXQg",
        "outputId": "880b51c4-6b35-4f00-be72-55abc54588d1",
        "colab": {
          "base_uri": "https://localhost:8080/"
        }
      },
      "source": [
        "doc = nlp(combined_annotations[1])\n",
        "pprint([(X.text, X.label_) for X in doc.ents])"
      ],
      "execution_count": 56,
      "outputs": [
        {
          "output_type": "stream",
          "text": [
            "[('English', 'LANGUAGE'), ('English', 'NORP')]\n"
          ],
          "name": "stdout"
        }
      ]
    },
    {
      "cell_type": "code",
      "metadata": {
        "id": "fB_cWo05nZd0",
        "outputId": "bdf09b80-985c-4c7f-b985-ddc5d3a20c22",
        "colab": {
          "base_uri": "https://localhost:8080/"
        }
      },
      "source": [
        "pprint([(X, X.ent_iob_, X.ent_type_) for X in doc])"
      ],
      "execution_count": 57,
      "outputs": [
        {
          "output_type": "stream",
          "text": [
            "[(This, 'O', ''),\n",
            " (Agreement, 'O', ''),\n",
            " (is, 'O', ''),\n",
            " (governed, 'O', ''),\n",
            " (by, 'O', ''),\n",
            " (English, 'B', 'LANGUAGE'),\n",
            " (law, 'O', ''),\n",
            " (and, 'O', ''),\n",
            " (the, 'O', ''),\n",
            " (parties, 'O', ''),\n",
            " (submit, 'O', ''),\n",
            " (to, 'O', ''),\n",
            " (the, 'O', ''),\n",
            " (exclusive, 'O', ''),\n",
            " (jurisdiction, 'O', ''),\n",
            " (of, 'O', ''),\n",
            " (the, 'O', ''),\n",
            " (English, 'B', 'NORP'),\n",
            " (courts, 'O', ''),\n",
            " (in, 'O', ''),\n",
            " (relation, 'O', ''),\n",
            " (to, 'O', ''),\n",
            " (any, 'O', ''),\n",
            " (dispute, 'O', ''),\n",
            " (contractual, 'O', ''),\n",
            " (or, 'O', ''),\n",
            " (noncontractual, 'O', ''),\n",
            " (concerning, 'O', ''),\n",
            " (this, 'O', ''),\n",
            " (Agreement, 'O', ''),\n",
            " (save, 'O', ''),\n",
            " (that, 'O', ''),\n",
            " (either, 'O', ''),\n",
            " (party, 'O', ''),\n",
            " (may, 'O', ''),\n",
            " (apply, 'O', ''),\n",
            " (to, 'O', ''),\n",
            " (any, 'O', ''),\n",
            " (court, 'O', ''),\n",
            " (for, 'O', ''),\n",
            " (an, 'O', ''),\n",
            " (injunction, 'O', ''),\n",
            " (or, 'O', ''),\n",
            " (other, 'O', ''),\n",
            " (relief, 'O', ''),\n",
            " (to, 'O', ''),\n",
            " (protect, 'O', ''),\n",
            " (its, 'O', ''),\n",
            " (Intellectual, 'O', ''),\n",
            " (Property, 'O', ''),\n",
            " (Rights, 'O', '')]\n"
          ],
          "name": "stdout"
        }
      ]
    },
    {
      "cell_type": "code",
      "metadata": {
        "id": "Wnun1HJxoAxk"
      },
      "source": [
        ""
      ],
      "execution_count": 41,
      "outputs": []
    },
    {
      "cell_type": "markdown",
      "metadata": {
        "id": "iTAaGGVjp_Hs"
      },
      "source": [
        "## Section 4: Parsing Annotations for Named Entities"
      ]
    },
    {
      "cell_type": "code",
      "metadata": {
        "id": "d6A1hD3ep_QA"
      },
      "source": [
        "new_features = []\n",
        "\n",
        "for annotation in combined_annotations:\n",
        "  annotation_GPEs = []\n",
        "  \n",
        "  doc = nlp(annotation)\n",
        "\n",
        "  for X in doc.ents:\n",
        "\n",
        "    if X.label_ == 'GPE' or X.label_ == 'LANGUAGE':\n",
        "      annotation_GPEs.append(X.text)\n",
        "  \n",
        "  new_features.append(annotation_GPEs)\n",
        "\n"
      ],
      "execution_count": 59,
      "outputs": []
    },
    {
      "cell_type": "code",
      "metadata": {
        "id": "Cdzsdwqxp_S6",
        "outputId": "c1b055f0-032d-4ce6-d62e-42f741322855",
        "colab": {
          "base_uri": "https://localhost:8080/"
        }
      },
      "source": [
        "for i in range(10):\n",
        "  print('Annotation Raw Text:')\n",
        "  print(combined_annotations[i],'\\n')\n",
        "  print('Extracted Locations:')\n",
        "  print(new_features[i],'\\n')\n",
        "  print('*'*75)\n",
        "\n",
        "  \n"
      ],
      "execution_count": 66,
      "outputs": [
        {
          "output_type": "stream",
          "text": [
            "Annotation Raw Text:\n",
            "This Agreement is to be construed according to the laws of the State of Illinois \n",
            "\n",
            "Extracted Locations:\n",
            "['the State of Illinois'] \n",
            "\n",
            "***************************************************************************\n",
            "Annotation Raw Text:\n",
            "This Agreement is governed by English law and the parties submit to the exclusive jurisdiction of the English courts in relation to any dispute contractual or noncontractual concerning this Agreement save that either party may apply to any court for an injunction or other relief to protect its Intellectual Property Rights \n",
            "\n",
            "Extracted Locations:\n",
            "['English'] \n",
            "\n",
            "***************************************************************************\n",
            "Annotation Raw Text:\n",
            "It will be governed by the law of the Peoples Republic of China otherwise it is governed by United Nations Convention on Contract for the International Sale of Goods \n",
            "\n",
            "Extracted Locations:\n",
            "['the Peoples Republic of China'] \n",
            "\n",
            "***************************************************************************\n",
            "Annotation Raw Text:\n",
            "This Agreement was entered into in the State of Florida and its validity construction interpretation and legal effect shall be governed by the laws and judicial decisions of the State of Florida applicable to contracts entered into and performed entirely within the State of Florida \n",
            "\n",
            "Extracted Locations:\n",
            "['the State of Florida', 'Florida', 'Florida'] \n",
            "\n",
            "***************************************************************************\n",
            "Annotation Raw Text:\n",
            "This Agreement shall be governed and construed according to the laws of the State of Kansas \n",
            "\n",
            "Extracted Locations:\n",
            "['the State of Kansas'] \n",
            "\n",
            "***************************************************************************\n",
            "Annotation Raw Text:\n",
            "This Agreement shall be governed by the laws of the State of Texas without reference to its conflicts of law principles \n",
            "\n",
            "Extracted Locations:\n",
            "['the State of Texas'] \n",
            "\n",
            "***************************************************************************\n",
            "Annotation Raw Text:\n",
            "This Amendment shall be governed by and construed in accordance with the laws of Japan \n",
            "\n",
            "Extracted Locations:\n",
            "['Japan'] \n",
            "\n",
            "***************************************************************************\n",
            "Annotation Raw Text:\n",
            "This Agreement and any and all matters arising directly or indirectly herefrom shall be governed by and construed and enforced in accordance with the internal laws of the  applicable to agreements made and to be performed entirely in such state including its statutes of limitation but without giving effect to the conflict of law principles thereof \n",
            "\n",
            "Extracted Locations:\n",
            "[] \n",
            "\n",
            "***************************************************************************\n",
            "Annotation Raw Text:\n",
            "This Agreement and the relationship between the Parties shall be governed by and interpreted in accordance with New York law without regard to provisions related to conflicts of laws and except as provided in Section 212 above the Parties agree to submit any dispute to the exclusive jurisdiction of the federal and state courts sitting in New York \n",
            "\n",
            "Extracted Locations:\n",
            "['New York', 'New York'] \n",
            "\n",
            "***************************************************************************\n",
            "Annotation Raw Text:\n",
            "THIS REMARKETING AGREEMENT AND THE PRICING AGREEMENT SHALL BE GOVERNED BY AND CONSTRUED IN ACCORDANCE WITH THE LAWS OF THE STATE OF NEW YORK WITHOUT REGARD TO PRINCIPLES OF CONFLICTS OF LAW TO THE EXTENT THAT SUCH PRINCIPLES WOULD REQUIRE OR PERMIT THE APPLICATION OF LAWS OF ANOTHER JURISDICTION \n",
            "\n",
            "Extracted Locations:\n",
            "[] \n",
            "\n",
            "***************************************************************************\n"
          ],
          "name": "stdout"
        }
      ]
    },
    {
      "cell_type": "code",
      "metadata": {
        "id": "3szvqFQ_rYTk",
        "outputId": "db6899dd-b900-4080-e0bf-1fd9b6517137",
        "colab": {
          "base_uri": "https://localhost:8080/",
          "height": 54
        }
      },
      "source": [
        "combined_annotations[7]"
      ],
      "execution_count": 61,
      "outputs": [
        {
          "output_type": "execute_result",
          "data": {
            "application/vnd.google.colaboratory.intrinsic+json": {
              "type": "string"
            },
            "text/plain": [
              "'This Agreement and any and all matters arising directly or indirectly herefrom shall be governed by and construed and enforced in accordance with the internal laws of the  applicable to agreements made and to be performed entirely in such state including its statutes of limitation but without giving effect to the conflict of law principles thereof'"
            ]
          },
          "metadata": {
            "tags": []
          },
          "execution_count": 61
        }
      ]
    },
    {
      "cell_type": "code",
      "metadata": {
        "id": "q_quTJBGr8jy"
      },
      "source": [
        ""
      ],
      "execution_count": null,
      "outputs": []
    }
  ]
}