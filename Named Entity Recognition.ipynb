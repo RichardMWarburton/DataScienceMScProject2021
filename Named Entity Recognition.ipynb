{
  "nbformat": 4,
  "nbformat_minor": 0,
  "metadata": {
    "kernelspec": {
      "display_name": "Python 3",
      "language": "python",
      "name": "python3"
    },
    "language_info": {
      "codemirror_mode": {
        "name": "ipython",
        "version": 3
      },
      "file_extension": ".py",
      "mimetype": "text/x-python",
      "name": "python",
      "nbconvert_exporter": "python",
      "pygments_lexer": "ipython3",
      "version": "3.7.4"
    },
    "colab": {
      "name": "Exploratory Data Analysis.ipynb",
      "provenance": [],
      "include_colab_link": true
    }
  },
  "cells": [
    {
      "cell_type": "markdown",
      "metadata": {
        "id": "view-in-github",
        "colab_type": "text"
      },
      "source": [
        "<a href=\"https://colab.research.google.com/github/RichardMWarburton/ExploringCUAD/blob/Dev/Named%20Entity%20Recognition.ipynb\" target=\"_parent\"><img src=\"https://colab.research.google.com/assets/colab-badge.svg\" alt=\"Open In Colab\"/></a>"
      ]
    },
    {
      "cell_type": "markdown",
      "metadata": {
        "id": "SlHNM0ylUtXc"
      },
      "source": [
        "# Named Entity Recognition\n",
        "\n",
        "This notebook investigates extracting named entities from the the governing law annotations.\n",
        "\n",
        "\n",
        "\n"
      ]
    },
    {
      "cell_type": "markdown",
      "metadata": {
        "id": "bQ4UlOkTUtXj"
      },
      "source": [
        "## The Data\n",
        "\n",
        "CUAD: An Expert-Annotated NLP Dataset for Legal Contract Review\n",
        "\n",
        "https://arxiv.org/abs/2103.06268\n",
        "\n",
        "This code is an adaptation of the scrape.py file avaliable on the github repository for CUAD.  It has been adapted to run in Jypter notebooks and allow us to step throght the coding line by line.`"
      ]
    },
    {
      "cell_type": "markdown",
      "metadata": {
        "id": "maa-snhRqRjR"
      },
      "source": [
        "## 1: Import Packages & Define Useful Functions"
      ]
    },
    {
      "cell_type": "code",
      "metadata": {
        "id": "s41Gdd-7UtXh"
      },
      "source": [
        "from zipfile import ZipFile\n",
        "import json\n",
        "import os\n",
        "from collections import Counter, defaultdict\n",
        "import matplotlib.pyplot as plt\n",
        "import re\n",
        "from random import sample, choice\n",
        "import numpy as np\n",
        "import pandas as pd\n",
        "import re\n",
        "import string\n",
        "from sklearn.manifold import TSNE\n",
        "from sklearn.feature_extraction.text import TfidfVectorizer\n",
        "from sklearn.cluster import DBSCAN, KMeans\n",
        "from sklearn.cluster import AgglomerativeClustering\n",
        "\n",
        "import nltk\n",
        "from nltk.tokenize import word_tokenize\n",
        "from nltk.tag import pos_tag\n",
        "nltk.download('punkt')\n",
        "nltk.download('averaged_perceptron_tagger')\n",
        "from nltk.corpus import stopwords\n",
        "nltk.download('stopwords')\n",
        "\n",
        "\n",
        "import spacy\n",
        "from spacy import displacy\n",
        "from collections import Counter\n",
        "import en_core_web_sm"
      ],
      "execution_count": 1,
      "outputs": []
    },
    {
      "cell_type": "code",
      "metadata": {
        "id": "nAHzdcCrUtXl"
      },
      "source": [
        "def extract_zip(pth,data_pth = None):\n",
        "    \"\"\"Function to extract contents of a zip file to a specified location (wd if data_pth not passed)\"\"\"\n",
        "    with ZipFile(pth, 'r') as zipObj:\n",
        "       # Extract all the contents of zip file in different directory\n",
        "       zipObj.extractall(data_pth)"
      ],
      "execution_count": 2,
      "outputs": []
    },
    {
      "cell_type": "markdown",
      "metadata": {
        "id": "k5RS1m1RUtXk"
      },
      "source": [
        "## 2: Download repository and extract data"
      ]
    },
    {
      "cell_type": "code",
      "metadata": {
        "id": "pWljb-PkUtXm",
        "colab": {
          "base_uri": "https://localhost:8080/"
        },
        "outputId": "f71b318d-8e27-4cde-84fe-f7e1cb6da534"
      },
      "source": [
        "#Download CUAD git repository\n",
        "if not os.path.exists('main.zip'):\n",
        "  !wget --no-check-certificate https://github.com/TheAtticusProject/cuad/archive/refs/heads/main.zip\n",
        "  !unzip -q main.zip\n",
        "\n",
        "#If it has not already been extracted, extract the contents of data.zip\n",
        "if not os.path.exists('cuad-main/data'):\n",
        "  os.makedirs('cuad-main/data')\n",
        "\n",
        "if not os.path.exists('cuad-main/data/CUADv1.json'):\n",
        "  extract_zip('cuad-main/data.zip','cuad-main/data/')\n",
        "\n",
        "#Download a manualy curated set of labels for the full CUAD data. \n",
        "if not os.path.exists('labels3.txt'):\n",
        "  !wget https://raw.githubusercontent.com/RichardMWarburton/ExploringCUAD/main/labels3.txt"
      ],
      "execution_count": 3,
      "outputs": [
        {
          "output_type": "stream",
          "text": [
            "--2021-07-19 11:00:05--  https://github.com/TheAtticusProject/cuad/archive/refs/heads/main.zip\n",
            "Resolving github.com (github.com)... 140.82.112.4\n",
            "Connecting to github.com (github.com)|140.82.112.4|:443... connected.\n",
            "HTTP request sent, awaiting response... 302 Found\n",
            "Location: https://codeload.github.com/TheAtticusProject/cuad/zip/refs/heads/main [following]\n",
            "--2021-07-19 11:00:06--  https://codeload.github.com/TheAtticusProject/cuad/zip/refs/heads/main\n",
            "Resolving codeload.github.com (codeload.github.com)... 140.82.113.9\n",
            "Connecting to codeload.github.com (codeload.github.com)|140.82.113.9|:443... connected.\n",
            "HTTP request sent, awaiting response... 200 OK\n",
            "Length: unspecified [application/zip]\n",
            "Saving to: ‘main.zip’\n",
            "\n",
            "main.zip                [     <=>            ]  17.77M  14.1MB/s    in 1.3s    \n",
            "\n",
            "2021-07-19 11:00:07 (14.1 MB/s) - ‘main.zip’ saved [18631176]\n",
            "\n",
            "--2021-07-19 11:00:08--  https://raw.githubusercontent.com/RichardMWarburton/ExploringCUAD/main/labels3.txt\n",
            "Resolving raw.githubusercontent.com (raw.githubusercontent.com)... 185.199.108.133, 185.199.109.133, 185.199.110.133, ...\n",
            "Connecting to raw.githubusercontent.com (raw.githubusercontent.com)|185.199.108.133|:443... connected.\n",
            "HTTP request sent, awaiting response... 200 OK\n",
            "Length: 47879 (47K) [text/plain]\n",
            "Saving to: ‘labels3.txt’\n",
            "\n",
            "labels3.txt         100%[===================>]  46.76K  --.-KB/s    in 0.006s  \n",
            "\n",
            "2021-07-19 11:00:08 (7.35 MB/s) - ‘labels3.txt’ saved [47879/47879]\n",
            "\n"
          ],
          "name": "stdout"
        }
      ]
    },
    {
      "cell_type": "code",
      "metadata": {
        "id": "-j6zwYHHUtXp"
      },
      "source": [
        "#Load CUADv1 JSON to data\n",
        "with open('cuad-main/data/CUADv1.json','r') as infile:\n",
        "    for line in infile:\n",
        "        contract_data = json.loads(line)"
      ],
      "execution_count": 4,
      "outputs": []
    },
    {
      "cell_type": "markdown",
      "metadata": {
        "id": "G_1H8XPNxNTG"
      },
      "source": [
        "### 2.1: Read in Label Data & Generate Look Up Dictionary"
      ]
    },
    {
      "cell_type": "code",
      "metadata": {
        "id": "yHqEpKU5xNjB"
      },
      "source": [
        "#Initate storage for labels look up (LU)\n",
        "labels_LU = {}\n",
        "\n",
        "#Read in labels data\n",
        "with open('labels3.txt','r',encoding ='UTF-8') as infile:\n",
        "  for line in infile:\n",
        "    #Remove trailing special characters and split on tab\n",
        "    data = line.strip().split(sep='\\t')\n",
        "    #Add name and label to labels_LU dictionary\n",
        "    labels_LU[data[0]] = data[1]"
      ],
      "execution_count": 5,
      "outputs": []
    },
    {
      "cell_type": "markdown",
      "metadata": {
        "id": "LKjA7wac3yse"
      },
      "source": [
        "The look up returns one error, most likely due to the accented E and a disparity of encoding.  This will be forced to 'Marketing Agreement' manually for now (EITHER SORT OR PROVIDE EXAMPLE)"
      ]
    },
    {
      "cell_type": "markdown",
      "metadata": {
        "id": "igP7vzKnqac7"
      },
      "source": [
        "### 2.2: Extract Raw Contract Data"
      ]
    },
    {
      "cell_type": "code",
      "metadata": {
        "id": "MgadIkwcqemy"
      },
      "source": [
        "#ser reg ex expression for characters to remove from contract contest\n",
        "spec_chars = '\\\\n|\\\\t|\\\\t'\n",
        "\n",
        "#Set number of contracts in data\n",
        "num_contracts = len(contract_data['data'])\n",
        "\n",
        "#Initate dictionary to store raw contract data\n",
        "raw_contracts = defaultdict(list)\n",
        "\n",
        "#for each contract\n",
        "for i in range(num_contracts):\n",
        "  #Append the title, contract text and character length of text to the raw_contracts dictionary\n",
        "  raw_contracts['contract title'].append(contract_data['data'][i]['title'])\n",
        "  raw_contracts['label'].append(labels_LU[contract_data['data'][i]['title']] if contract_data['data'][i]['title'] in labels_LU else 'marketing agreement' ) #<- manual error trap applied here (see below)\n",
        "  \n",
        "  #Parse raw text and process to remove breaks\n",
        "  raw_text = contract_data['data'][i]['paragraphs'][0]['context']\n",
        "  clean_text = re.sub(spec_chars,'',raw_text)\n",
        "\n",
        "  #Split clean text in to sentances and tokens\n",
        "  sentance_text = clean_text.split(sep = '. ')\n",
        "  token_text = clean_text.split(sep = ' ')\n",
        "\n",
        "  #Append text to the respective key in the raw_contracts dictionary\n",
        "  raw_contracts['raw text'].append(raw_text)\n",
        "  raw_contracts['clean text'].append(clean_text)\n",
        "  raw_contracts['sentance text'].append(sentance_text)\n",
        "  raw_contracts['token text'].append(token_text)\n",
        "  \n",
        "  #Add character, sentance and token counts to raw_contracts dictionary\n",
        "  raw_contracts['character count'].append(len(raw_text))\n",
        "  raw_contracts['sentance count'].append(len(sentance_text))\n",
        "  raw_contracts['token count'].append(len(token_text))\n"
      ],
      "execution_count": 6,
      "outputs": []
    },
    {
      "cell_type": "markdown",
      "metadata": {
        "id": "n876lWEZsh7o"
      },
      "source": [
        "### 2.3: Extract Clause Specific Data"
      ]
    },
    {
      "cell_type": "code",
      "metadata": {
        "id": "tg1TjBOurSrD"
      },
      "source": [
        "#Define the number of clauses\n",
        "num_clauses = 41\n",
        "\n",
        "#initate dictioanry to store caluse data\n",
        "clause_data = defaultdict(list)\n",
        "\n",
        "#For each contract\n",
        "for i in range(num_contracts):\n",
        "  #for each clause\n",
        "  for j in range(num_clauses):\n",
        "    #for each found clause annotation\n",
        "    for k in range(len(contract_data['data'][i]['paragraphs'][0]['qas'][j]['answers'])): \n",
        "      #Add the contract title\n",
        "      clause_data['contract title'].append(contract_data['data'][i]['title'])\n",
        "      clause_data['label'].append(labels_LU[contract_data['data'][i]['title']] if contract_data['data'][i]['title'] in labels_LU else 'marketing agreement' )  #<- manual error trap applied here\n",
        "      clause_data['clause'].append(contract_data['data'][i]['paragraphs'][0]['qas'][j]['id'].split(sep='__')[1])\n",
        "      clause_data['annotation'].append(contract_data['data'][i]['paragraphs'][0]['qas'][j]['answers'][k]['text'])\n",
        "      clause_data['annotation start'].append(contract_data['data'][i]['paragraphs'][0]['qas'][j]['answers'][k]['answer_start'])\n",
        "      clause_data['annotation length'].append(len(contract_data['data'][i]['paragraphs'][0]['qas'][j]['answers'][k]['text']))\n"
      ],
      "execution_count": 8,
      "outputs": []
    },
    {
      "cell_type": "markdown",
      "metadata": {
        "id": "1ojxytoG46D9"
      },
      "source": [
        "## 3: Cleaning data and extracting a single clause"
      ]
    },
    {
      "cell_type": "code",
      "metadata": {
        "id": "fXET1UnSbTpM"
      },
      "source": [
        "#Initate dataframe of all clause data\n",
        "clause_df = pd.DataFrame(clause_data)\n",
        "\n",
        "#Convert to lower case\n",
        "#clause_df['annotation'] = clause_df['annotation'].apply(lambda x: x.lower())\n",
        "\n",
        "#Remove any formating characters or multiple spaces and replace with a single space\n",
        "clause_df['annotation'] = clause_df['annotation'].apply(lambda x: re.sub('\\\\t|\\\\r|\\\\n|[^\\S]{2,}',' ',x))\n",
        "\n",
        "#Remove punctuation from the string\n",
        "clause_df['annotation'] = clause_df['annotation'].apply(lambda x: x.translate(str.maketrans('', '', string.punctuation)))"
      ],
      "execution_count": 11,
      "outputs": []
    },
    {
      "cell_type": "code",
      "metadata": {
        "colab": {
          "base_uri": "https://localhost:8080/"
        },
        "id": "B3xFTGsWJ0fH",
        "outputId": "f93381b9-9aed-4aac-a4f0-84880c161fe2"
      },
      "source": [
        "#Define clause of interest\n",
        "clause_of_interest = 'Governing Law'\n",
        "\n",
        "#Limit df to clause of interest and extract annotations of itnerest\n",
        "of_interest_data = clause_df[clause_df['clause'] == clause_of_interest]\n",
        "annotations_of_interest = of_interest_data['annotation'].values\n",
        "\n",
        "#Identify where there are multiple annotations per contract\n",
        "titles,counts = np.unique(of_interest_data['contract title'],return_counts =True)\n",
        "dups = titles[counts >= 2]\n",
        "\n",
        "#Output Analysis\n",
        "print('There are {} contracts with \\'{}\\' annotations'.format(*(titles.shape[0],clause_of_interest)))\n",
        "print('There are {} contracts with more than one annotation'.format(dups.shape[0]))\n",
        "\n",
        "#output duplicate annotations anc contract titles\n",
        "dup_df = of_interest_data[of_interest_data['contract title'].isin(dups)][['contract title','annotation']]"
      ],
      "execution_count": 12,
      "outputs": [
        {
          "output_type": "stream",
          "text": [
            "There are 437 contracts with 'Governing Law' annotations\n",
            "There are 25 contracts with more than one annotation\n"
          ],
          "name": "stdout"
        }
      ]
    },
    {
      "cell_type": "code",
      "metadata": {
        "id": "aiO83dK-iZvG"
      },
      "source": [
        "#Initate memory for annotations within contracts\n",
        "combined_annotations_list = defaultdict(list)\n",
        "combined_annotations_string = {}\n",
        "\n",
        "#For each annotation of interest found in the contract, \n",
        "#append annotation to a default dict list with contract as key\n",
        "for i in of_interest_data.index:\n",
        "  name = of_interest_data.loc[i,['contract title']].values[0]\n",
        "  annotation = of_interest_data.loc[i,['annotation']].values[0]\n",
        "  combined_annotations_list[name].append(annotation)\n",
        "\n",
        "#Produce a singel string of all annotations found in specific contracts\n",
        "for key in combined_annotations_list.keys():\n",
        "  combined_annotations_string[key] = ' '.join(combined_annotations_list[key])"
      ],
      "execution_count": 13,
      "outputs": []
    },
    {
      "cell_type": "code",
      "metadata": {
        "id": "oyJbopX_jFY5"
      },
      "source": [
        "#Build array of contract names and concatenated annotations\n",
        "contracts = np.array(list(combined_annotations_string.keys()))\n",
        "combined_annotations = list(combined_annotations_string.values())"
      ],
      "execution_count": 14,
      "outputs": []
    },
    {
      "cell_type": "markdown",
      "metadata": {
        "id": "pQcaGdqWlf_Q"
      },
      "source": [
        "## Section 4: Named Entity Extraction"
      ]
    },
    {
      "cell_type": "markdown",
      "metadata": {
        "id": "Q67SmijweAXu"
      },
      "source": [
        "### Section 4.1 NLTK"
      ]
    },
    {
      "cell_type": "markdown",
      "metadata": {
        "id": "RVREWIZScOfR"
      },
      "source": [
        "Part of Speach Tags for NLTK:\n",
        "\n",
        "https://pythonprogramming.net/part-of-speech-tagging-nltk-tutorial/\n",
        "\n",
        "\n",
        "Interested in finding proper nouns (NNP) or proper nown plurals (NNPS)\n"
      ]
    },
    {
      "cell_type": "code",
      "metadata": {
        "id": "odgvT-9-loFR"
      },
      "source": [
        "def preprocess(sent):\n",
        "    sent = nltk.word_tokenize(sent)\n",
        "    sent = nltk.pos_tag(sent)\n",
        "    return sent"
      ],
      "execution_count": 27,
      "outputs": []
    },
    {
      "cell_type": "code",
      "metadata": {
        "id": "q0YG_wullyQ0",
        "colab": {
          "base_uri": "https://localhost:8080/"
        },
        "outputId": "34f304a5-bcf1-43ba-8356-5ce064858331"
      },
      "source": [
        "txt = combined_annotations[1]\n",
        "print('Example Sentance:'.upper(),txt,'\\n')\n",
        "\n",
        "sent = preprocess(txt)\n",
        "sent"
      ],
      "execution_count": 54,
      "outputs": [
        {
          "output_type": "stream",
          "text": [
            "EXAMPLE SENTANCE: This Agreement is governed by English law and the parties submit to the exclusive jurisdiction of the English courts in relation to any dispute contractual or noncontractual concerning this Agreement save that either party may apply to any court for an injunction or other relief to protect its Intellectual Property Rights \n",
            "\n"
          ],
          "name": "stdout"
        },
        {
          "output_type": "execute_result",
          "data": {
            "text/plain": [
              "[('This', 'DT'),\n",
              " ('Agreement', 'NNP'),\n",
              " ('is', 'VBZ'),\n",
              " ('governed', 'VBN'),\n",
              " ('by', 'IN'),\n",
              " ('English', 'NNP'),\n",
              " ('law', 'NN'),\n",
              " ('and', 'CC'),\n",
              " ('the', 'DT'),\n",
              " ('parties', 'NNS'),\n",
              " ('submit', 'VBP'),\n",
              " ('to', 'TO'),\n",
              " ('the', 'DT'),\n",
              " ('exclusive', 'JJ'),\n",
              " ('jurisdiction', 'NN'),\n",
              " ('of', 'IN'),\n",
              " ('the', 'DT'),\n",
              " ('English', 'JJ'),\n",
              " ('courts', 'NNS'),\n",
              " ('in', 'IN'),\n",
              " ('relation', 'NN'),\n",
              " ('to', 'TO'),\n",
              " ('any', 'DT'),\n",
              " ('dispute', 'NN'),\n",
              " ('contractual', 'NN'),\n",
              " ('or', 'CC'),\n",
              " ('noncontractual', 'JJ'),\n",
              " ('concerning', 'NN'),\n",
              " ('this', 'DT'),\n",
              " ('Agreement', 'NNP'),\n",
              " ('save', 'VB'),\n",
              " ('that', 'IN'),\n",
              " ('either', 'DT'),\n",
              " ('party', 'NN'),\n",
              " ('may', 'MD'),\n",
              " ('apply', 'VB'),\n",
              " ('to', 'TO'),\n",
              " ('any', 'DT'),\n",
              " ('court', 'NN'),\n",
              " ('for', 'IN'),\n",
              " ('an', 'DT'),\n",
              " ('injunction', 'NN'),\n",
              " ('or', 'CC'),\n",
              " ('other', 'JJ'),\n",
              " ('relief', 'NN'),\n",
              " ('to', 'TO'),\n",
              " ('protect', 'VB'),\n",
              " ('its', 'PRP$'),\n",
              " ('Intellectual', 'NNP'),\n",
              " ('Property', 'NNP'),\n",
              " ('Rights', 'NNS')]"
            ]
          },
          "metadata": {
            "tags": []
          },
          "execution_count": 54
        }
      ]
    },
    {
      "cell_type": "markdown",
      "metadata": {
        "id": "JJgvFs38czeV"
      },
      "source": [
        "We can see that this is sensitive to capitalisation and that nouns can be miss clasified as nouns and proper nouns in a sentance depending on capitalisation.  Using this to pull though a 'law' could be problematic"
      ]
    },
    {
      "cell_type": "code",
      "metadata": {
        "id": "cOLiOrZMl0tM",
        "colab": {
          "base_uri": "https://localhost:8080/"
        },
        "outputId": "8f4f1f20-4797-4ddd-af6d-7bd7d8b25fea"
      },
      "source": [
        "print('NLTK analytis of \\'Agreement\\' in example sentance:',preprocess('This Agreement is to be construed according to the laws of the State of Illinois')[1])\n",
        "print('NLTK analytis of \\'agreement\\' in example sentance:',preprocess('This agreement is to be construed according to the laws of the State of Illinois')[1])"
      ],
      "execution_count": 55,
      "outputs": [
        {
          "output_type": "stream",
          "text": [
            "NLTK analytis of 'Agreement' in example sentance: ('Agreement', 'NNP')\n",
            "NLTK analytis of 'agreement' in example sentance: ('agreement', 'NN')\n"
          ],
          "name": "stdout"
        }
      ]
    },
    {
      "cell_type": "markdown",
      "metadata": {
        "id": "IDHXzAEMd_Jz"
      },
      "source": [
        "### Section 4.1 SpaCy"
      ]
    },
    {
      "cell_type": "code",
      "metadata": {
        "id": "PEQdaHmWm0Wz"
      },
      "source": [
        "nlp = en_core_web_sm.load()"
      ],
      "execution_count": 56,
      "outputs": []
    },
    {
      "cell_type": "code",
      "metadata": {
        "id": "FmttVafjnXQg",
        "colab": {
          "base_uri": "https://localhost:8080/"
        },
        "outputId": "1915592b-eb2f-4cbb-d9fe-edefe0a4d474"
      },
      "source": [
        "print('Example Sentance:'.upper(),txt,'\\n')\n",
        "\n",
        "doc = nlp(txt)\n",
        "pprint([(X.text, X.label_) for X in doc.ents])"
      ],
      "execution_count": 57,
      "outputs": [
        {
          "output_type": "stream",
          "text": [
            "EXAMPLE SENTANCE: This Agreement is governed by English law and the parties submit to the exclusive jurisdiction of the English courts in relation to any dispute contractual or noncontractual concerning this Agreement save that either party may apply to any court for an injunction or other relief to protect its Intellectual Property Rights \n",
            "\n",
            "[('English', 'LANGUAGE'), ('English', 'NORP')]\n"
          ],
          "name": "stdout"
        }
      ]
    },
    {
      "cell_type": "code",
      "metadata": {
        "id": "fB_cWo05nZd0",
        "colab": {
          "base_uri": "https://localhost:8080/"
        },
        "outputId": "eef341fa-ba6a-4778-fbaa-5c071ae38aeb"
      },
      "source": [
        "pprint([(X, X.ent_iob_, X.ent_type_) for X in doc])"
      ],
      "execution_count": 53,
      "outputs": [
        {
          "output_type": "stream",
          "text": [
            "[(This, 'O', ''),\n",
            " (Agreement, 'O', ''),\n",
            " (is, 'O', ''),\n",
            " (to, 'O', ''),\n",
            " (be, 'O', ''),\n",
            " (construed, 'O', ''),\n",
            " (according, 'O', ''),\n",
            " (to, 'O', ''),\n",
            " (the, 'O', ''),\n",
            " (laws, 'O', ''),\n",
            " (of, 'O', ''),\n",
            " (the, 'B', 'GPE'),\n",
            " (State, 'I', 'GPE'),\n",
            " (of, 'I', 'GPE'),\n",
            " (Illinois, 'I', 'GPE')]\n"
          ],
          "name": "stdout"
        }
      ]
    },
    {
      "cell_type": "markdown",
      "metadata": {
        "id": "iTAaGGVjp_Hs"
      },
      "source": [
        "## Section 4: Parsing Annotations for Named Entities"
      ]
    },
    {
      "cell_type": "code",
      "metadata": {
        "id": "d6A1hD3ep_QA"
      },
      "source": [
        "#Build new features\n",
        "new_features = []\n",
        "\n",
        "for annotation in combined_annotations:\n",
        "  annotation_GPEs = []\n",
        "  \n",
        "  doc = nlp(annotation)\n",
        "\n",
        "  for X in doc.ents:\n",
        "    #First pass to capture entities\n",
        "    if X.label_ == 'GPE' or X.label_ == 'LANGUAGE':\n",
        "      if X.text not in annotation_GPEs:\n",
        "        annotation_GPEs.append(X.text)\n",
        "  \n",
        "  #If no entities found, foce to lower case and re analyise\n",
        "  if annotation_GPEs == []:\n",
        "    doc = nlp(annotation.lower())\n",
        "\n",
        "    for X in doc.ents:\n",
        "      if X.label_ == 'GPE' or X.label_ == 'LANGUAGE':\n",
        "        if X.text not in annotation_GPEs:\n",
        "          annotation_GPEs.append(X.text)\n",
        "\n",
        "  new_features.append(' '.join(annotation_GPEs))"
      ],
      "execution_count": 206,
      "outputs": []
    },
    {
      "cell_type": "code",
      "metadata": {
        "id": "Cdzsdwqxp_S6"
      },
      "source": [
        "#Output examples of extracted features\n",
        "#print('*'*75)\n",
        "#for i in range(5):\n",
        "#  print('Annotation Raw Text:')\n",
        "#  print(combined_annotations[i],'\\n')\n",
        "#  print('Extracted Locations:')\n",
        "#  print(new_features[i],'\\n')\n",
        "#  print('*'*75)"
      ],
      "execution_count": 207,
      "outputs": []
    },
    {
      "cell_type": "code",
      "metadata": {
        "id": "q_quTJBGr8jy"
      },
      "source": [
        "#count=0\n",
        "#i = 0\n",
        "#for i in range(len(new_features)):\n",
        "#  if new_features[i] == '':\n",
        "#    print('{})'.format(count+1),combined_annotations[i],'\\n')\n",
        "#    count+=1\n",
        "#    i+=1\n",
        "\n",
        "#print('\\n{} annotations have not been mapped out of {} ({:.2%})'.format(*(count,len(new_features),count/len(new_features))))"
      ],
      "execution_count": 208,
      "outputs": []
    },
    {
      "cell_type": "markdown",
      "metadata": {
        "id": "94NZEyPWsf1S"
      },
      "source": [
        ""
      ]
    },
    {
      "cell_type": "code",
      "metadata": {
        "id": "CI6EQPIztDZO"
      },
      "source": [
        "#Define stopwords list\n",
        "stop_words = stopwords.words('english') +['hereof','thereof']\n",
        "\n",
        "def lower_case(x):\n",
        "  \"\"\"Function to return a lowecase value of a string x\"\"\"\n",
        "  return x.lower()\n",
        "\n",
        "def remove_stop_words(x):\n",
        "  \"\"\"Function to remove stop words from a string x \"\"\"  \n",
        "  return ' '.join([word for word in x.split(sep=' ') if word not in stop_words])\n",
        "\n",
        "def coerce_tokens(x):\n",
        "  ret = x.replace('new york','newyork')\n",
        "  ret = ret.replace('new jersey','newjersey')\n",
        "  ret = ret.replace('hong kong','hongkong')\n",
        "  ret = ret.replace('san antonio','sanantonio')\n",
        "  return ret"
      ],
      "execution_count": 217,
      "outputs": []
    },
    {
      "cell_type": "code",
      "metadata": {
        "id": "mbFTY6jXoqmw"
      },
      "source": [
        "#initiate new_features as an np array\n",
        "new_features = np.array(new_features)\n",
        "\n",
        "#Clean New Features\n",
        "new_features = np.array(list(map(lower_case,new_features)))\n",
        "new_features = np.array(list(map(remove_stop_words,new_features)))\n",
        "new_features = np.array(list(map(coerce_tokens,new_features)))\n",
        "\n",
        "#Tokenize new_features\n",
        "#new_features = np.array(list((map(nltk.word_tokenize,new_features))),dtype=object)"
      ],
      "execution_count": 218,
      "outputs": []
    },
    {
      "cell_type": "code",
      "metadata": {
        "id": "mYeIrU2OqIv0"
      },
      "source": [
        "from sklearn.feature_extraction.text import CountVectorizer\n",
        "cv = CountVectorizer(stop_words = 'english')"
      ],
      "execution_count": 211,
      "outputs": []
    },
    {
      "cell_type": "code",
      "metadata": {
        "id": "TZg3MtBtthEi"
      },
      "source": [
        "X = cv.fit_transform(new_features).toarray()\n",
        "\n"
      ],
      "execution_count": 224,
      "outputs": []
    },
    {
      "cell_type": "code",
      "metadata": {
        "id": "owRMemlAvr_I",
        "outputId": "e479760a-6c16-4b79-d536-a26c1183a679",
        "colab": {
          "base_uri": "https://localhost:8080/",
          "height": 265
        }
      },
      "source": [
        "#Reduce dimension wiht TSNE to 2D\n",
        "X_tsne = TSNE(n_components=2).fit_transform(X)\n",
        "x = X_tsne[:,0]\n",
        "y = X_tsne[:,1]\n",
        "\n",
        "#Fit agglomerative clister model with two clusters to split groups\n",
        "cluster = AgglomerativeClustering(n_clusters=4).fit(X)\n",
        "\n",
        "x = X_tsne[:,0]\n",
        "y = X_tsne[:,1]\n",
        "labels = cluster.labels_\n",
        "\n",
        "for i in np.unique(labels):\n",
        "  idx = labels == i\n",
        "  plt.scatter(x[idx],y[idx],label = 'Class: {}'.format(str(i)))\n",
        "\n",
        "plt.legend()\n",
        "plt.show()"
      ],
      "execution_count": 256,
      "outputs": [
        {
          "output_type": "display_data",
          "data": {
            "image/png": "[encoded data removed]",
            "text/plain": [
              "<Figure size 432x288 with 1 Axes>"
            ]
          },
          "metadata": {
            "tags": [],
            "needs_background": "light"
          }
        }
      ]
    },
    {
      "cell_type": "code",
      "metadata": {
        "id": "2Q_lqHp-v7Uh",
        "outputId": "72e62483-75a6-4181-d3d5-3b42c5518506",
        "colab": {
          "base_uri": "https://localhost:8080/"
        }
      },
      "source": [
        "combined_annotations = np.array(combined_annotations)\n",
        "\n",
        "for lab in np.unique(labels):\n",
        "  print('CLASS {}'.format(str(lab)),'\\n')\n",
        "  idx = labels == lab\n",
        "  for sample in combined_annotations[idx][:10]:\n",
        "    print(sample)\n",
        "  print('\\n')"
      ],
      "execution_count": 258,
      "outputs": [
        {
          "output_type": "stream",
          "text": [
            "CLASS 0 \n",
            "\n",
            "This Agreement is to be construed according to the laws of the State of Illinois\n",
            "This Agreement was entered into in the State of Florida and its validity construction interpretation and legal effect shall be governed by the laws and judicial decisions of the State of Florida applicable to contracts entered into and performed entirely within the State of Florida\n",
            "This Agreement shall be governed and construed according to the laws of the State of Kansas\n",
            "This Agreement shall be governed by the laws of the State of Texas without reference to its conflicts of law principles\n",
            "The construction interpretation and performance of this Agreement and all transactions under it shall be governed by the laws of the State of Texas irrespective of its conflict of law principles\n",
            "Any disputes relating to arising out of or resulting from this Agreement including to its execution performance or enforcement shall be governed by and construed in accordance with the Laws of the State of Delaware regardless of the Laws that might otherwise govern under applicable principles of conflicts of Laws thereof\n",
            "This Agreement and all claims or causes of action arising out of or related to this Agreement shall be governed in all respects including as to validity interpretation and effect by the laws of the State of Illinois and the United States of America without giving effect to its principles or rules of conflict of laws\n",
            "This Agreement shall be construed in accordance with the laws of the State of Kansas\n",
            "This Agreement is entered into in the State of Texas and shall be interpreted according to the laws of the State of Texas\n",
            "This Agreement shall be governed by and interpreted in accordance with the laws of the State of Delaware without reference to any conflict of laws provisions thereof except where governed by the Bankruptcy Code\n",
            "\n",
            "\n",
            "CLASS 1 \n",
            "\n",
            "This Agreement and the relationship between the Parties shall be governed by and interpreted in accordance with New York law without regard to provisions related to conflicts of laws and except as provided in Section 212 above the Parties agree to submit any dispute to the exclusive jurisdiction of the federal and state courts sitting in New York\n",
            "THIS REMARKETING AGREEMENT AND THE PRICING AGREEMENT SHALL BE GOVERNED BY AND CONSTRUED IN ACCORDANCE WITH THE LAWS OF THE STATE OF NEW YORK WITHOUT REGARD TO PRINCIPLES OF CONFLICTS OF LAW TO THE EXTENT THAT SUCH PRINCIPLES WOULD REQUIRE OR PERMIT THE APPLICATION OF LAWS OF ANOTHER JURISDICTION\n",
            "This Agreement shall be governed by and construed in accordance with the laws of the State of New York without giving effect to any choice of law or conflict of law provision or rule whether such provision or rule is that of the State of New York or any other jurisdiction\n",
            "This Agreement and all disputes or controversies arising out of or relating to this Agreement or the transactions contemplated hereby shall be governed by and construed in accordance with the internal laws of the State of New York without regard to the laws of any other jurisdiction that might be applied because of the conflicts of laws principles of the State of New York\n",
            "This Agreement shall be governed by the laws of the State of New York and all disputes and controversies arising out of or in connection with the Agreement shall be brought exclusively before the competent courts in New York County New York provided however that judgment shall be enforceable in any country and that nothing in this Section shall prevent or restrict either Party from seeking interim relief in any competent jurisdiction as it may deem fit\n",
            "This Agreement and all disputes arising out of or related to this Agreement or any breach hereof shall be governed by and construed in accordance with the laws of the State of New York without giving effect to any choice of law principles that would result in the application of the laws of any other jurisdiction\n",
            "This Agreement shall be construed in accordance with and governed by the substantive internal laws of the State of New York\n",
            "This Agreement shall be governed by the laws of the State of New York without giving effect to its principles of conflicts of laws other than Section 51401 of the New York General Obligations Law\n",
            "THIS AGREEMENT SHALL BE GOVERNED BY AND CONSTRUED IN ACCORDANCE WITH THE LAWS OF THE STATE OF NEW YORK WITHOUT REFERENCE TO ITS CONFLICT OF LAW PROVISIONS OTHER THAN SECTION 51401 OF THE GENERAL OBLIGATIONS LAW AND THE OBLIGATIONS RIGHTS AND REMEDIES OF THE PARTIES HEREUNDER SHALL BE DETERMINED IN ACCORDANCE WITH SUCH LAWS\n",
            "This Agreement shall be governed and construed in accordance with the laws of New York State without regard to the conflict of laws provisions thereof\n",
            "\n",
            "\n",
            "CLASS 2 \n",
            "\n",
            "This Agreement is governed by English law and the parties submit to the exclusive jurisdiction of the English courts in relation to any dispute contractual or noncontractual concerning this Agreement save that either party may apply to any court for an injunction or other relief to protect its Intellectual Property Rights\n",
            "It will be governed by the law of the Peoples Republic of China otherwise it is governed by United Nations Convention on Contract for the International Sale of Goods\n",
            "This Amendment shall be governed by and construed in accordance with the laws of Japan\n",
            "This Agreement and any and all matters arising directly or indirectly herefrom shall be governed by and construed and enforced in accordance with the internal laws of the  applicable to agreements made and to be performed entirely in such state including its statutes of limitation but without giving effect to the conflict of law principles thereof\n",
            "This Agreement shall be construed and enforced and interpreted in accordance with and governed by the laws of the Commonwealth of Massachusetts without reference to principles of conflicts of law\n",
            "This Agreement and the rights of the Parties hereunder shall be governed by and construed in accordance with the laws of the Commonwealth of Pennsylvania including all matters of construction validity performance and enforcement and without giving effect to the principles of conflict of laws\n",
            "This Agreement is governed by the laws of Victoria Australia and the parties submit to the jurisdiction of the courts of Victoria Australia\n",
            "This Agreement and any question about its subsistence effect or termination is to be interpreted in accordance with the laws of India save for that body of law which governs the conflict of laws\n",
            "This Termination Agreement shall be governed by the laws of the PRC without regard to conflicts of law principles This Agreement and any dispute or claim arising out of or in connection with it or its subject matter shall be governed by and construed in accordance with the laws of the Peoples Republic of China without regard to its conflicts of laws rules that would mandate the application of the laws of another jurisdiction\n",
            "This Agreement shall be governed by and interpreted pursuant to the laws of the Peoples Republic of China that are promulgated and are publicly available provided that the general international business practices shall apply if the laws of the Peoples Republic of China that are promulgated and are publicly available do not involve any matter in relation to this Agreement\n",
            "\n",
            "\n",
            "CLASS 3 \n",
            "\n",
            "This Agreement shall be governed by the laws of the State of California USA excluding conflict of laws provisions and excluding the 1980 United Nations Convention on Contracts for the International Sale of Goods\n",
            "This Agreement will be construed in accordance with and governed by the laws of the State of California without regard to principles of conflicts of law\n",
            "This Agreement shall be governed construed and interpreted in accordance with the laws of the State of California without respect to principles of conflicts of law\n",
            "This Letter of Authorization will be governed by and construed in accordance with the laws of California excluding its conflict of laws provisions and be subject to the nonexclusive jurisdiction of the California courts This Agreement will be governed by and construed in accordance with the laws of the State of California exclusive of conflict of laws principles\n",
            "This Agreement will for all purposes be governed by and interpreted in accordance with the laws of the State of California without giving effect to any conflict of laws principles that require the application of the laws of a different state\n",
            "This Agreement and all matters arising out of or relating to this Agreement shall be governed by the laws of the State of California\n",
            "This Agreement shall be governed by and construed in accordance with the laws of the State of California exclusive of its conflict of laws principles\n",
            "This Agreement and any disputes claims or actions related thereto shall be governed by and construed in accordance with the laws of the State of California USA without regard to the conflicts of law provisions thereof\n",
            "This Agreement shall be governed by and construed and enforced in accordance with the laws of the State of California and the laws of Hong Kong\n",
            "This Agreement shall be governed by and construed in accordance with the internal laws of the State of California applicable to agreements made and to be performed entirely within such state without regard to the conflicts of law principles of such state provided that any matters relating to the construction or effect of any Patent will be governed by the patent laws of the relevant jurisdiction in which such Patent is granted\n",
            "\n",
            "\n"
          ],
          "name": "stdout"
        }
      ]
    },
    {
      "cell_type": "code",
      "metadata": {
        "id": "atPXvZugyaZ3",
        "outputId": "d17eced0-4fd0-49b7-e3ef-70e7453bd98b",
        "colab": {
          "base_uri": "https://localhost:8080/"
        }
      },
      "source": [
        "combined_annotations[idx]\n"
      ],
      "execution_count": 249,
      "outputs": [
        {
          "output_type": "execute_result",
          "data": {
            "text/plain": [
              "array(['This Agreement is to be construed according to the laws of the State of Illinois',\n",
              "       'This Agreement was entered into in the State of Florida and its validity construction interpretation and legal effect shall be governed by the laws and judicial decisions of the State of Florida applicable to contracts entered into and performed entirely within the State of Florida',\n",
              "       'This Agreement shall be governed and construed according to the laws of the State of Kansas',\n",
              "       'This Agreement shall be governed by the laws of the State of Texas without reference to its conflicts of law principles',\n",
              "       'The construction interpretation and performance of this Agreement and all transactions under it shall be governed by the laws of the State of Texas irrespective of its conflict of law principles',\n",
              "       'Any disputes relating to arising out of or resulting from this Agreement including to its execution performance or enforcement shall be governed by and construed in accordance with the Laws of the State of Delaware regardless of the Laws that might otherwise govern under applicable principles of conflicts of Laws thereof',\n",
              "       'This Agreement and all claims or causes of action arising out of or related to this Agreement shall be governed in all respects including as to validity interpretation and effect by the laws of the State of Illinois and the United States of America without giving effect to its principles or rules of conflict of laws',\n",
              "       'This Agreement shall be construed in accordance with the laws of the State of Kansas',\n",
              "       'This Agreement is entered into in the State of Texas and shall be interpreted according to the laws of the State of Texas',\n",
              "       'This Agreement shall be governed by and interpreted in accordance with the laws of the State of Delaware without reference to any conflict of laws provisions thereof except where governed by the Bankruptcy Code',\n",
              "       'By this Agreement the Members enter into a joint venture the Venture in accordance with the laws of the State of Florida',\n",
              "       'The Laws of the State of Delaware without reference to its principles of conflicts of law shall govern the construction interpretation and other matters arising out of or in connection with this IP Agreement and its schedules whether arising in contract tort equity or otherwise',\n",
              "       'This Agreement and the legal relations among the Parties hereto shall be governed by and construed in accordance with the laws of the State of Florida without regard to its conflict of law doctrine',\n",
              "       'This Agreement and the relationship between the parties is governed by and will be construed exclusively in accordance with the laws of the State of Florida without regard to and without applying Florida conflictoflaw rules',\n",
              "       'This Agreement shall be subject to and governed by the laws of the State of Missouri USA This Agreement shall be deemed to have been made and executed in the State of Missouri and any dispute arising thereunder shall be resolved in accordance with the laws of the State of Missouri without reference to its rules governing conflicts of law',\n",
              "       'This Agreement shall be governed by and construed in accordance with the laws of the state of Israel without giving effect to choice of law rules',\n",
              "       'This Agreement shall be governed by and interpreted under the laws of the State of Delaware without regard to its conflicts of law provisions',\n",
              "       'This Agreement will be governed in all respects by the laws of the State of Delaware including its conflict with law provisions',\n",
              "       'This Agreement shall be governed by and construed in accordance with the laws of the State of Iowa',\n",
              "       'THIS AGREEMENT SHALL BE GOVERNED BY AND CONSTRUED IN ACCORDANCE WITH THE LAWS OF THE STATE OF COLORADO UNITED STATES WITHOUT REGARD TO ITS PRINCIPLES REGARDING CONFLICT OF LAWS',\n",
              "       'This agreement and any dispute or claim arising out of or in connection with it or its subject matter or formation including noncontractual disputes or claims shall be governed by and construed in accordance with Ohio law',\n",
              "       'This Agreement shall be governed by and construed in accordance with the laws of the State of Minnesota without regard to conflict of law principles',\n",
              "       'This IP Agreement will be construed in accordance with the substantive laws of the state of New York and of the United States of America',\n",
              "       'This Agreement and any claim controversy or dispute arising out of or related to this Agreement any of the transactions contemplated hereby andor the interpretation and enforcement of the rights and duties of the Parties whether arising in contract tort equity or otherwise shall be governed by and construed in accordance with the domestic laws of the State of Israel including in respect of the statute of limitations or other limitations period applicable to any such claim controversy or dispute without giving effect to any choice or conflict of law provision or rule whether of the State of Israel or any other jurisdiction that would cause the application of the laws of any jurisdiction other than the State of Israel',\n",
              "       'This Agreement shall be governed by and construed in accordance with the internal laws of the State of Nevada without giving effect to any choice or conflict of law provision or rule',\n",
              "       'This Agreement shall become valid when executed and accepted by BKC in Miami Florida it shall be governed and construed under and in accordance with the laws of the State of Florida USA provided however that since the Franchisee is a corporation formed under the laws of the Republic of Poland which is not doing business in the State of Florida the Florida Franchise Act Florida Statutes Section 8174161971 shall not apply to this Agreement',\n",
              "       'This Agreement shall be governed by and interpreted under and in accordance with the laws of the State of Delaware without regard to principles of conflicts of laws This agreement shall be governed by and subject to the internal laws exclusive of the conflicts of law provisions and decisions of the courts of the State of Illinois',\n",
              "       'This Agreement shall be governed by and interpreted in accordance with the laws of the State of Delaware without regard to its conflicts of law principles',\n",
              "       'This agreement will be governed by and must be construed in accordance with the laws of the State of Israel',\n",
              "       'This Agreement is entered into in the State of Texas and shall be governed interpreted and construed in accordance with the laws of the State of Texas without regard to the conflicts of laws provisions thereof',\n",
              "       'This Agreement shall be governed by and construed in accordance with the laws of the State of Israel and the courts of TelAviv Israel',\n",
              "       'This Agreement shall be construed in accordance with and governed by the laws of the State of Texas without regard to principles of conflicts of laws',\n",
              "       'This Agreement shall be interpreted under the laws of the State of Nevada',\n",
              "       'This Affiliate Agreement shall be governed by the laws of the State of Delaware',\n",
              "       'This Agreement will be governed by the laws of the State of Delaware without regard to its conflicts of law principles',\n",
              "       'This Agreement is entered into in the State of Texas and shall be interpreted according to the laws of the State of Texas',\n",
              "       'This Agreement and the rights and duties of Transporter and Shipper hereunder shall be governed by and interpreted in accordance with the laws of the State of Arkansas without recourse to the law governing conflict of laws',\n",
              "       'This Agreement shall be governed in all respects by and construed and enforced in accordance with the laws of the State of New York USA without regard to the conflict of law provisions thereof or the United Nations Convention on Contracts for the International Sale of Goods provided however that any dispute relating to the scope validity enforceability or infringement of any Intellectual Property Right will be governed by and construed and enforced in accordance with the substantive laws of the jurisdiction in which such Intellectual Property Right applies',\n",
              "       'This Agreement shall be governed by and construed in accordance with the laws of the State of Texas',\n",
              "       'This Agreement shall be governed by construed and enforced in accordance with the laws of the State of Delaware without regard to choice of law principles that would require the application of the laws of any other jurisdiction',\n",
              "       'This AGREEMENT is controlled by the laws of the State of Texas and venue for any actions brought to enforce this AGREEMENT shall be brought exclusively in a court of competent jurisdiction in Pecos County Texas',\n",
              "       'This Agreement and the rights and obligations of the Parties hereunder will be governed by the laws of the State of Delaware without regard to the conflict of laws provisions of any jurisdiction',\n",
              "       'This Agreement shall be governed by and construed in accordance with the internal laws of the State of Delaware applicable to agreements made and to be performed within that state without giving effect to any law or principals of law that would result in the application of the laws of any other jurisdiction',\n",
              "       'This Agreement or the performance enforcement breach or termination hereof shall be interpreted governed by and construed in accordance with the laws of the State of Delaware United States excluding any conflicts or choice of law rule or principle that might otherwise refer construction or interpretation of this Agreement to the substantive law of another jurisdiction provided that all questions concerning a inventorship of Patents under this Agreement shall be determined in accordance with Section 713 and b the construction or effect of Patents shall be determined in accordance with the laws of the country or other jurisdiction in which the particular Patent has been filed or granted as the case may be',\n",
              "       'This Agreement shall be binding on the Parties as of the date hereof and is to be construed in accordance with and governed by the internal laws of the State of Delaware without giving effect to any choice of law rule that would cause the application of the laws of any jurisdiction other than the internal laws of the State of Delaware to the rights and duties of the Parties',\n",
              "       'This Agreement and performance under this Agreement shall be governed by the laws of the United States of America and of the Commonwealth of Pennsylvania as applied to agreements entered into and to be performed entirely within Pennsylvania between Pennsylvania residents excluding its conflicts of law provisions',\n",
              "       'Any controversy between the parties arising under this Agreement and not resolved by the parties shall be determined in accordance with the laws of the State of Michigan',\n",
              "       'This Agreement shall be governed by and construed in accordance with the laws of the State of Nevada USA in force therein without regard to its conflict of law rules',\n",
              "       'The Parties agree that the venue for any action injunctive application or dispute determinable by a court of law arising out of this Agreement and that this Agreement shall be governed by and construed and enforced in accordance with the laws of the State of North Carolina without giving effect to choice of law or arbitration provisions and that the federal and state courts therein shall have jurisdiction over the subject matter and the Parties',\n",
              "       'South Dakota This Agreement shall be construed in accordance with and governed by the laws of the State of South Dakota',\n",
              "       'The construction interpretation and performance of this Agreement and all transactions under it shall be governed by the law of the State of Israel without giving effect to choice of law rules and both Parties consent to jurisdiction by the courts of the City of Haifa',\n",
              "       'THIS AGREEMENT SHALL BE GOVERNED IN ALL RESPECTS INCLUDING VALIDITY INTERPRETATION AND EFFECT BY THE LAWS OF THE STATE OF DELAWARE WITHOUT GIVING EFFECT TO THE CHOICE OF LAW PRINCIPLES OF SUCH STATE',\n",
              "       'This Agreement will be governed in all respects by the laws of the State of Ohio without regard to conflicts of law provisions as such laws are applied to agreements entered into and to be performed entirely within the State of Ohio between Ohio residents',\n",
              "       'This Agreement shall be governed by and construed and interpreted in accordance with the laws of the State of Delaware without reference to its conflicts of laws principles',\n",
              "       'This Agreement shall be governed and construed in accordance with the laws of the State of Delaware without reference to the conflicts of laws principles thereunder',\n",
              "       'The validity construction and performance of this Agreement shall be governed by the laws of the State of Texas not including any of its conflicts of law rules that would direct or refer to the laws of another jurisdiction',\n",
              "       'This Agreement shall be governed interpreted and construed in accordance with the substantive laws of the Delaware in the country of the United State of America without regard to its conflict of laws principles',\n",
              "       'The validity interpretation and performance of this Agreement shall be controlled by and construed under the laws of the State of New York United States of America as if performed wholly within the state and without giving effect to the principles of conflicts of law and the state and federal courts of California shall have jurisdiction over any claim arising under this Agreement',\n",
              "       'This Agreement shall be governed by the internal laws and not by the laws regarding conflicts of laws of the State of North Carolina',\n",
              "       'Regardless of the place of execution hereof this Agreement all amendments hereto and any and all issues or controversies arising here from or related hereto shall be governed by and construed exclusively in accordance with the laws and decisions of the State of Michigan',\n",
              "       'This Agreement shall be governed and construed in accordance with the laws of the United States of America',\n",
              "       'This Agreement shall be governed by and interpreted in accordance with the laws of the State of New York USA without regard to conflict of laws principles',\n",
              "       'This Agreement will be construed in accordance with the laws of the State of Indiana without regard to principles of conflicts of laws',\n",
              "       'This Agreement and any amendments thereto shall be construed according to the laws of the State of Colorado without regard to conflicts of law principles and any disputes hereunder shall be litigated in a state court in Colorado',\n",
              "       'This Agreement shall be governed by and construed in accordance with the laws of the State of Delaware without regard to its principles of conflicts of law',\n",
              "       'The construction and validity of this Agreement and the provisions hereof and the rights and obligations of the Parties hereunder will be governed by the internal laws of the State of Delaware USA and to the extent applicable to Patents and Trademarks the applicable federal laws of the USA in each instance without regard to conflict of laws principles',\n",
              "       'This Agreement and the transactions contemplated herein shall be governed by and construed in accordance with the laws of the State of Delaware USA and disputes if not resolved by the Parties will be settled by binding arbitration in and under the rules of arbitration in London England',\n",
              "       'This Agreement shall be governed by and construed and interpreted in accordance with the laws of the State of New York United States of America without regard to the principles of conflicts of law thereof',\n",
              "       'This Agreement is to be governed by and construed in accordance with the laws of the State of New York United States notwithstanding any conflict of law provisions to the contrary',\n",
              "       'This Agreement shall be governed by and construed and enforced in accordance with the substantive laws of the State of Delaware without regard to any conflicts of law provisions thereof that would result in the application of the laws of any other jurisdiction',\n",
              "       'Except to the extent governed by the Federal Arbitration Act or other federal law this Agreement and all claims arising from the relationship between Hyatt andor any of its Affiliates and Playa andor any of its Affiliates under this Agreement will be governed by the laws of the State of Illinois USA without regard to its conflict of laws rules except that any Illinois law or any other law regulating the offer or sale of franchises business opportunities or similar interests or governing the relationship between a franchisor and a franchisee or any similar relationship will not apply unless its jurisdictional requirements are met independently without reference to this Section 4',\n",
              "       'This Agreement shall be governed by and construed in accordance with the laws of the State of Connecticut USA without regard to its conflict of taws provision',\n",
              "       'This Agreement shall be governed in all respects including as to validity interpretation and effect by the Laws of the State of Illinois without giving effect to its principles or rules of conflict of laws to the extent such principles or rules are not mandatorily applicable by statute and would permit or require the application of the Laws of another jurisdiction',\n",
              "       'THIS AGREEMENT SHALL BE GOVERNED IN ALL RESPECTS INCLUDING WITHOUT LIMITATION VALIDITY INTERPRETATION AND EFFECT BY THE LAWS OF THE STATE OF DELAWARE APPLICABLE TO CONTRACTS EXECUTED AND TO BE PERFORMED WHOLLY WITHIN SUCH STATE WITHOUT GIVING EFFECT TO THE CHOICE OF LAW PRINCIPLES OF SUCH STATE',\n",
              "       'This Agreement shall be governed by and construed in accordance with the internal laws of the State of Delaware applicable to agreements made and to be performed within that state',\n",
              "       'This Agreement is governed in all respects by the laws of the State of Delaware without giving effect to its conflict of laws principles',\n",
              "       'This Agreement will be construed in accordance with the laws of the State of Delaware and is assignable only upon the written consent by all the parties hereto',\n",
              "       'This Agreement and any action related thereto shall be governed controlled interpreted and defined by and under the laws of the State of California and the United States without regard to the conflicts of laws provisions thereof',\n",
              "       'This Agreement and all questions regarding its existence validity interpretation breach or performance and any dispute or claim arising out of or in connection with it whether contractual or noncontractual in nature such as claims in tort from breach of statute or regulation or otherwise shall be governed by and construed and enforced in accordance with the laws of the State of New York United States without reference to its conflicts of law principles to the extent those principles would require applying another jurisdictions laws',\n",
              "       'This Agreement shall be governed by and construed in accordance with the laws of the State of New York without reference to its conflict or choice of law rules or principles This Agreement shall be governed by the laws of the State of California USA excluding conflict of laws provisions and excluding the 1980 United Nations Convention on Contracts for the International Sale of Goods',\n",
              "       'Notwithstanding its place of execution or performance this Agreement shall be governed by and construed in accordance with the laws of the State of Texas irrespective of its laws regarding choice or conflict of laws',\n",
              "       'By this Agreement the Participants enter into a general Joint Venture the Joint Venture in accordance with the laws of The State of Florida',\n",
              "       'This Agreement shall be governed by and construed in accordance with the laws of the State of Texas and venue for any legal action brought in State Court shall lie exclusively in Tarrant County Texas and venue for any action brought in federal court shall lie exclusively in the Northern District of Texas Fort Worth Division',\n",
              "       'All questions with respect to the construction of this Agreement and the rights and liabilities of the Parties hereto shall be governed by the laws of the State of Florida',\n",
              "       'This Agreement shall be construed and interpreted in accordance with the laws of the State of Ohio without recourse to any principles of law governing conflicts of law which might otherwise be applicable',\n",
              "       'This Agreement shall be governed by and construed in accordance with the laws of the State of Connecticut',\n",
              "       'Accordingly the parties agree that the validity interpretation and legal effect of this Agreement shall be governed by the internal laws of the State of New York USA applicable to contracts entered in and performed entirely within the State of New York USA without regard to any conflict of law principles',\n",
              "       'This Agreement shall be governed by and construed and enforced in accordance with the laws of the State of Delaware without regard to any conflict or choiceoflaw provision or rule whether of the State of Delaware or any other jurisdiction that would cause the application of the laws of any jurisdiction other than the State of Delaware',\n",
              "       'This Agreement will be governed by and construed in accordance with the laws of the State of California excluding that body of law pertaining to conflict of laws except with respect to issues governed by the copyright laws of the United States',\n",
              "       'This Agreement will be governed by the laws of the State of Florida without regard to conflicts of law provisions',\n",
              "       'This Agreement shall be governed by and construed in accordance with the laws of the State of Ohio without reference to principles of conflicts of law',\n",
              "       'This Agreement will be governed by and construed in accordance with the Laws of the State of Illinois applicable to agreements made and to be performed wholly within that State without regard to its conflicts of laws provisions',\n",
              "       'This Agreement and all questions regarding its validity or interpretation or the breach or performance of this Agreement shall be governed by and construed and enforced in accordance with the laws of the State of New York United States without reference to conflict of law principles',\n",
              "       'This Agreement will be construed and governed in accordance with the laws of the State of Illinois without regard to conflict of laws principles',\n",
              "       'This Agreement is deemed to have been entered into in the State of Colorado and its interpretation construction and the remedies for its enforcement or breach are to be applied pursuant to and in accordance with the laws of the State of Colorado',\n",
              "       'This Agreement shall be governed by and construed pursuant to the laws of the State of Indiana USA without reference to principals of conflicts of laws',\n",
              "       'This Agreement shall be deemed to have been entered into in the State of New Jersey and shall be construed and interpreted in accordance with the laws of that State applicable to agreements made and to be performed in the State of New Jersey',\n",
              "       'This Agreement is subject to and governed by the laws of the State of Delaware USA without regard to conflict of law principles',\n",
              "       'This Agreement takes effect upon its acceptance and execution by AIRSOPURE in the State of Texas and shall be interpreted and construed under the laws of the State of Texas',\n",
              "       'This Agreement and its application and interpretation will be governed exclusively by its terms and the laws of the State of Nevada USA and excluding any conflicts of law provisions which would require the application of any law other than Nevada',\n",
              "       'This Agreement shall be construed and enforced in accordance with and governed by the laws of the State of Colorado without regard to conflicts of laws principles',\n",
              "       'This Agreement shall be exclusively governed by and construed in accordance with the laws of the State of New York USA without regard to its conflict of laws provisions',\n",
              "       'This agreement shall be governed by and its provisions enforced in accordance with the laws of the State of Ohio without regard to its principals of conflicts of laws',\n",
              "       'This Agreement shall be construed and enforced in accordance with and the rights of the parties shall be governed by the laws of the State of New York and the laws of the United States applicable therein',\n",
              "       'This Agreement shall be governed by and interpreted in accordance with the laws of the State of Delaware United States of America without reference to conflictoflaws principles',\n",
              "       'The validity interpretation construction and performance of this Agreement shall be governed in accordance with the laws of the State of New Jersey without giving effect to the principles of conflicts of laws of such state',\n",
              "       'This Intellectual Property Agreement shall be construed and interpreted according to the laws of the State of Georgia applicable contracts to be wholly performed within the State of Georgia',\n",
              "       'This Agreement shall be governed in all respects by the laws of the United States and the State of Florida except for conflict of laws provisions',\n",
              "       'This Distributor Agreement shall be exclusively governed construed enforced and controlled by the laws of the United States of America and of the State of Texas',\n",
              "       'This Agreement shall be governed and construed in accordance with the internal laws of the State of Texas without giving effect to principles of conflict of laws',\n",
              "       'This Agreement shall be governed by the laws of the State of Florida',\n",
              "       'This Agreement shall be interpreted in accordance with the laws of the State of Indiana',\n",
              "       'THIS AGREEMENT AND THE RIGHTS AND OBLIGATIONS OF THE PARTIES HEREUNDER SHALL BE CONSTRUED ACCORDING TO AND GOVERNED BY THE SUBSTANTIVE LAWS OF THE STATE OF DELAWARE EXCLUDING ITS CONFLICTS OF LAWS PRINCIPLES TO THE EXTENT SUCH PRINCIPLES WOULD LEAD TO THE APPLICATION OF A SUBSTANTIVE LAW OTHER THAN THE LAW OF THE STATE OF DELAWARE',\n",
              "       'This Assignment shall be governed by the laws of the State of Delaware its rules of conflict of laws notwithstanding This Agreement shall be governed by the laws of the State of Delaware its rules of conflict of laws notwithstanding',\n",
              "       'This Agreement and performance hereunder shall be governed by the laws of the State of Oklahoma without regard to conflict of laws',\n",
              "       'This Agreement shall be governed by and interpreted in accordance with the laws of the State of Texas United States of America without giving effect to any conflict of laws provisions',\n",
              "       'This Agreement shall be construed in accordance with and governed by the      laws of the State of Georgia without regard to the conflicts of law rules of such state',\n",
              "       'This Agreement and all matters pertaining hereto shall be governed by and construed under the laws of the State of Louisiana except to the extent that the conflict of law rules of said state would require that the laws of another state would govern its validity construction or interpretation',\n",
              "       'This Agreement is a contract under the laws of the State of Florida and for all purposes shall be governed by and construed in accordance with the substantive laws of the State of Florida without regard to its principles of conflicts of laws provisions',\n",
              "       'The laws of the State of Florida shall govern this Agreement without reference to conflicts of law provisions',\n",
              "       'This Agreement shall be governed by and interpreted under the laws of the State of Florida USA',\n",
              "       'This IP Agreement and the legal relations among the Parties will be governed by and construed in accordance with the rules and substantive Laws of the State of California United States of America without regard to conflicts of law provisions',\n",
              "       'This Agreement shall be governed by the laws of the State of Connecticut USA without regard to conflict of law principles',\n",
              "       'This Agreement shall be governed by the laws of the state of Florida',\n",
              "       'This Agreement its interpretation and construction and the remedies for its enforcement or breach are to be applied in accordance with the laws of the State of New Jersey',\n",
              "       'This Agreement shall be construed and the respective rights of the Parties determined according to the substantive law of the State of Delaware notwithstanding the provisions governing conflict of laws under such Delaware law to the contrary except matters of intellectual property law which shall be determined in accordance with the intellectual property laws relevant to the intellectual property in question',\n",
              "       'This Agreement is accepted by Company in the State of Nevada and shall be governed by and construed in accordance with the laws thereof which laws shall prevail in the event of any conflict',\n",
              "       'This Agreement between EM and Buyer shall be governed by the laws of Belgium excluding its rules on conflict of laws This Agreement shall be governed by Singapore law without regard to its conflict of laws principles The parties rights and obligations hereunder shall be construed and enforced under the laws of the State of Texas USA without regard to conflict of laws principles Incoterms 2010 or any subsequent revision thereof Incoterms shall also apply provided however that Incoterms shall apply only to the extent specified in the agreement hereof and provided further that in the event of a conflict between Incoterms and the laws of the State of Texas USA the latter shall govern This Agreement shall be governed and construed in accordance with the law set forth in the ExxonMobil Selling Affiliates general terms and conditions as applicable',\n",
              "       'This Agreement shall be governed by and construed in accordance with the laws of the state of Delaware',\n",
              "       'This Agreement shall be interpreted and enforced exclusively under the laws of the State of Israel without regard to the conflict of laws provisions thereof',\n",
              "       'This Agreement shall be construed and its provisions interpreted under and in accordance with the internal Laws of the State of Connecticut without giving effect to principles of conflict or choice of laws of that or any other jurisdiction',\n",
              "       'This Agreement shall be governed in all respects including validity interpretation and effect by and construed in accordance with the laws of the State of Delaware executed and to be performed wholly within the State of Delaware without giving effect to the choice of law or conflict of law principles thereof or of any other jurisdiction to the extent that such principles would require or permit the application of the laws of another jurisdiction',\n",
              "       'Any disputes or claims arising under this Agreement shall be governed by the laws of the State of Texas',\n",
              "       'This Agreement shall be governed by and construed in accordance with the laws other than choice of law rules of the state of Florida',\n",
              "       'This Agreement and its interpretation shall be governed by the laws of the United States and to the extent not inconsistent therewith by the laws of the Commonwealth of Kentucky without regard to conflicts of laws rules',\n",
              "       'This Agreement will be governed by construed and enforced in accordance with the laws of the State of Texas',\n",
              "       'THIS AGREEMENT WILL BE GOVERNED IN ALL RESPECTS INCLUDING VALIDITY INTERPRETATION AND EFFECT BY THE LAWS OF THE STATE OF DELAWARE WITHOUT GIVING EFFECT TO THE CHOICE OF LAW PRINCIPLES OF SUCH STATE',\n",
              "       'This Agreement shall be subject to and governed by the laws of the State of Colorado excluding any conflictsoflaw rule or principle that might refer the construction or interpretation of this Agreement to the laws of another state',\n",
              "       'This Agreement shall be governed by and construed in accordance with the laws of the State of Missouri',\n",
              "       'The validity interpretation and performance of this Agreement and any dispute connected with this Agreement will be governed by and determined in accordance with the statutory regulatory and decisional law of the State of Delaware exclusive of such states choice of laws or conflicts of laws rules and to the extent applicable the federal statutory regulatory and decisional law of the United States',\n",
              "       'This Development Agreement shall be governed by and construed in accordance with the laws of the State of Minnesota United States of America disregarding its conflicts of law rules',\n",
              "       'This Agreement shall be construed and enforced in accordance with the laws of the State of New Jersey',\n",
              "       'This Agreement will be construed and interpreted in accordance with the laws of the State of Delaware without regard to any choice of law provision',\n",
              "       'This contract shall be governed by and construed in accordance with the laws of the State of Texas excluding any binding conflict of laws rule which might refer such construction to the laws of another state',\n",
              "       'This Agreement and any matters arising out of or related to this Agreement will be governed by the laws of the State of Nevada',\n",
              "       'This Agreement shall be  governed by and construed in accordance with the substantive laws of the State of North Carolina',\n",
              "       'This Agreement shall be construed in accordance with the laws of the State of Kansas',\n",
              "       'This Agreement shall be governed by construed and enforced in accordance with the laws of the State of Texas without regard to choice of law principles that would require the application of the laws of any other jurisdiction',\n",
              "       'THIS AGREEMENT IS TO BE CONSTRUED IN ACCORDANCE WITH AND GOVERNED BY THE LAWS OF THE STATE OF GEORGIA WITHOUT REGARD TO THOSE LAWS RELATING TO CHOICE OF LAW APPLYING TO CONTRACTS ENTERED INTO AND TO BE PERFORMED WITHIN THE STATE OF GEORGIA',\n",
              "       'This Agreement shall be governed by the laws of the State of Iowa',\n",
              "       'This Agreement shall be construed in accordance with the laws of the State of Delaware without regard to its conflict of laws provisions',\n",
              "       'This Agreement shall be governed by and construed in accordance with the internal laws of the State of Ohio',\n",
              "       'This Agreement shall be governed by the laws of the State of Delaware its rules of conflict of laws notwithstanding',\n",
              "       'This Agreement shall be governed by and construed in accordance with the laws of the State of Colorado excluding its choice of law provisions',\n",
              "       'Regardless of the place of execution hereof this Agreement all amendments hereto and any and all issues or controversies arising here from or related hereto shall be governed by and construed exclusively in accordance with the laws and decisions of the State of Georgia',\n",
              "       'This Agreement shall be construed and enforced in accordance with the laws of the State of Delaware but without giving effect to its laws or rules relating to conflicts of laws',\n",
              "       'This Agreement will be governed by the laws of the state where a suit is properly filed under the terms of this paragraph being either Illinois or New York and without giving effect to conflict of law principles',\n",
              "       'This Agreement shall be governed by and interpreted in accordance with the laws of the State of Florida without regard to its conflictoflaws or choiceof law principles',\n",
              "       'The Franchise Agreement requires application of the laws of the State of Texas This Agreement will be interpreted and construed exclusively under the laws of the State of Texas which laws will prevail in the event of any conflict of law without regard to and without giving effect to the application of Texas choiceoflaw rules provided however that if the covenants in Section 19 of this Agreement would not be enforced as written under  Page 55 of 80      Texas law then the parties agree that those covenants will instead be interpreted and construed under the laws of the state in which the Franchised Business is located',\n",
              "       'This Agreement shall be interpreted and governed by the laws of the State of Texas Comware agrees to submit to the jurisdiction of the State of Texas Bexar County USA',\n",
              "       'This Agreement is governed by the laws of the State of Texas without regard to the conflict of laws provisions thereof',\n",
              "       'This Agreement shall be governed by and construed in accordance with the laws of the State of Nevada without giving effect to choice of law doctrine',\n",
              "       'THE VALIDITY CONSTRUCTION AND ENFORCEABILITY OF THIS AGREEMENT SHALL BE GOVERNED BY THE LAWS OF THE STATE OF MINNESOTA WITHOUT GIVING EFFECT TO CONFLICT OF LAWS PRINCIPLES THEREOF',\n",
              "       'This Agreement shall be governed by and construed in accordance with the laws of the Illinois without giving effect to its conflict of laws principles',\n",
              "       'This Agreement was negotiated and is being contracted for in Nevada and shall be governed by the laws of the State of Nevada and the United States of America notwithstanding any conflictoflaw provision to the contrary',\n",
              "       'This Agreement shall be interpreted construed and enforced in all respects in accordance with the laws of the State of Illinois except with regards to its rules regarding choice of law',\n",
              "       'This Agreement shall be governed by the laws of the State of Texas',\n",
              "       'RATHER THESE RIGHTS AND OBLIGATIONS SHALL BE GOVERNED BY THE LAWS OTHER THAN CHOICE OF LAW RULES OF THE STATE OF GEORGIA',\n",
              "       'This Agreement shall be governed by and construed in accordance with the laws of the State of Florida',\n",
              "       'This Agreement and the application and interpretation hereof shall be governed exclusively by the laws of the State of Colorado',\n",
              "       'The Agreement shall be governed by and construed under the laws of the State of Florida in the United States of America and venue for any such legal action shall be in the Circuit Court or County Court in Orlando FL or the US District Court having jurisdiction over Orlando FL'],\n",
              "      dtype='<U852')"
            ]
          },
          "metadata": {
            "tags": []
          },
          "execution_count": 249
        }
      ]
    },
    {
      "cell_type": "code",
      "metadata": {
        "id": "iJAnsai0zgY1"
      },
      "source": [
        ""
      ],
      "execution_count": null,
      "outputs": []
    }
  ]
}