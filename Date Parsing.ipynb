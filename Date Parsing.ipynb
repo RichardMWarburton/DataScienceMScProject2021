{
  "nbformat": 4,
  "nbformat_minor": 0,
  "metadata": {
    "kernelspec": {
      "display_name": "Python 3",
      "language": "python",
      "name": "python3"
    },
    "language_info": {
      "codemirror_mode": {
        "name": "ipython",
        "version": 3
      },
      "file_extension": ".py",
      "mimetype": "text/x-python",
      "name": "python",
      "nbconvert_exporter": "python",
      "pygments_lexer": "ipython3",
      "version": "3.7.4"
    },
    "colab": {
      "name": "Exploratory Data Analysis.ipynb",
      "provenance": [],
      "include_colab_link": true
    }
  },
  "cells": [
    {
      "cell_type": "markdown",
      "metadata": {
        "id": "view-in-github",
        "colab_type": "text"
      },
      "source": [
        "<a href=\"https://colab.research.google.com/github/RichardMWarburton/ExploringCUAD/blob/Dev/Date%20Parsing.ipynb\" target=\"_parent\"><img src=\"https://colab.research.google.com/assets/colab-badge.svg\" alt=\"Open In Colab\"/></a>"
      ]
    },
    {
      "cell_type": "markdown",
      "metadata": {
        "id": "SlHNM0ylUtXc"
      },
      "source": [
        "# Individual Clause Investigation (Agreement Date)\n",
        "\n",
        "\n"
      ]
    },
    {
      "cell_type": "markdown",
      "metadata": {
        "id": "bQ4UlOkTUtXj"
      },
      "source": [
        "## The Data\n",
        "\n",
        "CUAD: An Expert-Annotated NLP Dataset for Legal Contract Review\n",
        "\n",
        "https://arxiv.org/abs/2103.06268\n",
        "\n",
        "This code is an adaptation of the scrape.py file avaliable on the github repository for CUAD.  It has been adapted to run in Jypter notebooks and allow us to step throght the coding line by line.`"
      ]
    },
    {
      "cell_type": "markdown",
      "metadata": {
        "id": "maa-snhRqRjR"
      },
      "source": [
        "## 1: Import Packages & Define Useful Functions"
      ]
    },
    {
      "cell_type": "code",
      "metadata": {
        "id": "s41Gdd-7UtXh",
        "colab": {
          "base_uri": "https://localhost:8080/"
        },
        "outputId": "d2def93f-8b3c-4129-d8d6-5028eca909ad"
      },
      "source": [
        "from zipfile import ZipFile\n",
        "import json\n",
        "import os\n",
        "from collections import Counter, defaultdict\n",
        "import matplotlib.pyplot as plt\n",
        "import re\n",
        "from random import sample, choice\n",
        "import numpy as np\n",
        "import pandas as pd\n",
        "import re\n",
        "import string\n",
        "from sklearn.manifold import TSNE\n",
        "from sklearn.feature_extraction.text import TfidfVectorizer\n",
        "from sklearn.cluster import DBSCAN, KMeans\n",
        "from sklearn.cluster import AgglomerativeClustering\n",
        "from pprint import pprint\n",
        "\n",
        "import nltk\n",
        "from nltk.corpus import stopwords\n",
        "nltk.download('stopwords')\n",
        "\n",
        "!pip install dateparser\n",
        "import dateparser\n",
        "\n",
        "!pip install num2words\n",
        "from num2words import num2words"
      ],
      "execution_count": 35,
      "outputs": [
        {
          "output_type": "stream",
          "text": [
            "[nltk_data] Downloading package stopwords to /root/nltk_data...\n",
            "[nltk_data]   Unzipping corpora/stopwords.zip.\n",
            "Requirement already satisfied: dateparser in /usr/local/lib/python3.7/dist-packages (1.0.0)\n",
            "Requirement already satisfied: regex!=2019.02.19 in /usr/local/lib/python3.7/dist-packages (from dateparser) (2019.12.20)\n",
            "Requirement already satisfied: tzlocal in /usr/local/lib/python3.7/dist-packages (from dateparser) (1.5.1)\n",
            "Requirement already satisfied: pytz in /usr/local/lib/python3.7/dist-packages (from dateparser) (2018.9)\n",
            "Requirement already satisfied: python-dateutil in /usr/local/lib/python3.7/dist-packages (from dateparser) (2.8.1)\n",
            "Requirement already satisfied: six>=1.5 in /usr/local/lib/python3.7/dist-packages (from python-dateutil->dateparser) (1.15.0)\n",
            "Requirement already satisfied: num2words in /usr/local/lib/python3.7/dist-packages (0.5.10)\n",
            "Requirement already satisfied: docopt>=0.6.2 in /usr/local/lib/python3.7/dist-packages (from num2words) (0.6.2)\n"
          ],
          "name": "stdout"
        }
      ]
    },
    {
      "cell_type": "code",
      "metadata": {
        "id": "nAHzdcCrUtXl"
      },
      "source": [
        "def extract_zip(pth,data_pth = None):\n",
        "    \"\"\"Function to extract contents of a zip file to a specified location (wd if data_pth not passed)\"\"\"\n",
        "    with ZipFile(pth, 'r') as zipObj:\n",
        "       # Extract all the contents of zip file in different directory\n",
        "       zipObj.extractall(data_pth)"
      ],
      "execution_count": null,
      "outputs": []
    },
    {
      "cell_type": "markdown",
      "metadata": {
        "id": "k5RS1m1RUtXk"
      },
      "source": [
        "## 2: Download repository and extract data"
      ]
    },
    {
      "cell_type": "code",
      "metadata": {
        "id": "pWljb-PkUtXm",
        "outputId": "9461b962-9590-4fa2-f0d2-33e8cee80ec6",
        "colab": {
          "base_uri": "https://localhost:8080/"
        }
      },
      "source": [
        "#Download CUAD git repository\n",
        "if not os.path.exists('main.zip'):\n",
        "  !wget --no-check-certificate https://github.com/TheAtticusProject/cuad/archive/refs/heads/main.zip\n",
        "  !unzip -q main.zip\n",
        "\n",
        "#If it has not already been extracted, extract the contents of data.zip\n",
        "if not os.path.exists('cuad-main/data'):\n",
        "  os.makedirs('cuad-main/data')\n",
        "\n",
        "if not os.path.exists('cuad-main/data/CUADv1.json'):\n",
        "  extract_zip('cuad-main/data.zip','cuad-main/data/')\n",
        "\n",
        "#Download a manualy curated set of labels for the full CUAD data. \n",
        "if not os.path.exists('labels3.txt'):\n",
        "  !wget https://raw.githubusercontent.com/RichardMWarburton/ExploringCUAD/main/labels3.txt"
      ],
      "execution_count": 3,
      "outputs": [
        {
          "output_type": "stream",
          "text": [
            "--2021-07-20 11:27:46--  https://github.com/TheAtticusProject/cuad/archive/refs/heads/main.zip\n",
            "Resolving github.com (github.com)... 140.82.114.3\n",
            "Connecting to github.com (github.com)|140.82.114.3|:443... connected.\n",
            "HTTP request sent, awaiting response... 302 Found\n",
            "Location: https://codeload.github.com/TheAtticusProject/cuad/zip/refs/heads/main [following]\n",
            "--2021-07-20 11:27:46--  https://codeload.github.com/TheAtticusProject/cuad/zip/refs/heads/main\n",
            "Resolving codeload.github.com (codeload.github.com)... 140.82.113.10\n",
            "Connecting to codeload.github.com (codeload.github.com)|140.82.113.10|:443... connected.\n",
            "HTTP request sent, awaiting response... 200 OK\n",
            "Length: unspecified [application/zip]\n",
            "Saving to: ‘main.zip’\n",
            "\n",
            "main.zip                [   <=>              ]  17.77M  19.8MB/s    in 0.9s    \n",
            "\n",
            "2021-07-20 11:27:48 (19.8 MB/s) - ‘main.zip’ saved [18631176]\n",
            "\n",
            "--2021-07-20 11:27:48--  https://raw.githubusercontent.com/RichardMWarburton/ExploringCUAD/main/labels3.txt\n",
            "Resolving raw.githubusercontent.com (raw.githubusercontent.com)... 185.199.108.133, 185.199.109.133, 185.199.110.133, ...\n",
            "Connecting to raw.githubusercontent.com (raw.githubusercontent.com)|185.199.108.133|:443... connected.\n",
            "HTTP request sent, awaiting response... 200 OK\n",
            "Length: 47879 (47K) [text/plain]\n",
            "Saving to: ‘labels3.txt’\n",
            "\n",
            "labels3.txt         100%[===================>]  46.76K  --.-KB/s    in 0.01s   \n",
            "\n",
            "2021-07-20 11:27:49 (4.64 MB/s) - ‘labels3.txt’ saved [47879/47879]\n",
            "\n"
          ],
          "name": "stdout"
        }
      ]
    },
    {
      "cell_type": "code",
      "metadata": {
        "id": "-j6zwYHHUtXp"
      },
      "source": [
        "#Load CUADv1 JSON to data\n",
        "with open('cuad-main/data/CUADv1.json','r') as infile:\n",
        "    for line in infile:\n",
        "        contract_data = json.loads(line)"
      ],
      "execution_count": 4,
      "outputs": []
    },
    {
      "cell_type": "markdown",
      "metadata": {
        "id": "G_1H8XPNxNTG"
      },
      "source": [
        "### 2.1: Read in Label Data & Generate Look Up Dictionary"
      ]
    },
    {
      "cell_type": "code",
      "metadata": {
        "id": "yHqEpKU5xNjB"
      },
      "source": [
        "#Initate storage for labels look up (LU)\n",
        "labels_LU = {}\n",
        "\n",
        "#Read in labels data\n",
        "with open('labels3.txt','r',encoding ='UTF-8') as infile:\n",
        "  for line in infile:\n",
        "    #Remove trailing special characters and split on tab\n",
        "    data = line.strip().split(sep='\\t')\n",
        "    #Add name and label to labels_LU dictionary\n",
        "    labels_LU[data[0]] = data[1]"
      ],
      "execution_count": 5,
      "outputs": []
    },
    {
      "cell_type": "markdown",
      "metadata": {
        "id": "LKjA7wac3yse"
      },
      "source": [
        "The look up returns one error, most likely due to the accented E and a disparity of encoding.  This will be forced to 'Marketing Agreement' manually for now (EITHER SORT OR PROVIDE EXAMPLE)"
      ]
    },
    {
      "cell_type": "markdown",
      "metadata": {
        "id": "igP7vzKnqac7"
      },
      "source": [
        "### 2.2: Extract Raw Contract Data"
      ]
    },
    {
      "cell_type": "code",
      "metadata": {
        "id": "MgadIkwcqemy"
      },
      "source": [
        "#ser reg ex expression for characters to remove from contract contest\n",
        "spec_chars = '\\\\n|\\\\t|\\\\t'\n",
        "\n",
        "#Set number of contracts in data\n",
        "num_contracts = len(contract_data['data'])\n",
        "\n",
        "#Initate dictionary to store raw contract data\n",
        "raw_contracts = defaultdict(list)\n",
        "\n",
        "#for each contract\n",
        "for i in range(num_contracts):\n",
        "  #Append the title, contract text and character length of text to the raw_contracts dictionary\n",
        "  raw_contracts['contract title'].append(contract_data['data'][i]['title'])\n",
        "  raw_contracts['label'].append(labels_LU[contract_data['data'][i]['title']] if contract_data['data'][i]['title'] in labels_LU else 'marketing agreement' ) #<- manual error trap applied here (see below)\n",
        "  \n",
        "  #Parse raw text and process to remove breaks\n",
        "  raw_text = contract_data['data'][i]['paragraphs'][0]['context']\n",
        "  clean_text = re.sub(spec_chars,'',raw_text)\n",
        "\n",
        "  #Split clean text in to sentances and tokens\n",
        "  sentance_text = clean_text.split(sep = '. ')\n",
        "  token_text = clean_text.split(sep = ' ')\n",
        "\n",
        "  #Append text to the respective key in the raw_contracts dictionary\n",
        "  raw_contracts['raw text'].append(raw_text)\n",
        "  raw_contracts['clean text'].append(clean_text)\n",
        "  raw_contracts['sentance text'].append(sentance_text)\n",
        "  raw_contracts['token text'].append(token_text)\n",
        "  \n",
        "  #Add character, sentance and token counts to raw_contracts dictionary\n",
        "  raw_contracts['character count'].append(len(raw_text))\n",
        "  raw_contracts['sentance count'].append(len(sentance_text))\n",
        "  raw_contracts['token count'].append(len(token_text))\n"
      ],
      "execution_count": 6,
      "outputs": []
    },
    {
      "cell_type": "markdown",
      "metadata": {
        "id": "n876lWEZsh7o"
      },
      "source": [
        "### 2.3: Extract Clause Specific Data"
      ]
    },
    {
      "cell_type": "code",
      "metadata": {
        "id": "tg1TjBOurSrD"
      },
      "source": [
        "#Define the number of clauses\n",
        "num_clauses = 41\n",
        "\n",
        "#initate dictioanry to store caluse data\n",
        "clause_data = defaultdict(list)\n",
        "\n",
        "#For each contract\n",
        "for i in range(num_contracts):\n",
        "  #for each clause\n",
        "  for j in range(num_clauses):\n",
        "    #for each found clause annotation\n",
        "    for k in range(len(contract_data['data'][i]['paragraphs'][0]['qas'][j]['answers'])): \n",
        "      #Add the contract title\n",
        "      clause_data['contract title'].append(contract_data['data'][i]['title'])\n",
        "      clause_data['label'].append(labels_LU[contract_data['data'][i]['title']] if contract_data['data'][i]['title'] in labels_LU else 'marketing agreement' )  #<- manual error trap applied here\n",
        "      clause_data['clause'].append(contract_data['data'][i]['paragraphs'][0]['qas'][j]['id'].split(sep='__')[1])\n",
        "      clause_data['annotation'].append(contract_data['data'][i]['paragraphs'][0]['qas'][j]['answers'][k]['text'])\n",
        "      clause_data['annotation start'].append(contract_data['data'][i]['paragraphs'][0]['qas'][j]['answers'][k]['answer_start'])\n",
        "      clause_data['annotation length'].append(len(contract_data['data'][i]['paragraphs'][0]['qas'][j]['answers'][k]['text']))\n"
      ],
      "execution_count": 7,
      "outputs": []
    },
    {
      "cell_type": "markdown",
      "metadata": {
        "id": "1ojxytoG46D9"
      },
      "source": [
        "## 3: Cleaning data and extracting a single clause"
      ]
    },
    {
      "cell_type": "code",
      "metadata": {
        "id": "fXET1UnSbTpM"
      },
      "source": [
        "#Initate dataframe of all clause data\n",
        "clause_df = pd.DataFrame(clause_data)\n",
        "\n",
        "#Convert to lower case\n",
        "clause_df['annotation'] = clause_df['annotation'].apply(lambda x: x.lower())\n",
        "\n",
        "#Remove any formating characters or multiple spaces and replace with a single space\n",
        "clause_df['annotation'] = clause_df['annotation'].apply(lambda x: re.sub('\\\\t|\\\\r|\\\\n|[^\\S]{2,}',' ',x))\n",
        "\n",
        "#Remove punctuation from the string\n",
        "clause_df['annotation'] = clause_df['annotation'].apply(lambda x: x.translate(str.maketrans('', '', string.punctuation)))"
      ],
      "execution_count": 8,
      "outputs": []
    },
    {
      "cell_type": "code",
      "metadata": {
        "colab": {
          "base_uri": "https://localhost:8080/"
        },
        "id": "B3xFTGsWJ0fH",
        "outputId": "639d6d39-a5f9-4122-97b2-63b454d2e678"
      },
      "source": [
        "#Define clause of interest\n",
        "clause_of_interest = 'Agreement Date'\n",
        "\n",
        "#Limit df to clause of interest and extract annotations of itnerest\n",
        "of_interest_data = clause_df[clause_df['clause'] == clause_of_interest]\n",
        "annotations_of_interest = of_interest_data['annotation'].values\n",
        "\n",
        "#Identify where there are multiple annotations per contract\n",
        "titles,counts = np.unique(of_interest_data['contract title'],return_counts =True)\n",
        "dups = titles[counts >= 2]\n",
        "\n",
        "#Output Analysis\n",
        "print('There are {} contracts with \\'{}\\' annotations'.format(*(titles.shape[0],clause_of_interest)))\n",
        "print('There are {} contracts with more than one annotation'.format(dups.shape[0]))"
      ],
      "execution_count": 9,
      "outputs": [
        {
          "output_type": "stream",
          "text": [
            "There are 470 contracts with 'Agreement Date' annotations\n",
            "There are 6 contracts with more than one annotation\n"
          ],
          "name": "stdout"
        }
      ]
    },
    {
      "cell_type": "code",
      "metadata": {
        "id": "aiO83dK-iZvG"
      },
      "source": [
        "#Initate memory for annotations within contracts\n",
        "combined_annotations_list = defaultdict(list)\n",
        "combined_annotations_string = {}\n",
        "\n",
        "#For each annotation of interest found in the contract, \n",
        "#append annotation to a default dict list with contract as key\n",
        "for i in of_interest_data.index:\n",
        "  name = of_interest_data.loc[i,['contract title']].values[0]\n",
        "  annotation = of_interest_data.loc[i,['annotation']].values[0]\n",
        "  combined_annotations_list[name].append(annotation)\n",
        "\n",
        "#Produce a singel string of all annotations found in specific contracts\n",
        "for key in combined_annotations_list.keys():\n",
        "  combined_annotations_string[key] = ' '.join(combined_annotations_list[key])"
      ],
      "execution_count": 10,
      "outputs": []
    },
    {
      "cell_type": "code",
      "metadata": {
        "id": "oyJbopX_jFY5"
      },
      "source": [
        "#Build array of contract names and concatenated annotations\n",
        "contracts = np.array(list(combined_annotations_string.keys()))\n",
        "combined_annotations = np.array(list(combined_annotations_string.values()))"
      ],
      "execution_count": 11,
      "outputs": []
    },
    {
      "cell_type": "markdown",
      "metadata": {
        "id": "78T286KsqMGb"
      },
      "source": [
        "## Section X: Parse Date Field"
      ]
    },
    {
      "cell_type": "code",
      "metadata": {
        "id": "LhVHMAUR-x1Y"
      },
      "source": [
        "txt = combined_annotations[0]"
      ],
      "execution_count": 12,
      "outputs": []
    },
    {
      "cell_type": "code",
      "metadata": {
        "id": "yYMzjFW8-x4N"
      },
      "source": [
        "import spacy\n",
        "from spacy import displacy\n",
        "from collections import Counter\n",
        "import en_core_web_sm"
      ],
      "execution_count": 13,
      "outputs": []
    },
    {
      "cell_type": "code",
      "metadata": {
        "id": "WfBM5w4k-yk3"
      },
      "source": [
        "#Define stopwords list\n",
        "stop_words = stopwords.words('english')"
      ],
      "execution_count": 37,
      "outputs": []
    },
    {
      "cell_type": "code",
      "metadata": {
        "id": "YJ8JIWvs_GOk"
      },
      "source": [
        "def append_type_match(x, value_list,matches=[]):\n",
        "  if x.label_ in matches:\n",
        "    value_list.append(x)"
      ],
      "execution_count": 15,
      "outputs": []
    },
    {
      "cell_type": "code",
      "metadata": {
        "id": "OuhyyGfLA_yE"
      },
      "source": [
        "def ordinalize_num(txt):\n",
        "  for token in txt.split(sep=' '):\n",
        "    try:\n",
        "      if int(token) <= 31:\n",
        "        ord_val = num2words(token, lang=\"en\", to=\"ordinal_num\")\n",
        "        txt = txt.replace(token,ord_val)\n",
        "    except:\n",
        "      continue\n",
        "  return txt"
      ],
      "execution_count": 16,
      "outputs": []
    },
    {
      "cell_type": "code",
      "metadata": {
        "id": "VEqdjUUo_4LU"
      },
      "source": [
        "date_feature_list = []\n",
        "not_mapped = []\n",
        "\n",
        "nlp = en_core_web_sm.load()\n",
        "\n",
        "for annotation in combined_annotations:\n",
        "\n",
        "  annotation_list = []  \n",
        "  #Clean annotaiton (typos etc)\n",
        "  annotation = annotation.replace('  ',' ')\n",
        "  annotation = ' '.join([word for word in annotation.split(sep=' ') if word not in stop_words])\n",
        "  annotation = annotation.replace('t h','th')\n",
        "  annotation = annotation.replace('s t','st')\n",
        "  annotation = annotation.replace('day','')\n",
        "  annotation = ordinalize_num(annotation)\n",
        "\n",
        "  doc = nlp(repr(annotation))\n",
        "\n",
        "  for X in doc.ents:\n",
        "    if X.label_ in ['DATE']:\n",
        "      annotation_list.append(X.text)\n",
        "    else:\n",
        "      annotation_list.append(X.text)\n",
        "      not_mapped.append(annotation)\n",
        "\n",
        "  date_feature_list.append(' '.join(annotation_list))\n"
      ],
      "execution_count": 81,
      "outputs": []
    },
    {
      "cell_type": "code",
      "metadata": {
        "id": "2EK2DoRyARN0",
        "colab": {
          "base_uri": "https://localhost:8080/"
        },
        "outputId": "70c636cf-2798-4441-a0b5-f37e6e0c1c73"
      },
      "source": [
        "pass_vals = list(map(dateparser.parse,date_feature_list))\n",
        "matched = sum(list(map(lambda x: 1 if x == None else 0,pass_vals)))\n",
        "print('Pass 1: {} of {} not matched ({:.2%})'.format(*(matched,len(pass_vals),matched/len(pass_vals))))"
      ],
      "execution_count": 82,
      "outputs": [
        {
          "output_type": "stream",
          "text": [
            "Pass 1: 70 of 470 not matched (14.89%)\n"
          ],
          "name": "stdout"
        }
      ]
    },
    {
      "cell_type": "code",
      "metadata": {
        "id": "V76HRNa8GZEg"
      },
      "source": [
        "#Remove any years significantly in the future (assumed errors)\n",
        "for i in range(len(pass_vals)):\n",
        "  if pass_vals[i] != None:\n",
        "    if pass_vals[i].year >2025:\n",
        "      print(pass_vals[i])\n",
        "      pass_vals[i] = None"
      ],
      "execution_count": 93,
      "outputs": []
    },
    {
      "cell_type": "code",
      "metadata": {
        "id": "4U5sdfR5tvhu"
      },
      "source": [
        "bag_of_clauses = {}\n",
        "\n",
        "for i in range(len(contracts)):\n",
        "  if pass_vals[i] != None:\n",
        "    bag_of_clauses[contracts[i]] = {clause_of_interest:pass_vals[i].timestamp()}"
      ],
      "execution_count": 109,
      "outputs": []
    },
    {
      "cell_type": "code",
      "metadata": {
        "id": "CFfjf4tE5kIo",
        "outputId": "0388e9a4-2a1b-4744-89dc-a451029ed616",
        "colab": {
          "base_uri": "https://localhost:8080/"
        }
      },
      "source": [
        "bag_of_clauses"
      ],
      "execution_count": 110,
      "outputs": [
        {
          "output_type": "execute_result",
          "data": {
            "text/plain": [
              "{'2ThemartComInc_19990826_10-12G_EX-10.10_6700288_EX-10.10_Co-Branding Agreement_ Agency Agreement': {'Agreement Date': 929923200.0},\n",
              " 'ACCURAYINC_09_01_2010-EX-10.31-DISTRIBUTOR AGREEMENT': {'Agreement Date': 1275955200.0},\n",
              " 'ADAMSGOLFINC_03_21_2005-EX-10.17-ENDORSEMENT AGREEMENT': {'Agreement Date': 1105574400.0},\n",
              " 'ADAPTIMMUNETHERAPEUTICSPLC_04_06_2017-EX-10.11-STRATEGIC ALLIANCE AGREEMENT': {'Agreement Date': 1474588800.0},\n",
              " 'ADIANUTRITION,INC_04_01_2005-EX-10.D2-RESELLER AGREEMENT': {'Agreement Date': 1090281600.0},\n",
              " 'ADMA BioManufacturing, LLC -  Amendment #3 to Manufacturing Agreement ': {'Agreement Date': 1513900800.0},\n",
              " 'ADUROBIOTECH,INC_06_02_2020-EX-10.7-CONSULTING AGREEMENT': {'Agreement Date': 1590969600.0},\n",
              " 'ADUROBIOTECH,INC_06_02_2020-EX-10.7-CONSULTING AGREEMENT(1)': {'Agreement Date': 1590969600.0},\n",
              " 'AFSALABANCORPINC_08_01_1996-EX-1.1-AGENCY AGREEMENT': {'Agreement Date': 837820800.0},\n",
              " 'AIRSPANNETWORKSINC_04_11_2000-EX-10.5-Distributor Agreement': {'Agreement Date': 954460800.0},\n",
              " 'AIRTECHINTERNATIONALGROUPINC_05_08_2000-EX-10.4-FRANCHISE AGREEMENT': {'Agreement Date': 964051200.0},\n",
              " 'ALAMOGORDOFINANCIALCORP_12_16_1999-EX-1-AGENCY AGREEMENT': {'Agreement Date': 964051200.0},\n",
              " 'ALCOSTORESINC_12_14_2005-EX-10.26-AGENCY AGREEMENT': {'Agreement Date': 1131494400.0},\n",
              " 'ALLIANCEBANCORPINCOFPENNSYLVANIA_10_18_2006-EX-1.2-AGENCY AGREEMENT': {'Agreement Date': 1163980800.0},\n",
              " 'ALLISONTRANSMISSIONHOLDINGSINC_12_15_2014-EX-99.1-COOPERATION AGREEMENT': {'Agreement Date': 1418342400.0},\n",
              " 'AMBASSADOREYEWEARGROUPINC_11_17_1997-EX-10.28-ENDORSEMENT AGREEMENT': {'Agreement Date': 809222400.0},\n",
              " 'AMERICANPHYSICIANSCAPITALINC_03_31_2003-EX-10.26-AGENCY AGREEMENT': {'Agreement Date': 1627171200.0},\n",
              " 'ANIXABIOSCIENCESINC_06_09_2020-EX-10.1-COLLABORATION AGREEMENT': {'Agreement Date': 1586822400.0},\n",
              " 'ARMSTRONGFLOORING,INC_01_07_2019-EX-10.2-INTELLECTUAL PROPERTY AGREEMENT': {'Agreement Date': 1546214400.0},\n",
              " 'ASIANDRAGONGROUPINC_08_11_2005-EX-10.5-Reseller Agreement': {'Agreement Date': 1087689600.0},\n",
              " 'ASPIRITYHOLDINGSLLC_05_07_2012-EX-10.6-OUTSOURCING AGREEMENT': {'Agreement Date': 1342742400.0},\n",
              " 'ATENTOSA_07_06_2020-EX-99.1-JOINT FILING AGREEMENT': {'Agreement Date': 1593993600.0},\n",
              " 'ATHENSBANCSHARESCORP_11_02_2009-EX-1.2-AGENCY AGREEMENT , 2009': {'Agreement Date': 1248048000.0},\n",
              " 'ATMOSENERGYCORP_11_22_2002-EX-10.17-TRANSPORTATION SERVICE AGREEMENT': {'Agreement Date': 706320000.0},\n",
              " 'AULAMERICANUNITTRUST_04_24_2020-EX-99.8.77-SERVICING AGREEMENT': {'Agreement Date': 1626739200.0},\n",
              " 'AURASYSTEMSINC_06_16_2010-EX-10.25-STRATEGIC ALLIANCE AGREEMENT': {'Agreement Date': 1268870400.0},\n",
              " 'AgapeAtpCorp_20191202_10-KA_EX-10.1_11911128_EX-10.1_Supply Agreement': {'Agreement Date': 1515974400.0},\n",
              " 'AimmuneTherapeuticsInc_20200205_8-K_EX-10.3_11967170_EX-10.3_Development Agreement': {'Agreement Date': 1580774400.0},\n",
              " 'Antares Pharma, Inc. - Manufacturing Agreement': {'Agreement Date': 1521504000.0},\n",
              " 'Apollo Endosurgery - Manufacturing and Supply Agreement': {'Agreement Date': 1417737600.0},\n",
              " 'ArcGroupInc_20171211_8-K_EX-10.1_10976103_EX-10.1_Sponsorship Agreement': {'Agreement Date': 1511740800.0},\n",
              " 'ArcaUsTreasuryFund_20200207_N-2_EX-99.K5_11971930_EX-99.K5_Development Agreement': {'Agreement Date': 1595203200.0},\n",
              " 'ArconicRolledProductsCorp_20191217_10-12B_EX-2.7_11923804_EX-2.7_Trademark License Agreement': {'Agreement Date': 1595203200.0},\n",
              " 'ArmstrongFlooringInc_20190107_8-K_EX-10.2_11471795_EX-10.2_Intellectual Property Agreement': {'Agreement Date': 1546214400.0},\n",
              " 'Array BioPharma Inc. - LICENSE, DEVELOPMENT AND COMMERCIALIZATION AGREEMENT': {'Agreement Date': 1496188800.0},\n",
              " 'ArtaraTherapeuticsInc_20200110_8-K_EX-10.5_11943350_EX-10.5_License Agreement': {'Agreement Date': 1543363200.0},\n",
              " 'AtnInternationalInc_20191108_10-Q_EX-10.1_11878541_EX-10.1_Maintenance Agreement': {'Agreement Date': 1564531200.0},\n",
              " 'AudibleInc_20001113_10-Q_EX-10.32_2599586_EX-10.32_Co-Branding Agreement_ Marketing Agreement_ Investment Distribution Agreement': {'Agreement Date': 949190400.0},\n",
              " 'AzulSa_20170303_F-1A_EX-10.3_9943903_EX-10.3_Maintenance Agreement1': {'Agreement Date': 1425859200.0},\n",
              " 'AzulSa_20170303_F-1A_EX-10.3_9943903_EX-10.3_Maintenance Agreement2': {'Agreement Date': 1452038400.0},\n",
              " 'BABCOCK_WILCOXENTERPRISES,INC_08_04_2015-EX-10.17-INTELLECTUAL PROPERTY AGREEMENT between THE BABCOCK _ WILCOX COMPANY and BABCOCK _ WILCOX ENTERPRISES, INC.': {'Agreement Date': 1435276800.0},\n",
              " 'BANUESTRAFINANCIALCORP_09_08_2006-EX-10.16-AGENCY AGREEMENT': {'Agreement Date': 1153353600.0},\n",
              " 'BELLICUMPHARMACEUTICALS,INC_05_07_2019-EX-10.1-Supply Agreement': {'Agreement Date': 1553644800.0},\n",
              " 'BELLRINGBRANDS,INC_02_07_2020-EX-10.18-MASTER SUPPLY AGREEMENT': {'Agreement Date': 1572480000.0},\n",
              " 'BERKELEYLIGHTS,INC_06_26_2020-EX-10.12-COLLABORATION AGREEMENT': {'Agreement Date': 1568332800.0},\n",
              " 'BEYONDCOMCORP_08_03_2000-EX-10.2-CO-HOSTING AGREEMENT': {'Agreement Date': 906336000.0},\n",
              " 'BICYCLETHERAPEUTICSPLC_03_10_2020-EX-10.11-SERVICE AGREEMENT': {'Agreement Date': 1569456000.0},\n",
              " 'BIOAMBERINC_04_10_2013-EX-10.34-DEVELOPMENT AGREEMENT (1)': {'Agreement Date': 1271289600.0},\n",
              " 'BIOCEPTINC_08_19_2013-EX-10-COLLABORATION AGREEMENT': {'Agreement Date': 1635811200.0},\n",
              " 'BIOFRONTERAAG_04_29_2019-EX-4.17-SUPPLY AGREEMENT': {'Agreement Date': 1521504000.0},\n",
              " 'BIOPURECORP_06_30_1999-EX-10.13-AGENCY AGREEMENT': {'Agreement Date': 922665600.0},\n",
              " 'BLACKBOXSTOCKSINC_08_05_2014-EX-10.1-DISTRIBUTOR AGREEMENT': {'Agreement Date': 1375315200.0},\n",
              " 'BLACKROCKMUNIHOLDINGSINVESTMENTQUALITYFUND_04_07_2020-EX-99.01-JOINT FILING AGREEMENT': {'Agreement Date': 1586217600.0},\n",
              " 'BLACKSTONEGSOLONG-SHORTCREDITINCOMEFUND_05_11_2020-EX-99.(K)(1)-SERVICE AGREEMENT': {'Agreement Date': 1296000000.0},\n",
              " 'BLUEHILLSBANCORP,INC_05_20_2014-EX-1.1-AGENCY AGREEMENT': {'Agreement Date': 1400025600.0},\n",
              " 'BLUEROCKRESIDENTIALGROWTHREIT,INC_06_01_2016-EX-1.1-AGENCY AGREEMENT': {'Agreement Date': 1464134400.0},\n",
              " 'BNCMORTGAGEINC_05_17_1999-EX-10.4-LICENSING AND WEB SITE HOSTING AGREEMENT': {'Agreement Date': 919987200.0},\n",
              " 'BNLFINANCIALCORP_03_30_2007-EX-10.8-OUTSOURCING AGREEMENT': {'Agreement Date': 1146441600.0},\n",
              " 'BOLIVARMININGCORP_05_23_2003-EX-2.1-VISP WEB SITE BUILDING AND HOSTING AGREEMENT': {'Agreement Date': 1639958400.0},\n",
              " 'BONTONSTORESINC_04_20_2018-EX-99.3-AGENCY AGREEMENT': {'Agreement Date': 1524009600.0},\n",
              " 'BORROWMONEYCOM,INC_06_11_2020-EX-10.1-JOINT VENTURE AGREEMENT': {'Agreement Date': 1584662400.0},\n",
              " 'BUFFALOWILDWINGSINC_06_05_1998-EX-10.3-FRANCHISE AGREEMENT': {'Agreement Date': 1626652800.0},\n",
              " 'BellringBrandsInc_20190920_S-1_EX-10.12_11817081_EX-10.12_Manufacturing Agreement2': {'Agreement Date': 1528675200.0},\n",
              " 'BellringBrandsInc_20190920_S-1_EX-10.12_11817081_EX-10.12_Manufacturing Agreement4': {'Agreement Date': 1562112000.0},\n",
              " 'BizzingoInc_20120322_8-K_EX-10.17_7504499_EX-10.17_Endorsement Agreement': {'Agreement Date': 1331683200.0},\n",
              " 'BloomEnergyCorp_20180321_DRSA (on S-1)_EX-10_11240356_EX-10_Maintenance Agreement': {'Agreement Date': 1334275200.0},\n",
              " 'BravatekSolutionsInc_20170418_8-K_EX-10.1_10205739_EX-10.1_Reseller Agreement': {'Agreement Date': 1491523200.0},\n",
              " 'CANOPETROLEUM,INC_12_13_2007-EX-10.1-Sponsorship Agreement': {'Agreement Date': 1196812800.0},\n",
              " 'CARDAX,INC_08_19_2014-EX-10.1-COLLABORATION AGREEMENT': {'Agreement Date': 1408320000.0},\n",
              " 'CENTRACKINTERNATIONALINC_10_29_1999-EX-10.3-WEB SITE HOSTING AGREEMENT': {'Agreement Date': 923356800.0},\n",
              " 'CERES,INC_01_25_2012-EX-10.20-Collaboration Agreement': {'Agreement Date': 1175385600.0},\n",
              " 'CHANGEPOINTCORP_03_08_2000-EX-10.6-LICENSE AND HOSTING AGREEMENT': {'Agreement Date': 945043200.0},\n",
              " 'CHAPARRALRESOURCESINC_03_30_2000-EX-10.66-TRANSPORTATION CONTRACT': {'Agreement Date': 946857600.0},\n",
              " 'CHEETAHMOBILEINC_04_22_2014-EX-10.43-Cooperation Agreement': {'Agreement Date': 1366416000.0},\n",
              " 'CHERRYHILLMORTGAGEINVESTMENTCORP_09_26_2013-EX-10.1-Strategic Alliance Agreement': {'Agreement Date': 1374278400.0},\n",
              " 'CHINARECYCLINGENERGYCORP_11_14_2013-EX-10.6-Cooperation Agreement': {'Agreement Date': 1374278400.0},\n",
              " 'CHIPMOSTECHNOLOGIESBERMUDALTD_04_18_2016-EX-4.72-Strategic Alliance Agreement': {'Agreement Date': 1449792000.0},\n",
              " 'COOLTECHNOLOGIES,INC_10_25_2017-EX-10.71-Strategic Alliance Agreement': {'Agreement Date': 1627257600.0},\n",
              " 'CORALGOLDRESOURCES,LTD_05_28_2020-EX-4.1-CONSULTING AGREEMENT': {'Agreement Date': 1580515200.0},\n",
              " 'CORIOINC_07_20_2000-EX-10.5-LICENSE AND HOSTING AGREEMENT': {'Agreement Date': 941155200.0},\n",
              " 'CURAEGISTECHNOLOGIES,INC_05_26_2010-EX-1-CORPORATE SPONSORSHIP AGREEMENT': {'Agreement Date': 1279411200.0},\n",
              " 'CUROGROUPHOLDINGSCORP_05_04_2020-EX-10.3-SERVICING AGREEMENT': {'Agreement Date': 1586304000.0},\n",
              " 'CYBERIANOUTPOSTINC_07_09_1998-EX-10.13-PROMOTION AGREEMENT': {'Agreement Date': 885772800.0},\n",
              " 'CcRealEstateIncomeFundadv_20181205_POS 8C_EX-99.(H)(3)_11447739_EX-99.(H)(3)_Marketing Agreement': {'Agreement Date': 1535068800.0},\n",
              " 'CerenceInc_20191002_8-K_EX-10.4_11827494_EX-10.4_Intellectual Property Agreement': {'Agreement Date': 1569801600.0},\n",
              " 'Cerus Corporation - FIRST AMEND TO SUPPLY AND MANUFACTURING AGREEMENT': {'Agreement Date': 1529625600.0},\n",
              " 'CoherusBiosciencesInc_20200227_10-K_EX-10.29_12021376_EX-10.29_Development Agreement': {'Agreement Date': 1550620800.0},\n",
              " 'Columbia Laboratories, (Bermuda) Ltd. - AMEND NO. 2 TO MANUFACTURING AND SUPPLY AGREEMENT': {'Agreement Date': 1532044800.0},\n",
              " 'ConformisInc_20191101_10-Q_EX-10.6_11861402_EX-10.6_Development Agreement': {'Agreement Date': 1569801600.0},\n",
              " 'CreditcardscomInc_20070810_S-1_EX-10.33_362297_EX-10.33_Affiliate Agreement': {'Agreement Date': 1175817600.0},\n",
              " 'CybergyHoldingsInc_20140520_10-Q_EX-10.27_8605784_EX-10.27_Affiliate Agreement': {'Agreement Date': 1399507200.0},\n",
              " 'CytodynInc_20200109_10-Q_EX-10.5_11941634_EX-10.5_License Agreement': {'Agreement Date': 1576540800.0},\n",
              " 'DIVERSINETCORP_03_01_2012-EX-4-RESELLER AGREEMENT': {'Agreement Date': 1610323200.0},\n",
              " 'DOMINIADVISORTRUST_02_18_2005-EX-99.(H)(2)-SPONSORSHIP AGREEMENT': {'Agreement Date': 1107475200.0},\n",
              " 'DRKOOPCOMINC_04_21_1999-EX-10.28-SPONSORSHIP AGREEMENT': {'Agreement Date': 921110400.0},\n",
              " 'DUOSTECHNOLOGIESGROUP,INC_04_21_2009-EX-10.1-STRATEGIC ALLIANCE AGREEMENT': {'Agreement Date': 1239753600.0},\n",
              " 'DYNAMEXINC_06_06_1996-EX-10.4-TRANSPORTATION SERVICES AGREEMENT': {'Agreement Date': 816825600.0},\n",
              " 'DYNTEKINC_07_30_1999-EX-10-ONLINE HOSTING AGREEMENT': {'Agreement Date': 928195200.0},\n",
              " 'DigitalCinemaDestinationsCorp_20111220_S-1_EX-10.10_7346719_EX-10.10_Affiliate Agreement': {'Agreement Date': 1300060800.0},\n",
              " 'DovaPharmaceuticalsInc_20181108_10-Q_EX-10.2_11414857_EX-10.2_Promotion Agreement': {'Agreement Date': 1537920000.0},\n",
              " 'ELANDIAINTERNATIONALINC_04_25_2007-EX-10.21-Outsourcing Agreement': {'Agreement Date': 1087689600.0},\n",
              " 'ELECTRAMECCANICA VEHICLES CORP. - Manufacturing Agreement': {'Agreement Date': 1487548800.0},\n",
              " 'ELFBEAUTY,INC_07_02_2020-EX-10.1-COOPERATION AGREEMENT': {'Agreement Date': 1593561600.0},\n",
              " 'EMERALDHEALTHTHERAPEUTICSINC_06_10_2020-EX-4.5-CONSULTING AGREEMENT - DR. GAETANO MORELLO N.D. INC.': {'Agreement Date': 1547078400.0},\n",
              " 'ENERGOUSCORP_03_16_2017-EX-10.24-STRATEGIC ALLIANCE AGREEMENT': {'Agreement Date': 1478390400.0},\n",
              " 'ENERGYXXILTD_05_08_2015-EX-10.13-Transportation AGREEMENT': {'Agreement Date': 1426032000.0},\n",
              " 'ENTERTAINMENTGAMINGASIAINC_02_15_2005-EX-10.5-DISTRIBUTOR AGREEMENT': {'Agreement Date': 1106265600.0},\n",
              " 'ENTRUSTINC_07_24_1998-EX-10.5-STRATEGIC ALLIANCE AGREEMENT': {'Agreement Date': 851990400.0},\n",
              " 'EUROPEANMICROHOLDINGSINC_03_06_1998-EX-10.6-DISTRIBUTOR AGREEMENT': {'Agreement Date': 878688000.0},\n",
              " 'EbixInc_20010515_10-Q_EX-10.3_4049767_EX-10.3_Co-Branding Agreement': {'Agreement Date': 979862400.0},\n",
              " 'EcoScienceSolutionsInc_20171117_8-K_EX-10.1_10956472_EX-10.1_Endorsement Agreement': {'Agreement Date': 1510617600.0},\n",
              " 'EcoScienceSolutionsInc_20180406_8-K_EX-10.1_11135398_EX-10.1_Sponsorship Agreement': {'Agreement Date': 1522540800.0},\n",
              " 'EdietsComInc_20001030_10QSB_EX-10.4_2606646_EX-10.4_Co-Branding Agreement': {'Agreement Date': 958953600.0},\n",
              " 'EhaveInc_20190515_20-F_EX-4.44_11678816_EX-4.44_License Agreement_ Reseller Agreement': {'Agreement Date': 1540857600.0},\n",
              " 'EmbarkComInc_19991008_S-1A_EX-10.10_6487661_EX-10.10_Co-Branding Agreement': {'Agreement Date': 928800000.0},\n",
              " 'EmeraldHealthBioceuticalsInc_20200218_1-A_EX1A-6 MAT CTRCT_11987205_EX1A-6 MAT CTRCT_Development Agreement': {'Agreement Date': 1472688000.0},\n",
              " 'EmmisCommunicationsCorp_20191125_8-K_EX-10.6_11906433_EX-10.6_Marketing Agreement': {'Agreement Date': 1574640000.0},\n",
              " 'EtonPharmaceuticalsInc_20191114_10-Q_EX-10.1_11893941_EX-10.1_Development Agreement': {'Agreement Date': 1560297600.0},\n",
              " 'EuromediaHoldingsCorp_20070215_10SB12G_EX-10.B(01)_525118_EX-10.B(01)_Content License Agreement': {'Agreement Date': 1152576000.0},\n",
              " 'ExactSciencesCorp_20180822_8-K_EX-10.1_11331629_EX-10.1_Promotion Agreement': {'Agreement Date': 1534809600.0},\n",
              " 'FEDERATEDGOVERNMENTINCOMESECURITIESINC_04_28_2020-EX-99.SERV AGREE-SERVICES AGREEMENT': {'Agreement Date': 1072915200.0},\n",
              " 'FEDERATEDGOVERNMENTINCOMESECURITIESINC_04_28_2020-EX-99.SERV AGREE-SERVICES AGREEMENT_AMENDMENT': {'Agreement Date': 1238371200.0},\n",
              " 'FEDERATEDGOVERNMENTINCOMESECURITIESINC_04_28_2020-EX-99.SERV AGREE-SERVICES AGREEMENT_POWEROF': {'Agreement Date': 1072915200.0},\n",
              " 'FEDERATEDGOVERNMENTINCOMESECURITIESINC_04_28_2020-EX-99.SERV AGREE-SERVICES AGREEMENT_SECONDAMENDMENT': {'Agreement Date': 1614556800.0},\n",
              " 'FIBROGENINC_10_01_2014-EX-10.11-COLLABORATION AGREEMENT': {'Agreement Date': 1117584000.0},\n",
              " 'FIDELITYNATIONALINFORMATIONSERVICES,INC_08_05_2009-EX-10.3-INTELLECTUAL PROPERTY AGREEMENT': {'Agreement Date': 993859200.0},\n",
              " 'FLOTEKINDUSTRIESINCCN_05_09_2019-EX-10.1-SUPPLY AGREEMENT': {'Agreement Date': 1551312000.0},\n",
              " 'FTENETWORKS,INC_02_18_2016-EX-99.4-STRATEGIC ALLIANCE AGREEMENT': {'Agreement Date': 1455667200.0},\n",
              " 'FerroglobePlc_20150624_F-4A_EX-10.20_9154746_EX-10.20_Outsourcing Agreement': {'Agreement Date': 1230768000.0},\n",
              " 'Freecook_20180605_S-1_EX-10.3_11233807_EX-10.3_Hosting Agreement': {'Agreement Date': 1515628800.0},\n",
              " 'FreezeTagInc_20180411_8-K_EX-10.1_11139603_EX-10.1_Sponsorship Agreement': {'Agreement Date': 1521676800.0},\n",
              " 'FuelcellEnergyInc_20191106_8-K_EX-10.1_11868007_EX-10.1_Development Agreement': {'Agreement Date': 1572912000.0},\n",
              " 'FulucaiProductionsLtd_20131223_10-Q_EX-10.9_8368347_EX-10.9_Content License Agreement': {'Agreement Date': 1352937600.0},\n",
              " 'GALERATHERAPEUTICS,INC_02_14_2020-EX-99.A-JOINT FILING AGREEMENT': {'Agreement Date': 1581638400.0},\n",
              " 'GIGGLESN_HUGS,INC_06_23_2016-EX-10.2-STRATEGIC ALLIANCE AGREEMENT': {'Agreement Date': 1468972800.0},\n",
              " 'GLOBALTECHNOLOGIESLTD_06_08_2020-EX-10.16-CONSULTING AGREEMENT': {'Agreement Date': 1577923200.0},\n",
              " 'GOLDRESOURCECORP_12_11_2008-EX-10.1-STRATEGIC ALLIANCE AGREEMENT': {'Agreement Date': 1228435200.0},\n",
              " 'GRANTIERRAENERGYINC_05_07_2012-EX-10.6-TRANSPORTATION CONTRACT': {'Agreement Date': 1327881600.0},\n",
              " 'GSITECHNOLOGYINC_11_16_2009-EX-10.2-INTELLECTUAL PROPERTY AGREEMENT between SONY ELECTRONICS INC. and GSI TECHNOLOGY, INC.': {'Agreement Date': 1251417600.0},\n",
              " 'GSVINC_05_15_1998-EX-10-SPONSORSHIP AGREEMENT': {'Agreement Date': 891302400.0},\n",
              " 'GWG HOLDINGS, INC. - ORDERLY MARKETING AGREEMENT': {'Agreement Date': 1545868800.0},\n",
              " 'GarrettMotionInc_20181001_8-K_EX-2.4_11364532_EX-2.4_Intellectual Property Agreement': {'Agreement Date': 1538006400.0},\n",
              " 'GluMobileInc_20070319_S-1A_EX-10.09_436630_EX-10.09_Content License Agreement1': {'Agreement Date': 1103155200.0},\n",
              " 'GluMobileInc_20070319_S-1A_EX-10.09_436630_EX-10.09_Content License Agreement2': {'Agreement Date': 1131667200.0},\n",
              " 'GluMobileInc_20070319_S-1A_EX-10.09_436630_EX-10.09_Content License Agreement3': {'Agreement Date': 1143417600.0},\n",
              " 'GluMobileInc_20070319_S-1A_EX-10.09_436630_EX-10.09_Content License Agreement4': {'Agreement Date': 1171843200.0},\n",
              " 'GopageCorp_20140221_10-K_EX-10.1_8432966_EX-10.1_Content License Agreement': {'Agreement Date': 1413763200.0},\n",
              " 'GpaqAcquisitionHoldingsInc_20200123_S-4A_EX-10.8_11951679_EX-10.8_Service Agreement': {'Agreement Date': 1545177600.0},\n",
              " 'GridironBionutrientsInc_20171206_8-K_EX-10.1_10972555_EX-10.1_Endorsement Agreement': {'Agreement Date': 1509321600.0},\n",
              " 'GridironBionutrientsInc_20171206_8-K_EX-10.2_10972556_EX-10.2_Endorsement Agreement': {'Agreement Date': 1510012800.0},\n",
              " 'HALITRON,INC_03_01_2005-EX-10.15-SPONSORSHIP AND DEVELOPMENT AGREEMENT': {'Agreement Date': 1091750400.0},\n",
              " 'HC2HOLDINGS,INC_05_14_2020-EX-10.1-COOPERATION AGREEMENT': {'Agreement Date': 1589328000.0},\n",
              " 'HEALTHGATEDATACORP_11_24_1999-EX-10.1-HOSTING AND MANAGEMENT AGREEMENT (1)': {'Agreement Date': 890352000.0},\n",
              " 'HERTZGLOBALHOLDINGS,INC_07_07_2016-EX-10.4-INTELLECTUAL PROPERTY AGREEMENT': {'Agreement Date': 1467244800.0},\n",
              " 'HOLIDAYRVSUPERSTORESINC_04_15_2002-EX-10.13-ENDORSEMENT AGREEMENT': {'Agreement Date': 1016582400.0},\n",
              " 'HPILHOLDING_01_07_2015-EX-99.1-COOPERATION AGREEMENT': {'Agreement Date': 1420416000.0},\n",
              " 'HUBEIMINKANGPHARMACEUTICALLTD_09_19_2006-EX-10.1-OUTSOURCING AGREEMENT': {'Agreement Date': 1149120000.0},\n",
              " 'HYDRONTECHNOLOGIESINC_03_31_1997-EX-10.47-SPONSORSHIP AGREEMENT': {'Agreement Date': 852076800.0},\n",
              " 'HYPERIONSOFTWARECORP_09_28_1994-EX-10.47-EXCLUSIVE DISTRIBUTOR AGREEMENT': {'Agreement Date': 766368000.0},\n",
              " 'HealthcareIntegratedTechnologiesInc_20190812_8-K_EX-10.1_11776966_EX-10.1_Reseller Agreement': {'Agreement Date': 1564531200.0},\n",
              " 'HealthcentralCom_19991108_S-1A_EX-10.27_6623292_EX-10.27_Co-Branding Agreement': {'Agreement Date': 930700800.0},\n",
              " 'HerImports_20161018_8-KA_EX-10.14_9765707_EX-10.14_Maintenance Agreement': {'Agreement Date': 1476316800.0},\n",
              " 'HertzGroupRealtyTrustInc_20190920_S-11A_EX-10.8_11816941_EX-10.8_Trademark License Agreement': {'Agreement Date': 1568937600.0},\n",
              " 'HfEnterprisesInc_20191223_S-1_EX-10.22_11931299_EX-10.22_Development Agreement': {'Agreement Date': 1532044800.0},\n",
              " 'ICORECONNECTINC_10_13_2010-EX-7.1-Strategic Alliance Agreement': {'Agreement Date': 1279152000.0},\n",
              " 'IGENEBIOTECHNOLOGYINC_05_13_2003-EX-1-JOINT VENTURE AGREEMENT': {'Agreement Date': 1047945600.0},\n",
              " 'IMAGEWARESYSTEMSINC_12_20_1999-EX-10.22-MAINTENANCE AGREEMENT': {'Agreement Date': 759974400.0},\n",
              " 'IMMUNOMEDICSINC_08_07_2019-EX-10.1-PROMOTION AGREEMENT': {'Agreement Date': 1554422400.0},\n",
              " 'IMPCOTECHNOLOGIESINC_04_15_2003-EX-10.65-JOINT VENTURE AGREEMENT': {'Agreement Date': 1626566400.0},\n",
              " 'INGEVITYCORP_05_16_2016-EX-10.5-INTELLECTUAL PROPERTY AGREEMENT': {'Agreement Date': 1463184000.0},\n",
              " 'INNOVIVA,INC_08_07_2014-EX-10.1-COLLABORATION AGREEMENT': {'Agreement Date': 1037232000.0},\n",
              " 'INTELLIGENTHIGHWAYSOLUTIONS,INC_01_18_2018-EX-10.1-Strategic Alliance Agreement': {'Agreement Date': 1515542400.0},\n",
              " 'INTERSECTENT,INC_05_11_2020-EX-10.1-SUPPLY AGREEMENT': {'Agreement Date': 1579478400.0},\n",
              " 'INTRICONCORP_03_10_2009-EX-10.22-Strategic Alliance Agreement': {'Agreement Date': 1222819200.0},\n",
              " 'IPAYMENT,INC_05_14_2007-EX-10.1-SPONSORSHIP AGREEMENT': {'Agreement Date': 1170028800.0},\n",
              " 'IVILLAGEINC_03_17_1999-EX-10.16-SPONSORSHIP AGREEMENT': {'Agreement Date': 913939200.0},\n",
              " 'IbioInc_20200313_8-K_EX-10.1_12052678_EX-10.1_Development Agreement': {'Agreement Date': 1533686400.0},\n",
              " 'IdeanomicsInc_20151124_8-K_EX-10.2_9354744_EX-10.2_Content License Agreement': {'Agreement Date': 1437350400.0},\n",
              " 'IdeanomicsInc_20160330_10-K_EX-10.26_9512211_EX-10.26_Content License Agreement': {'Agreement Date': 1450656000.0},\n",
              " 'ImineCorp_20180725_S-1_EX-10.5_11275970_EX-10.5_Distributor Agreement': {'Agreement Date': 1531958400.0},\n",
              " 'ImperialGardenResortInc_20161028_DRS (on F-1)_EX-10.13_9963189_EX-10.13_Outsourcing Agreement': {'Agreement Date': 1446076800.0},\n",
              " 'ImpresseCorp_20000322_S-1A_EX-10.11_5199234_EX-10.11_Co-Branding Agreement': {'Agreement Date': 952041600.0},\n",
              " 'IntegrityFunds_20200121_485BPOS_EX-99.E UNDR CONTR_11948727_EX-99.E UNDR CONTR_Service Agreement': {'Agreement Date': 1579305600.0},\n",
              " 'IntegrityMediaInc_20010329_10-K405_EX-10.17_2373875_EX-10.17_Co-Branding Agreement': {'Agreement Date': 947462400.0},\n",
              " 'InvendaCorp_20000828_S-1A_EX-10.2_2588206_EX-10.2_Co-Branding Agreement': {'Agreement Date': 950659200.0},\n",
              " 'JINGWEIINTERNATIONALLTD_10_04_2007-EX-10.7-INTELLECTUAL PROPERTY AGREEMENT': {'Agreement Date': 1170892800.0},\n",
              " 'JOINTCORP_09_19_2014-EX-10.15-FRANCHISE AGREEMENT': {'Agreement Date': 1626739200.0},\n",
              " 'KALLOINC_11_03_2011-EX-10.1-STRATEGIC ALLIANCE AGREEMENT': {'Agreement Date': 1627084800.0},\n",
              " 'KENTUCKYUTILITIESCO_03_25_2003-EX-10.65-TRANSPORTATION AGREEMENT': {'Agreement Date': 1036108800.0},\n",
              " 'KINGPHARMACEUTICALSINC_08_09_2006-EX-10.1-PROMOTION AGREEMENT': {'Agreement Date': 1151366400.0},\n",
              " 'KIROMICBIOPHARMA,INC_05_11_2020-EX-10.23-CONSULTING AGREEMENT': {'Agreement Date': 1626739200.0},\n",
              " 'KNOWLABS,INC_08_15_2005-EX-10-INTELLECTUAL PROPERTY AGREEMENT': {'Agreement Date': 1087344000.0},\n",
              " 'KUBIENT,INC_07_02_2020-EX-10.14-MASTER SERVICES AGREEMENT_Part1': {'Agreement Date': 1580860800.0},\n",
              " 'KUBIENT,INC_07_02_2020-EX-10.14-MASTER SERVICES AGREEMENT_Part2': {'Agreement Date': 1585180800.0},\n",
              " 'LECLANCHÉ S.A. - JOINT DEVELOPMENT AND MARKETING AGREEMENT': {'Agreement Date': 1396742400.0},\n",
              " 'LEGACYTECHNOLOGYHOLDINGS,INC_12_09_2005-EX-10.2-DISTRIBUTOR AGREEMENT': {'Agreement Date': 1124496000.0},\n",
              " 'LEJUHOLDINGSLTD_03_12_2014-EX-10.34-INTERNET CHANNEL COOPERATION AGREEMENT': {'Agreement Date': 1272499200.0},\n",
              " 'LIGHTBRIDGECORP_11_23_2015-EX-10.26-STRATEGIC ALLIANCE AGREEMENT': {'Agreement Date': 1345075200.0},\n",
              " 'LIMEENERGYCO_09_09_1999-EX-10-DISTRIBUTOR AGREEMENT': {'Agreement Date': 936662400.0},\n",
              " 'LOGANSROADHOUSEINC_03_27_1998-EX-10.17-SPONSORSHIP AGREEMENT': {'Agreement Date': 888278400.0},\n",
              " 'LOOKSMARTLTD_07_20_2012-EX-99.(D)(I)-SPONSORSHIP AGREEMENT': {'Agreement Date': 1342396800.0},\n",
              " 'LeadersonlineInc_20000427_S-1A_EX-10.8_4991089_EX-10.8_Co-Branding Agreement': {'Agreement Date': 953078400.0},\n",
              " 'LegacyEducationAllianceInc_20141110_8-K_EX-10.9_8828866_EX-10.9_Endorsement Agreement': {'Agreement Date': 1374278400.0},\n",
              " 'LejuHoldingsLtd_20140121_DRS (on F-1)_EX-10.26_8473102_EX-10.26_Content License Agreement2': {'Agreement Date': 1248048000.0},\n",
              " 'LifewayFoodsInc_20160316_10-K_EX-10.24_9489766_EX-10.24_Endorsement Agreement': {'Agreement Date': 1457913600.0},\n",
              " 'LinkPlusCorp_20050802_8-K_EX-10_3240252_EX-10_Affiliate Agreement': {'Agreement Date': 1121385600.0},\n",
              " 'LiquidmetalTechnologiesInc_20200205_8-K_EX-10.1_11968198_EX-10.1_Development Agreement': {'Agreement Date': 1595203200.0},\n",
              " 'Loop Industries, Inc. - Marketing Agreement': {'Agreement Date': 1537401600.0},\n",
              " 'MACROGENICSINC_08_02_2013-EX-10-COLLABORATION AGREEMENT': {'Agreement Date': 1276992000.0},\n",
              " 'MACY_S,INC_05_11_2020-EX-99.4-JOINT FILING AGREEMENT': {'Agreement Date': 1589155200.0},\n",
              " 'MANAKOASERVICESCORP_11_21_2007-EX-7.5-STRATEGIC ALLIANCE AGREEMENT': {'Agreement Date': 1150243200.0},\n",
              " 'MARSHALLHOLDINGSINTERNATIONAL,INC_04_14_2004-EX-10.15-ENDORSEMENT AGREEMENT': {'Agreement Date': 1067644800.0},\n",
              " 'MARTINMIDSTREAMPARTNERSLP_01_23_2004-EX-10.3-TRANSPORTATION SERVICES AGREEMENT': {'Agreement Date': 1072137600.0},\n",
              " 'MEDALISTDIVERSIFIEDREIT,INC_05_18_2020-EX-10.1-CONSULTING AGREEMENT': {'Agreement Date': 1583020800.0},\n",
              " 'MEDIWOUNDLTD_01_15_2014-EX-10.6-SUPPLY AGREEMENT': {'Agreement Date': 979171200.0},\n",
              " 'MEETGROUP,INC_06_29_2017-EX-10.1-COOPERATION AGREEMENT': {'Agreement Date': 1498521600.0},\n",
              " 'MERCATAINC_03_09_2000-EX-10.21-SPONSORSHIP AGREEMENT': {'Agreement Date': 931737600.0},\n",
              " 'MFAFINANCIAL,INC_07_06_2020-EX-99.D-JOINT FILING AGREEMENT': {'Agreement Date': 1593993600.0},\n",
              " 'MIDDLEBROOKPHARMACEUTICALS,INC_03_18_2010-EX-10.1-PROMOTION AGREEMENT': {'Agreement Date': 1265155200.0},\n",
              " 'MJBIOTECH,INC_12_06_2018-EX-99.01-JOINT VENTURE AGREEMENT': {'Agreement Date': 1543276800.0},\n",
              " 'MOELIS_CO_03_24_2014-EX-10.19-STRATEGIC ALLIANCE AGREEMENT': {'Agreement Date': 1324944000.0},\n",
              " 'MOSSIMOINC_04_14_2000-EX-10.14-ENDORSEMENT AGREEMENT': {'Agreement Date': 946684800.0},\n",
              " 'MPLXLP_06_17_2015-EX-10.1-TRANSPORTATION SERVICES AGREEMENT': {'Agreement Date': 1433980800.0},\n",
              " 'MRSFIELDSORIGINALCOOKIESINC_01_29_1998-EX-10-FRANCHISE AGREEMENT': {'Agreement Date': 1626652800.0},\n",
              " 'MSCIINC_02_28_2008-EX-10.10-': {'Agreement Date': 1637366400.0},\n",
              " 'Magenta Therapeutics, Inc. - Master Development and Manufacturing Agreement': {'Agreement Date': 1518480000.0},\n",
              " 'MetLife, Inc. - Remarketing Agreement': {'Agreement Date': 1409011200.0},\n",
              " 'Microgenics Corporation - Collaborative Development and Commercialization Agreement': {'Agreement Date': 1461628800.0},\n",
              " 'MidwestEnergyEmissionsCorp_20080604_8-K_EX-10.2_3093976_EX-10.2_Content License Agreement': {'Agreement Date': 1212364800.0},\n",
              " 'Monsanto Company - SECOND A_R EXCLUSIVE AGENCY AND MARKETING AGREEMENT ': {'Agreement Date': 1504137600.0},\n",
              " 'MorganStanleyDirectLendingFund_20191119_10-12GA_EX-10.5_11898508_EX-10.5_Trademark License Agreement': {'Agreement Date': 1563580800.0},\n",
              " 'MphaseTechnologiesInc_20030911_10-K_EX-10.15_1560667_EX-10.15_Co-Branding Agreement': {'Agreement Date': 1043107200.0},\n",
              " 'MusclepharmCorp_20170208_10-KA_EX-10.38_9893581_EX-10.38_Co-Branding Agreement': {'Agreement Date': 1374796800.0},\n",
              " 'N2KINC_10_16_1997-EX-10.16-SPONSORSHIP AGREEMENT': {'Agreement Date': 874972800.0},\n",
              " 'NANOPHASETECHNOLOGIESCORP_11_01_2005-EX-99.1-DISTRIBUTOR AGREEMENT': {'Agreement Date': 1130112000.0},\n",
              " 'NELNETINC_04_08_2020-EX-1-JOINT FILING AGREEMENT': {'Agreement Date': 1585267200.0},\n",
              " 'NEOMEDIATECHNOLOGIESINC_12_15_2005-EX-16.1-DISTRIBUTOR AGREEMENT': {'Agreement Date': 1638316800.0},\n",
              " 'NEONSYSTEMSINC_03_01_1999-EX-10.5-DISTRIBUTOR AGREEMENT_Amendment': {'Agreement Date': 915148800.0},\n",
              " 'NEONSYSTEMSINC_03_01_1999-EX-10.5-DISTRIBUTOR AGREEMENT_New': {'Agreement Date': 820454400.0},\n",
              " 'NETGEAR,INC_04_21_2003-EX-10.16- AMENDMENT #2 TO THE DISTRIBUTION AGREEMENT': {'Agreement Date': 900460800.0},\n",
              " 'NETGEAR,INC_04_21_2003-EX-10.16-DISTRIBUTOR AGREEMENT': {'Agreement Date': 847152000.0},\n",
              " 'NETGROCERINC_07_31_1998-EX-10.15-SPONSORSHIP AGREEMENT': {'Agreement Date': 882144000.0},\n",
              " 'NEXSTARFINANCEHOLDINGSINC_03_27_2002-EX-10.26-OUTSOURCING AGREEMENT': {'Agreement Date': 1006905600.0},\n",
              " 'NICELTD_06_26_2003-EX-4.5-OUTSOURCING AGREEMENT': {'Agreement Date': 1011571200.0},\n",
              " 'NOVOINTEGRATEDSCIENCES,INC_12_23_2019-EX-10.1-JOINT VENTURE AGREEMENT': {'Agreement Date': 1639872000.0},\n",
              " 'NYLIACVARIABLEANNUITYSEPARATEACCOUNTIII_04_10_2020-EX-99.8.KK-SERVICE AGREEMENT': {'Agreement Date': 883612800.0},\n",
              " 'NakedBrandGroupInc_20150731_POS AM (on S-1)_EX-10.75_9196027_EX-10.75_Endorsement Agreement': {'Agreement Date': 1434326400.0},\n",
              " 'NeuroboPharmaceuticalsInc_20190903_S-4_EX-10.36_11802165_EX-10.36_Manufacturing Agreement_ Supply Agreement': {'Agreement Date': 1538092800.0},\n",
              " 'NmfSlfIInc_20200115_10-12GA_EX-10.5_11946987_EX-10.5_Trademark License Agreement': {'Agreement Date': 1563580800.0},\n",
              " 'OAKTREECAPITALGROUP,LLC_03_02_2020-EX-10.8-Services Agreement': {'Agreement Date': 1537833600.0},\n",
              " 'OFGBANCORP_03_28_2007-EX-10.23-OUTSOURCING AGREEMENT': {'Agreement Date': 1169769600.0},\n",
              " 'OLDAPIWIND-DOWNLTD_01_08_2016-EX-1.3-AGENCY AGREEMENT1': {'Agreement Date': 1432166400.0},\n",
              " 'OLDAPIWIND-DOWNLTD_01_08_2016-EX-1.3-AGENCY AGREEMENT2': {'Agreement Date': 1437350400.0},\n",
              " 'OMINTO,INC_03_29_2004-EX-10-RESELLER AGREEMENT': {'Agreement Date': 1079654400.0},\n",
              " 'ON2TECHNOLOGIES,INC_11_17_2006-EX-10.3-SUPPORT AND MAINTENANCE AGREEMENT': {'Agreement Date': 1113955200.0},\n",
              " 'ON4COMMUNICATIONSINC_07_02_2009-EX-10.1-PROMOTION AGREEMENT': {'Agreement Date': 1246233600.0},\n",
              " 'OPERALTD_04_30_2020-EX-4.14-SERVICE AGREEMENT': {'Agreement Date': 1554076800.0},\n",
              " 'ORBSATCORP_08_17_2007-EX-7.3-STRATEGIC ALLIANCE AGREEMENT': {'Agreement Date': 1632096000.0},\n",
              " 'PACIFICSYSTEMSCONTROLTECHNOLOGYINC_08_24_2000-EX-10.53-SPONSORSHIP AGREEMENT': {'Agreement Date': 955670400.0},\n",
              " 'PACIRA PHARMACEUTICALS, INC. - A_R STRATEGIC LICENSING, DISTRIBUTION AND MARKETING AGREEMENT ': {'Agreement Date': 1255564800.0},\n",
              " 'PANDIONTHERAPEUTICSHOLDCOLLC_05_22_2020-EX-10.17-CONSULTING AGREEMENT': {'Agreement Date': 1490572800.0},\n",
              " 'PAXMEDICA,INC_07_02_2020-EX-10.12-Master Service Agreement': {'Agreement Date': 1527206400.0},\n",
              " 'PFSFUNDS_06_26_2020-EX-99.H OTH MAT CONT-SERVICES AGREEMENT': {'Agreement Date': 1592956800.0},\n",
              " 'PHREESIA,INC_05_28_2019-EX-10.18-STRATEGIC ALLIANCE AGREEMENT': {'Agreement Date': 1449705600.0},\n",
              " 'PLAYAHOTELS_RESORTSNV_03_14_2017-EX-10.22-STRATEGIC ALLIANCE AGREEMENT (Hyatt Ziva Cancun)': {'Agreement Date': 1481673600.0},\n",
              " 'PREMIERBIOMEDICALINC_05_14_2020-EX-10.2-INTELLECTUAL PROPERTY AGREEMENT': {'Agreement Date': 1589241600.0},\n",
              " 'PRIMEENERGYRESOURCESCORP_04_02_2007-EX-10.28-COMPLETION AND LIQUIDITY MAINTENANCE AGREEMENT': {'Agreement Date': 1151539200.0},\n",
              " 'PROFOUNDMEDICALCORP_08_29_2019-EX-4.5-SUPPLY AGREEMENT': {'Agreement Date': 1501459200.0},\n",
              " 'PROLONGINTERNATIONALCORP_03_23_1998-EX-10.16-SPONSORSHIP AGREEMENT': {'Agreement Date': 882489600.0},\n",
              " 'PacificapEntertainmentHoldingsInc_20051115_8-KA_EX-1.01_4300894_EX-1.01_Content License Agreement': {'Agreement Date': 1130976000.0},\n",
              " 'PalmerSquareCapitalBdcInc_20200116_10-12GA_EX-10.6_11949289_EX-10.6_Trademark License Agreement': {'Agreement Date': 1595203200.0},\n",
              " 'PapaJohnsInternationalInc_20190617_8-K_EX-10.1_11707365_EX-10.1_Endorsement Agreement': {'Agreement Date': 1552608000.0},\n",
              " 'ParatekPharmaceuticalsInc_20170505_10-KA_EX-10.29_10323872_EX-10.29_Outsourcing Agreement': {'Agreement Date': 1483056000.0},\n",
              " 'PcquoteComInc_19990721_S-1A_EX-10.11_6377149_EX-10.11_Co-Branding Agreement1': {'Agreement Date': 844992000.0},\n",
              " 'PcquoteComInc_19990721_S-1A_EX-10.11_6377149_EX-10.11_Co-Branding Agreement2': {'Agreement Date': 1639008000.0},\n",
              " 'PcquoteComInc_19990721_S-1A_EX-10.11_6377149_EX-10.11_Co-Branding Agreement3': {'Agreement Date': 888192000.0},\n",
              " 'PelicanDeliversInc_20200211_S-1_EX-10.3_11975895_EX-10.3_Development Agreement2': {'Agreement Date': 1543795200.0},\n",
              " 'PenntexMidstreamPartnersLp_20150416_S-1A_EX-10.4_9042833_EX-10.4_Transportation Agreement': {'Agreement Date': 1428969600.0},\n",
              " 'PfHospitalityGroupInc_20150923_10-12G_EX-10.1_9266710_EX-10.1_Franchise Agreement3': {'Agreement Date': 1626739200.0},\n",
              " 'PharmagenInc_20120803_8-KA_EX-10.1_7693204_EX-10.1_Endorsement Agreement': {'Agreement Date': 1613779200.0},\n",
              " 'PhasebioPharmaceuticalsInc_20200330_10-K_EX-10.21_12086810_EX-10.21_Development Agreement': {'Agreement Date': 1578528000.0},\n",
              " 'PhoenixNewMediaLtd_20110421_F-1_EX-10.17_6958322_EX-10.17_Content License Agreement': {'Agreement Date': 1259020800.0},\n",
              " 'PhotronicsInc_20171219_10-QA_EX-10.28_10982650_EX-10.28_Outsourcing Agreement': {'Agreement Date': 1626393600.0},\n",
              " 'PlayboyEnterprisesInc_20090220_10-QA_EX-10.2_4091580_EX-10.2_Content License Agreement_ Marketing Agreement_ Sales-Purchase Agreement1': {'Agreement Date': 1200355200.0},\n",
              " 'PrecheckHealthServicesInc_20200320_8-K_EX-99.2_12070169_EX-99.2_Distributor Agreement': {'Agreement Date': 1584576000.0},\n",
              " 'Principal Life Insurance Company - Broker Dealer Marketing and Servicing Agreement': {'Agreement Date': 1374278400.0},\n",
              " 'PrudentialBancorpInc_20170606_8-K_EX-10.4_10474434_EX-10.4_Endorsement Agreement': {'Agreement Date': 1496275200.0},\n",
              " 'QIWI_06_16_2017-EX-99.(D)(2)-COOPERATION AGREEMENT': {'Agreement Date': 1433203200.0},\n",
              " 'REGANHOLDINGCORP_03_31_2008-EX-10-LICENSE AND HOSTING AGREEMENT': {'Agreement Date': 1192579200.0},\n",
              " 'REWALKROBOTICSLTD_07_10_2014-EX-10.2-STRATEGIC ALLIANCE AGREEMENT': {'Agreement Date': 1379980800.0},\n",
              " 'RMRGROUPINC_01_22_2020-EX-99.1-JOINT FILING AGREEMENT': {'Agreement Date': 1579651200.0},\n",
              " 'RaeSystemsInc_20001114_10-Q_EX-10.57_2631790_EX-10.57_Co-Branding Agreement': {'Agreement Date': 932428800.0},\n",
              " 'RandWorldwideInc_20010402_8-KA_EX-10.2_2102464_EX-10.2_Co-Branding Agreement': {'Agreement Date': 974160000.0},\n",
              " 'RangeResourcesLouisianaInc_20150417_8-K_EX-10.5_9045501_EX-10.5_Transportation Agreement': {'Agreement Date': 1428969600.0},\n",
              " 'RareElementResourcesLtd_20171019_SC 13D_EX-99.4_10897534_EX-99.4_Intellectual Property Agreement': {'Agreement Date': 1633132800.0},\n",
              " 'ReedsInc_20191113_10-Q_EX-10.4_11888303_EX-10.4_Development Agreement': {'Agreement Date': 1570752000.0},\n",
              " 'Reinsurance Group of America, Incorporated - A_R REMARKETING  AGREEMENT': {'Agreement Date': 1297728000.0},\n",
              " 'RemarkHoldingsInc_20081114_10-Q_EX-10.24_2895649_EX-10.24_Content License Agreement': {'Agreement Date': 1221609600.0},\n",
              " 'RevolutionMedicinesInc_20200117_S-1_EX-10.1_11948417_EX-10.1_Development Agreement': {'Agreement Date': 1528416000.0},\n",
              " 'ReynoldsConsumerProductsInc_20200121_S-1A_EX-10.22_11948918_EX-10.22_Service Agreement': {'Agreement Date': 1595203200.0},\n",
              " 'RgcResourcesInc_20151216_8-K_EX-10.3_9372751_EX-10.3_Franchise Agreement': {'Agreement Date': 1447718400.0},\n",
              " 'RitterPharmaceuticalsInc_20200313_S-4A_EX-10.54_12055220_EX-10.54_Development Agreement': {'Agreement Date': 1619827200.0},\n",
              " 'SANDRIDGEENERGYINC_08_06_2009-EX-10.6-OPERATIONS AND MAINTENANCE AGREEMENT': {'Agreement Date': 1246320000.0},\n",
              " 'SEASPINEHOLDINGSCORP_10_10_2018-EX-10.1-SUPPLY AGREEMENT': {'Agreement Date': 1626307200.0},\n",
              " 'SENMIAOTECHNOLOGYLTD_02_19_2019-EX-10.5-Collaboration Agreement': {'Agreement Date': 1545004800.0},\n",
              " 'SEPARATEACCOUNTIIOFAGL_05_02_2011-EX-99.(J)(4)-UNCONDITIONAL CAPITAL MAINTENANCE AGREEMENT': {'Agreement Date': 1301443200.0},\n",
              " 'SFGFINANCIALCORP_05_12_2009-EX-10.1-SOFTWARE LICENSE AND MAINTENANCE AGREEMENT': {'Agreement Date': 1240790400.0},\n",
              " 'SIBANNAC,INC_12_04_2017-EX-2.1-Strategic Alliance Agreement': {'Agreement Date': 1512000000.0},\n",
              " 'SLINGERBAGINC_05_27_2020-EX-10.7-CONSULTING AGREEMENT': {'Agreement Date': 1619740800.0},\n",
              " 'SMITHELECTRICVEHICLESCORP_04_04_2012-EX-10.26-FLEET MAINTENANCE AGREEMENT': {'Agreement Date': 1129161600.0},\n",
              " 'SONUSCORP_03_12_1997-EX-10.11-SPONSORSHIP AGREEMENT': {'Agreement Date': 826675200.0},\n",
              " 'SPARKLINGSPRINGWATERHOLDINGSLTD_07_03_2002-EX-10.13-SOFTWARE LICENSE AND MAINTENANCE AGREEMENT': {'Agreement Date': 964051200.0},\n",
              " 'SPHERE3DCORP_06_24_2020-EX-10.12-CONSULTING AGREEMENT': {'Agreement Date': 1590969600.0},\n",
              " 'SPIENERGYCO,LTD_03_09_2011-EX-99.5-OPERATIONS AND MAINTENANCE AGREEMENT': {'Agreement Date': 1260489600.0},\n",
              " 'SPIENERGYCO,LTD_07_10_2014-EX-10-Cooperation Agreement of 50MWp Photovoltaic Grid-connected Power Generation Project in Yangqiao of~1': {'Agreement Date': 1403654400.0},\n",
              " 'SPOKHOLDINGS,INC_06_19_2020-EX-10.1-COOPERATION AGREEMENT': {'Agreement Date': 1592438400.0},\n",
              " 'SPORTHALEYINC_09_29_1997-EX-10.2-10-ENDORSEMENT AGREEMENT': {'Agreement Date': 1626652800.0},\n",
              " 'SPRINGBANKPHARMACEUTICALS,INC_04_08_2020-EX-99.A-JOINT FILING AGREEMENT': {'Agreement Date': 1586217600.0},\n",
              " 'STAMPSCOMINC_06_24_1999-EX-10.18-SPONSORSHIP AGREEMENT': {'Agreement Date': 1626220800.0},\n",
              " 'STARTECGLOBALCOMMUNICATIONSCORP_11_16_1998-EX-10.30-CONSTRUCTION AND MAINTENANCE AGREEMENT': {'Agreement Date': 904694400.0},\n",
              " 'STWRESOURCESHOLDINGCORP_08_06_2014-EX-10.1-COOPERATION AGREEMENT': {'Agreement Date': 1405814400.0},\n",
              " 'SUCAMPOPHARMACEUTICALS,INC_11_04_2015-EX-10.2-STRATEGIC ALLIANCE AGREEMENT': {'Agreement Date': 1440547200.0},\n",
              " 'SUMMAFOURINC_06_19_1998-EX-10.3-SOFTWARE LICENSE AND MAINTENANCE AGREEMENT': {'Agreement Date': 870652800.0},\n",
              " 'SUNTRONCORP_05_17_2006-EX-10.22-MAINTENANCE AGREEMENT': {'Agreement Date': 1143504000.0},\n",
              " 'ScansourceInc_20190509_10-Q_EX-10.2_11661422_EX-10.2_Distributor Agreement': {'Agreement Date': 1549238400.0},\n",
              " 'ScansourceInc_20190822_10-K_EX-10.38_11793958_EX-10.38_Distributor Agreement1': {'Agreement Date': 1169424000.0},\n",
              " 'SigaTechnologiesInc_20190603_8-K_EX-10.1_11695818_EX-10.1_Promotion Agreement': {'Agreement Date': 1559260800.0},\n",
              " 'SimplicityEsportsGamingCompany_20181130_8-K_EX-10.1_11444071_EX-10.1_Franchise Agreement': {'Agreement Date': 1542672000.0},\n",
              " 'SmartRxSystemsInc_20180914_1-A_EX1A-6 MAT CTRCT_11351705_EX1A-6 MAT CTRCT_Distributor Agreement': {'Agreement Date': 1626480000.0},\n",
              " 'Sonos, Inc. - Manufacturing Agreement ': {'Agreement Date': 1409788800.0},\n",
              " 'SoupmanInc_20150814_8-K_EX-10.1_9230148_EX-10.1_Franchise Agreement1': {'Agreement Date': 1437350400.0},\n",
              " 'SoupmanInc_20150814_8-K_EX-10.1_9230148_EX-10.1_Franchise Agreement4': {'Agreement Date': 1437350400.0},\n",
              " 'StampscomInc_20001114_10-Q_EX-10.47_2631630_EX-10.47_Co-Branding Agreement': {'Agreement Date': 925171200.0},\n",
              " 'SteelVaultCorp_20081224_10-K_EX-10.16_3074935_EX-10.16_Affiliate Agreement': {'Agreement Date': 1224460800.0},\n",
              " 'TALLGRASSENERGY,LP_02_20_2020-EX-99.26-JOINT FILING AGREEMENT': {'Agreement Date': 1582070400.0},\n",
              " 'TEARDROPGOLFCO_10_23_1996-EX-10.12-ENDORSEMENT AGREEMENT': {'Agreement Date': 820454400.0},\n",
              " 'TELEGLOBEINTERNATIONALHOLDINGSLTD_03_29_2004-EX-10.10-CONSTRUCTION AND MAINTENANCE AGREEMENT': {'Agreement Date': 956016000.0},\n",
              " 'TELKOMSALTD_01_30_2003-EX-10-LICENCE AND MAINTENANCE AGREEMENT': {'Agreement Date': 985996800.0},\n",
              " 'THERAVANCEBIOPHARMA,INC_05_08_2020-EX-10.2-SERVICE AGREEMENT': {'Agreement Date': 1585699200.0},\n",
              " 'TICKETSCOMINC_06_22_1999-EX-10.22-SPONSORSHIP AGREEMENT': {'Agreement Date': 919209600.0},\n",
              " 'TRANSMONTAIGNEPARTNERSLLC_03_13_2020-EX-10.9-SERVICES AGREEMENT': {'Agreement Date': 1566259200.0},\n",
              " 'TRANSPHORM,INC_02_14_2020-EX-10.12(1)-JOINT VENTURE AGREEMENT': {'Agreement Date': 1626998400.0},\n",
              " 'TRICITYBANKSHARESCORP_05_15_1998-EX-10-OUTSOURCING AGREEMENT': {'Agreement Date': 887587200.0},\n",
              " 'TRUENORTHENERGYCORP_02_08_2007-EX-10.1-DEVELOPMENT AGREEMENT': {'Agreement Date': 1167609600.0},\n",
              " 'TUNIUCORP_03_06_2014-EX-10-COOPERATION AGREEMENT': {'Agreement Date': 1390521600.0},\n",
              " 'TURNKEYCAPITAL,INC_07_20_2017-EX-1.1-Strategic Alliance Agreement': {'Agreement Date': 1498780800.0},\n",
              " 'TcPipelinesLp_20160226_10-K_EX-99.12_9454048_EX-99.12_Transportation Agreement': {'Agreement Date': 1450051200.0},\n",
              " 'TheglobeComInc_19990503_S-1A_EX-10.20_5416126_EX-10.20_Co-Branding Agreement': {'Agreement Date': 921888000.0},\n",
              " 'TodosMedicalLtd_20190328_20-F_EX-4.10_11587157_EX-4.10_Marketing Agreement_ Reseller Agreement': {'Agreement Date': 1545264000.0},\n",
              " 'TomOnlineInc_20060501_20-F_EX-4.46_749700_EX-4.46_Co-Branding Agreement': {'Agreement Date': 1124668800.0},\n",
              " 'TubeMediaCorp_20060310_8-K_EX-10.1_513921_EX-10.1_Affiliate Agreement': {'Agreement Date': 1141603200.0},\n",
              " 'UAGHINC_04_14_2004-EX-10.18-MAINTENANCE AGREEMENT': {'Agreement Date': 1058918400.0},\n",
              " 'ULTRAGENYXPHARMACEUTICALINC_12_23_2013-EX-10.9-SUPPLY AGREEMENT': {'Agreement Date': 1353283200.0},\n",
              " 'UNITEDNATIONALBANCORP_03_03_1999-EX-99-Outsourcing Agreement with the BISYS Group, Inc.': {'Agreement Date': 919296000.0},\n",
              " 'URSCORPNEW_03_17_2014-EX-99-COOPERATION AGREEMENT': {'Agreement Date': 1394668800.0},\n",
              " 'USASYNTHETICFUELCORP_10_21_2010-EX-10.10-STRATEGIC ALLIANCE AGREEMENT': {'Agreement Date': 1166659200.0},\n",
              " 'UnionDentalHoldingsInc_20050204_8-KA_EX-10_3345577_EX-10_Affiliate Agreement': {'Agreement Date': 1106870400.0},\n",
              " 'VALENCETECHNOLOGYINC_02_14_2003-EX-10-JOINT VENTURE CONTRACT': {'Agreement Date': 1036713600.0},\n",
              " 'VAPOTHERM, INC. - Manufacturing and Supply Agreement': {'Agreement Date': 1356998400.0},\n",
              " 'VARIABLESEPARATEACCOUNT_04_30_2014-EX-13.C-UNCONDITIONAL CAPITAL MAINTENANCE AGREEMENT': {'Agreement Date': 1392681600.0},\n",
              " 'VAXCYTE,INC_05_22_2020-EX-10.19-SUPPLY AGREEMENT': {'Agreement Date': 1527552000.0},\n",
              " 'VEONEER,INC_02_21_2020-EX-10.11-JOINT VENTURE AGREEMENT': {'Agreement Date': 1572393600.0},\n",
              " 'VERICELCORP_08_06_2019-EX-10.10-SUPPLY AGREEMENT': {'Agreement Date': 1557100800.0},\n",
              " 'VERSOTECHNOLOGIESINC_12_28_2007-EX-99.3-INTELLECTUAL PROPERTY AGREEMENT': {'Agreement Date': 1639958400.0},\n",
              " 'VERTEXENERGYINC_08_14_2014-EX-10.24-OPERATION AND MAINTENANCE AGREEMENT': {'Agreement Date': 1288742400.0},\n",
              " 'VERTICALNETINC_04_01_2002-EX-10.19-MAINTENANCE AND SUPPORT AGREEMENT': {'Agreement Date': 1002585600.0},\n",
              " 'VIOLINMEMORYINC_12_12_2012-EX-10.14-SPONSORSHIP AGREEMENT': {'Agreement Date': 1339545600.0},\n",
              " 'VIRGINGALACTICHOLDINGS,INC_04_08_2020-EX-99.1-JOINT FILING STATEMENT': {'Agreement Date': 1586304000.0},\n",
              " 'VIRTUALSCOPICS,INC_11_12_2010-EX-10.1-STRATEGIC ALLIANCE AGREEMENT': {'Agreement Date': 1287705600.0},\n",
              " 'VISIUMTECHNOLOGIES,INC_10_20_2004-EX-10.20-DISTRIBUTOR AGREEMENT': {'Agreement Date': 1049673600.0},\n",
              " 'VITAMINSHOPPECOMINC_09_13_1999-EX-10.26-SPONSORSHIP AGREEMENT': {'Agreement Date': 906508800.0},\n",
              " 'VIVINT SOLAR, INC. - NON-COMPETITION AGREEMENT': {'Agreement Date': 1502841600.0},\n",
              " 'VNUE,INC_07_10_2015-EX-10.1-SPONSORSHIP AGREEMENT': {'Agreement Date': 1435017600.0},\n",
              " 'VerizonAbsLlc_20200123_8-K_EX-10.4_11952335_EX-10.4_Service Agreement': {'Agreement Date': 1580256000.0},\n",
              " 'VertexEnergyInc_20200113_8-K_EX-10.1_11943624_EX-10.1_Marketing Agreement': {'Agreement Date': 1578614400.0},\n",
              " 'VgrabCommunicationsInc_20200129_10-K_EX-10.33_11958828_EX-10.33_Development Agreement': {'Agreement Date': 1551744000.0},\n",
              " 'VnueInc_20150914_8-K_EX-10.1_9259571_EX-10.1_Promotion Agreement': {'Agreement Date': 1441843200.0},\n",
              " 'WARNERCHILCOTTPLC_12_31_2003-EX-4.36-DEVELOPMENT AGREEMENT': {'Agreement Date': 1050796800.0},\n",
              " 'WARNINGMANAGEMENTSERVICESINC_12_10_1999-EX-10-ENDORSEMENT AGREEMENT': {'Agreement Date': 928108800.0},\n",
              " 'WASTE2ENERGYHOLDINGS,INC_06_03_2010-EX-10.2-STRATEGIC ALLIANCE AGREEMENT': {'Agreement Date': 1626652800.0},\n",
              " 'WELLSFARGOMORTGAGEBACKEDSECURITIES2006-6TRUST_05_11_2006-EX-10.3-Yield Maintenance Agreement': {'Agreement Date': 1146096000.0},\n",
              " 'WOMENSGOLFUNLIMITEDINC_03_29_2000-EX-10.13-ENDORSEMENT AGREEMENT': {'Agreement Date': 939772800.0},\n",
              " 'WaterNowInc_20191120_10-Q_EX-10.12_11900227_EX-10.12_Distributor Agreement': {'Agreement Date': 1573516800.0},\n",
              " 'WebmdHealthCorp_20050908_S-1A_EX-10.7_1027007_EX-10.7_Content License Agreement': {'Agreement Date': 1128124800.0},\n",
              " 'WestPharmaceuticalServicesInc_20200116_8-K_EX-10.1_11947529_EX-10.1_Supply Agreement': {'Agreement Date': 1578614400.0},\n",
              " 'XACCT Technologies, Inc.SUPPORT AND MAINTENANCE AGREEMENT': {'Agreement Date': 964051200.0},\n",
              " 'XENCORINC_10_25_2013-EX-10.24-COLLABORATION AGREEMENT (3)': {'Agreement Date': 1328832000.0},\n",
              " 'XLITECHNOLOGIES,INC_12_02_2015-EX-10.02-STRATEGIC ALLIANCE AGREEMENT': {'Agreement Date': 1448928000.0},\n",
              " 'XLITECHNOLOGIES,INC_12_11_2015-EX-10.1-Sponsorship Agreement': {'Agreement Date': 1448928000.0},\n",
              " 'XYBERNAUTCORP_07_12_2002-EX-4-SPONSORSHIP AGREEMENT': {'Agreement Date': 1020211200.0},\n",
              " 'XinhuaSportsEntertainmentLtd_20070221_F-1_EX-99.4_645553_EX-99.4_Content License Agreement': {'Agreement Date': 1008374400.0},\n",
              " 'XpresspaGroupInc_20190401_10-K_EX-10.28_11599457_EX-10.28_Marketing Agreement': {'Agreement Date': 1541980800.0},\n",
              " 'ZEBRATECHNOLOGIESCORP_04_16_2014-EX-10.1-INTELLECTUAL PROPERTY AGREEMENT': {'Agreement Date': 1618358400.0},\n",
              " 'ZogenixInc_20190509_10-Q_EX-10.2_11663313_EX-10.2_Distributor Agreement': {'Agreement Date': 1552867200.0},\n",
              " 'Zounds Hearing, Inc. - MANUFACTURING DESIGN MARKETING AGREEMENT': {'Agreement Date': 1538524800.0},\n",
              " 'ZtoExpressCaymanInc_20160930_F-1_EX-10.10_9752871_EX-10.10_Transportation Agreement': {'Agreement Date': 1419206400.0}}"
            ]
          },
          "metadata": {
            "tags": []
          },
          "execution_count": 110
        }
      ]
    },
    {
      "cell_type": "code",
      "metadata": {
        "id": "hbxcuMjquhuu",
        "outputId": "60347879-c603-4911-8a66-99a8e3c1c061",
        "colab": {
          "base_uri": "https://localhost:8080/"
        }
      },
      "source": [
        "len(list(bag_of_clauses.keys()))"
      ],
      "execution_count": 108,
      "outputs": [
        {
          "output_type": "execute_result",
          "data": {
            "text/plain": [
              "396"
            ]
          },
          "metadata": {
            "tags": []
          },
          "execution_count": 108
        }
      ]
    },
    {
      "cell_type": "code",
      "metadata": {
        "id": "EYhe4xt_zHwN",
        "outputId": "883c93b9-ada5-48f8-c4fd-f2d42d1fcb0e",
        "colab": {
          "base_uri": "https://localhost:8080/"
        }
      },
      "source": [
        ""
      ],
      "execution_count": 101,
      "outputs": [
        {
          "output_type": "execute_result",
          "data": {
            "text/plain": [
              "array([1992, 1994, 1995, 1996, 1997, 1998, 1999, 2000, 2001, 2002, 2003,\n",
              "       2004, 2005, 2006, 2007, 2008, 2009, 2010, 2011, 2012, 2013, 2014,\n",
              "       2015, 2016, 2017, 2018, 2019, 2020, 2021])"
            ]
          },
          "metadata": {
            "tags": []
          },
          "execution_count": 101
        }
      ]
    },
    {
      "cell_type": "code",
      "metadata": {
        "id": "G3vsAb2o16dy"
      },
      "source": [
        ""
      ],
      "execution_count": null,
      "outputs": []
    }
  ]
}