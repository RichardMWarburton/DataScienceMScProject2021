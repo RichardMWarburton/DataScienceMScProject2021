{
  "nbformat": 4,
  "nbformat_minor": 0,
  "metadata": {
    "kernelspec": {
      "display_name": "Python 3",
      "language": "python",
      "name": "python3"
    },
    "language_info": {
      "codemirror_mode": {
        "name": "ipython",
        "version": 3
      },
      "file_extension": ".py",
      "mimetype": "text/x-python",
      "name": "python",
      "nbconvert_exporter": "python",
      "pygments_lexer": "ipython3",
      "version": "3.7.4"
    },
    "colab": {
      "name": "Exploratory Data Analysis.ipynb",
      "provenance": [],
      "include_colab_link": true
    }
  },
  "cells": [
    {
      "cell_type": "markdown",
      "metadata": {
        "id": "view-in-github",
        "colab_type": "text"
      },
      "source": [
        "<a href=\"https://colab.research.google.com/github/RichardMWarburton/ExploringCUAD/blob/Dev/Individual%20Clause%20Investigation.ipynb\" target=\"_parent\"><img src=\"https://colab.research.google.com/assets/colab-badge.svg\" alt=\"Open In Colab\"/></a>"
      ]
    },
    {
      "cell_type": "markdown",
      "metadata": {
        "id": "SlHNM0ylUtXc"
      },
      "source": [
        "# Individual Clause Investigation"
      ]
    },
    {
      "cell_type": "markdown",
      "metadata": {
        "id": "bQ4UlOkTUtXj"
      },
      "source": [
        "## The Data\n",
        "\n",
        "CUAD: An Expert-Annotated NLP Dataset for Legal Contract Review\n",
        "\n",
        "https://arxiv.org/abs/2103.06268\n",
        "\n",
        "This code is an adaptation of the scrape.py file avaliable on the github repository for CUAD.  It has been adapted to run in Jypter notebooks and allow us to step throght the coding line by line.`"
      ]
    },
    {
      "cell_type": "markdown",
      "metadata": {
        "id": "maa-snhRqRjR"
      },
      "source": [
        "## 1: Import Packages & Define Useful Functions"
      ]
    },
    {
      "cell_type": "code",
      "metadata": {
        "id": "s41Gdd-7UtXh"
      },
      "source": [
        "from zipfile import ZipFile\n",
        "import json\n",
        "import os\n",
        "from collections import Counter, defaultdict\n",
        "import matplotlib.pyplot as plt\n",
        "import re\n",
        "from random import sample, choice\n",
        "import numpy as np\n",
        "import pandas as pd"
      ],
      "execution_count": 232,
      "outputs": []
    },
    {
      "cell_type": "code",
      "metadata": {
        "id": "nAHzdcCrUtXl"
      },
      "source": [
        "def extract_zip(pth,data_pth = None):\n",
        "    \"\"\"Function to extract contents of a zip file to a specified location (wd if data_pth not passed)\"\"\"\n",
        "    with ZipFile(pth, 'r') as zipObj:\n",
        "       # Extract all the contents of zip file in different directory\n",
        "       zipObj.extractall(data_pth)"
      ],
      "execution_count": 233,
      "outputs": []
    },
    {
      "cell_type": "markdown",
      "metadata": {
        "id": "k5RS1m1RUtXk"
      },
      "source": [
        "## 2: Download repository and extract data"
      ]
    },
    {
      "cell_type": "code",
      "metadata": {
        "id": "pWljb-PkUtXm"
      },
      "source": [
        "#Download CUAD git repository\n",
        "if not os.path.exists('main.zip'):\n",
        "  !wget --no-check-certificate https://github.com/TheAtticusProject/cuad/archive/refs/heads/main.zip\n",
        "  !unzip -q main.zip\n",
        "\n",
        "#If it has not already been extracted, extract the contents of data.zip\n",
        "if not os.path.exists('cuad-main/data'):\n",
        "  os.makedirs('cuad-main/data')\n",
        "\n",
        "if not os.path.exists('cuad-main/data/CUADv1.json'):\n",
        "  extract_zip('cuad-main/data.zip','cuad-main/data/')\n",
        "\n",
        "#Download a manualy curated set of labels for the full CUAD data. \n",
        "if not os.path.exists('labels3.txt'):\n",
        "  !wget https://raw.githubusercontent.com/RichardMWarburton/ExploringCUAD/main/labels3.txt"
      ],
      "execution_count": 234,
      "outputs": []
    },
    {
      "cell_type": "code",
      "metadata": {
        "id": "-j6zwYHHUtXp"
      },
      "source": [
        "#Load CUADv1 JSON to data\n",
        "with open('cuad-main/data/CUADv1.json','r') as infile:\n",
        "    for line in infile:\n",
        "        contract_data = json.loads(line)"
      ],
      "execution_count": 235,
      "outputs": []
    },
    {
      "cell_type": "markdown",
      "metadata": {
        "id": "G_1H8XPNxNTG"
      },
      "source": [
        "### 2.1: Read in Label Data & Generate Look Up Dictionary"
      ]
    },
    {
      "cell_type": "code",
      "metadata": {
        "id": "yHqEpKU5xNjB"
      },
      "source": [
        "#Initate storage for labels look up (LU)\n",
        "labels_LU = {}\n",
        "\n",
        "#Read in labels data\n",
        "with open('labels3.txt','r',encoding ='UTF-8') as infile:\n",
        "  for line in infile:\n",
        "    #Remove trailing special characters and split on tab\n",
        "    data = line.strip().split(sep='\\t')\n",
        "    #Add name and label to labels_LU dictionary\n",
        "    labels_LU[data[0]] = data[1]"
      ],
      "execution_count": 236,
      "outputs": []
    },
    {
      "cell_type": "markdown",
      "metadata": {
        "id": "LKjA7wac3yse"
      },
      "source": [
        "The look up returns one error, most likely due to the accented E and a disparity of encoding.  This will be forced to 'Marketing Agreement' manually for now (EITHER SORT OR PROVIDE EXAMPLE)"
      ]
    },
    {
      "cell_type": "markdown",
      "metadata": {
        "id": "igP7vzKnqac7"
      },
      "source": [
        "### 2.2: Extract Raw Contract Data"
      ]
    },
    {
      "cell_type": "code",
      "metadata": {
        "id": "MgadIkwcqemy"
      },
      "source": [
        "#ser reg ex expression for characters to remove from contract contest\n",
        "spec_chars = '\\\\n|\\\\t|\\\\t'\n",
        "\n",
        "#Set number of contracts in data\n",
        "num_contracts = len(contract_data['data'])\n",
        "\n",
        "#Initate dictionary to store raw contract data\n",
        "raw_contracts = defaultdict(list)\n",
        "\n",
        "#for each contract\n",
        "for i in range(num_contracts):\n",
        "  #Append the title, contract text and character length of text to the raw_contracts dictionary\n",
        "  raw_contracts['contract title'].append(contract_data['data'][i]['title'])\n",
        "  raw_contracts['label'].append(labels_LU[contract_data['data'][i]['title']] if contract_data['data'][i]['title'] in labels_LU else 'marketing agreement' ) #<- manual error trap applied here (see below)\n",
        "  \n",
        "  #Parse raw text and process to remove breaks\n",
        "  raw_text = contract_data['data'][i]['paragraphs'][0]['context']\n",
        "  clean_text = re.sub(spec_chars,'',raw_text)\n",
        "\n",
        "  #Split clean text in to sentances and tokens\n",
        "  sentance_text = clean_text.split(sep = '. ')\n",
        "  token_text = clean_text.split(sep = ' ')\n",
        "\n",
        "  #Append text to the respective key in the raw_contracts dictionary\n",
        "  raw_contracts['raw text'].append(raw_text)\n",
        "  raw_contracts['clean text'].append(clean_text)\n",
        "  raw_contracts['sentance text'].append(sentance_text)\n",
        "  raw_contracts['token text'].append(token_text)\n",
        "  \n",
        "  #Add character, sentance and token counts to raw_contracts dictionary\n",
        "  raw_contracts['character count'].append(len(raw_text))\n",
        "  raw_contracts['sentance count'].append(len(sentance_text))\n",
        "  raw_contracts['token count'].append(len(token_text))\n"
      ],
      "execution_count": 237,
      "outputs": []
    },
    {
      "cell_type": "code",
      "metadata": {
        "colab": {
          "base_uri": "https://localhost:8080/"
        },
        "id": "PSb9uTRWzk2O",
        "outputId": "47cd66d8-b9b4-4c35-f5ae-cf92504ebba2"
      },
      "source": [
        "#Sanity check value lists for each key ahve the correct length (510)\n",
        "for key in raw_contracts:\n",
        "  print(key,len(raw_contracts[key]))"
      ],
      "execution_count": 238,
      "outputs": [
        {
          "output_type": "stream",
          "text": [
            "contract title 510\n",
            "label 510\n",
            "raw text 510\n",
            "clean text 510\n",
            "sentance text 510\n",
            "token text 510\n",
            "character count 510\n",
            "sentance count 510\n",
            "token count 510\n"
          ],
          "name": "stdout"
        }
      ]
    },
    {
      "cell_type": "markdown",
      "metadata": {
        "id": "n876lWEZsh7o"
      },
      "source": [
        "### 2.3: Extract Clause Specific Data"
      ]
    },
    {
      "cell_type": "code",
      "metadata": {
        "id": "tg1TjBOurSrD"
      },
      "source": [
        "#Define the number of clauses\n",
        "num_clauses = 41\n",
        "\n",
        "#initate dictioanry to store caluse data\n",
        "clause_data = defaultdict(list)\n",
        "\n",
        "#For each contract\n",
        "for i in range(num_contracts):\n",
        "  #for each clause\n",
        "  for j in range(num_clauses):\n",
        "    #for each found clause annotation\n",
        "    for k in range(len(contract_data['data'][i]['paragraphs'][0]['qas'][j]['answers'])): \n",
        "      #Add the contract title\n",
        "      clause_data['contract title'].append(contract_data['data'][i]['title'])\n",
        "      clause_data['label'].append(labels_LU[contract_data['data'][i]['title']] if contract_data['data'][i]['title'] in labels_LU else 'marketing agreement' )  #<- manual error trap applied here\n",
        "      clause_data['clause'].append(contract_data['data'][i]['paragraphs'][0]['qas'][j]['id'].split(sep='__')[1])\n",
        "      clause_data['annotation'].append(contract_data['data'][i]['paragraphs'][0]['qas'][j]['answers'][k]['text'])\n",
        "      clause_data['annotation start'].append(contract_data['data'][i]['paragraphs'][0]['qas'][j]['answers'][k]['answer_start'])\n",
        "      clause_data['annotation length'].append(len(contract_data['data'][i]['paragraphs'][0]['qas'][j]['answers'][k]['text']))\n"
      ],
      "execution_count": 239,
      "outputs": []
    },
    {
      "cell_type": "code",
      "metadata": {
        "colab": {
          "base_uri": "https://localhost:8080/"
        },
        "id": "ysUYbTddsqqD",
        "outputId": "ae9df508-673d-4be2-cc3a-c0f22070b056"
      },
      "source": [
        "#Sanity check value lists for each key ahve the correct length (13823)\n",
        "for key in clause_data:\n",
        "  print(key,len(clause_data[key]))"
      ],
      "execution_count": 240,
      "outputs": [
        {
          "output_type": "stream",
          "text": [
            "contract title 13823\n",
            "label 13823\n",
            "clause 13823\n",
            "annotation 13823\n",
            "annotation start 13823\n",
            "annotation length 13823\n"
          ],
          "name": "stdout"
        }
      ]
    },
    {
      "cell_type": "code",
      "metadata": {
        "id": "-2qHd0moLY4t",
        "outputId": "7ec31853-7105-4c18-8bba-23228e064de8",
        "colab": {
          "base_uri": "https://localhost:8080/"
        }
      },
      "source": [
        "np.unique(clause_data['clause'])"
      ],
      "execution_count": 241,
      "outputs": [
        {
          "output_type": "execute_result",
          "data": {
            "text/plain": [
              "array(['Affiliate License-Licensee', 'Affiliate License-Licensor',\n",
              "       'Agreement Date', 'Anti-Assignment', 'Audit Rights',\n",
              "       'Cap On Liability', 'Change Of Control',\n",
              "       'Competitive Restriction Exception', 'Covenant Not To Sue',\n",
              "       'Document Name', 'Effective Date', 'Exclusivity',\n",
              "       'Expiration Date', 'Governing Law', 'Insurance',\n",
              "       'Ip Ownership Assignment', 'Irrevocable Or Perpetual License',\n",
              "       'Joint Ip Ownership', 'License Grant', 'Liquidated Damages',\n",
              "       'Minimum Commitment', 'Most Favored Nation',\n",
              "       'No-Solicit Of Customers', 'No-Solicit Of Employees',\n",
              "       'Non-Compete', 'Non-Disparagement', 'Non-Transferable License',\n",
              "       'Notice Period To Terminate Renewal', 'Parties',\n",
              "       'Post-Termination Services', 'Price Restrictions', 'Renewal Term',\n",
              "       'Revenue/Profit Sharing', 'Rofr/Rofo/Rofn', 'Source Code Escrow',\n",
              "       'Termination For Convenience', 'Third Party Beneficiary',\n",
              "       'Uncapped Liability', 'Unlimited/All-You-Can-Eat-License',\n",
              "       'Volume Restriction', 'Warranty Duration'], dtype='<U34')"
            ]
          },
          "metadata": {
            "tags": []
          },
          "execution_count": 241
        }
      ]
    },
    {
      "cell_type": "markdown",
      "metadata": {
        "id": "1ojxytoG46D9"
      },
      "source": [
        "## 3: Cleaning data for a single clause"
      ]
    },
    {
      "cell_type": "code",
      "metadata": {
        "id": "fXET1UnSbTpM",
        "outputId": "9f0e8c5d-81b4-4170-b307-cda91cc01a6b",
        "colab": {
          "base_uri": "https://localhost:8080/"
        }
      },
      "source": [
        "#Define clause of interest\n",
        "clause_of_interest = 'Governing Law'\n",
        "\n",
        "#Initate dataframe of all clause data\n",
        "clause_df = pd.DataFrame(clause_data)\n",
        "\n",
        "clause_df['annotation'] = clause_df['annotation'].apply(lambda x: x.replace('  ',' '))\n",
        "clause_df['annotation'] = clause_df['annotation'].apply(lambda x: x.strip())\n",
        "\n",
        "#Limit df to clause of interest and extract annotations of itnerest\n",
        "of_interest_data = clause_df[clause_df['clause'] == clause_of_interest]\n",
        "annotations_of_interest = of_interest_data['annotation'].values\n",
        "\n",
        "#Identify where there are multiple annotations per contract\n",
        "titles,counts = np.unique(of_interest_data['contract title'],return_counts =True)\n",
        "dups = titles[counts >= 2]\n",
        "\n",
        "#Output Analysis\n",
        "print('There are {} contracts with \\'{}\\' annotations'.format(*(titles.shape[0],clause_of_interest)))\n",
        "print('There are {} contracts with more than one annotation'.format(dups.shape[0]))"
      ],
      "execution_count": 433,
      "outputs": [
        {
          "output_type": "stream",
          "text": [
            "There are 437 contracts with 'Governing Law' annotations\n",
            "There are 25 contracts with more than one annotation\n"
          ],
          "name": "stdout"
        }
      ]
    },
    {
      "cell_type": "markdown",
      "metadata": {
        "id": "6CRZkfULhlnS"
      },
      "source": [
        "From the above we can see that: \n",
        "\n",
        "1.   Contracts may have multiple annotations for the same clause\n",
        "2.   Not all contracts have an annotation of interest\n",
        "\n",
        "Provisionally, we will look to concatinate all such annotations for a contract in to one string.  This will then represent all the salient points for the contract and clause in question."
      ]
    },
    {
      "cell_type": "code",
      "metadata": {
        "id": "RwhtFSughlvA",
        "outputId": "cada0b4e-bccb-4f58-cb7f-d7d857a74dd3",
        "colab": {
          "base_uri": "https://localhost:8080/"
        }
      },
      "source": [
        "#output duplicate annotations anc contract titles\n",
        "dup_df = of_interest_data[of_interest_data['contract title'].isin(dups)][['contract title','annotation']]\n",
        "\n",
        "#print sample of duplicate annotations\n",
        "for i in dup_df.index[:8]:\n",
        "  print(dup_df.loc[i,'contract title'])\n",
        "  print(dup_df.loc[i,'annotation'])\n",
        "  print('\\n')"
      ],
      "execution_count": 438,
      "outputs": [
        {
          "output_type": "stream",
          "text": [
            "ChinaRealEstateInformationCorp_20090929_F-1_EX-10.32_4771615_EX-10.32_Content License Agreement\n",
            "This Termination Agreement shall be governed by the laws of the PRC, without regard to conflicts of law principles.\n",
            "\n",
            "\n",
            "ChinaRealEstateInformationCorp_20090929_F-1_EX-10.32_4771615_EX-10.32_Content License Agreement\n",
            "This Agreement and any dispute or claim arising out of or in connection with it or its subject matter shall be governed by, and construed in accordance with, the laws of the People's Republic of China (without regard to its conflicts of laws rules that would mandate the application of the laws of another jurisdiction).\n",
            "\n",
            "\n",
            "LOYALTYPOINTINC_11_16_2004-EX-10.2-RESELLER AGREEMENT\n",
            "This Agreement shall be subject to and governed by the laws of the     State of Missouri, USA.\n",
            "\n",
            "\n",
            "LOYALTYPOINTINC_11_16_2004-EX-10.2-RESELLER AGREEMENT\n",
            "This Agreement shall be deemed to have been made and executed          in the State of Missouri and any dispute arising thereunder          shall be resolved in accordance with the laws of the State of          Missouri, without reference to its rules governing conflicts          of law.\n",
            "\n",
            "\n",
            "ENERGOUSCORP_03_16_2017-EX-10.24-STRATEGIC ALLIANCE AGREEMENT\n",
            "This Letter of Authorization will be governed by and construed in accordance with the laws of California, excluding its conflict of laws provisions, and be subject to the non-exclusive jurisdiction of the California courts.\n",
            "\n",
            "\n",
            "ENERGOUSCORP_03_16_2017-EX-10.24-STRATEGIC ALLIANCE AGREEMENT\n",
            "This Agreement will be governed by and construed in accordance with the laws of the State of California, exclusive of conflict of laws principles.\n",
            "\n",
            "\n",
            "NANOPHASETECHNOLOGIESCORP_11_01_2005-EX-99.1-DISTRIBUTOR AGREEMENT\n",
            "This Agreement shall be governed by and interpreted under and in accordance with the laws of the State of Delaware without regard to principles of conflicts of laws.\n",
            "\n",
            "\n",
            "NANOPHASETECHNOLOGIESCORP_11_01_2005-EX-99.1-DISTRIBUTOR AGREEMENT\n",
            "This agreement shall be governed by and subject to the internal laws (exclusive of the conflicts of law provisions) and decisions of the courts of the State of Illinois\n",
            "\n",
            "\n"
          ],
          "name": "stdout"
        }
      ]
    },
    {
      "cell_type": "code",
      "metadata": {
        "id": "aiO83dK-iZvG"
      },
      "source": [
        "#Initate memory for annotations within contracts\n",
        "combined_annotations_list = defaultdict(list)\n",
        "combined_annotations_string = {}\n",
        "\n",
        "#For each annotation of interest found in the contract, \n",
        "#append annotation to a default dict list with contract as key\n",
        "for i in of_interest_data.index:\n",
        "  name = of_interest_data.loc[i,['contract title']].values[0]\n",
        "  annotation = of_interest_data.loc[i,['annotation']].values[0]\n",
        "  combined_annotations_list[name].append(annotation)\n",
        "\n",
        "#Produce a singel string of all annotations found in specific contracts\n",
        "for key in combined_annotations_list.keys():\n",
        "  combined_annotations_string[key] = ' '.join(combined_annotations_list[key])"
      ],
      "execution_count": 381,
      "outputs": []
    },
    {
      "cell_type": "code",
      "metadata": {
        "id": "oyJbopX_jFY5"
      },
      "source": [
        "#Build array of contract names and concatenated annotations\n",
        "contracts = np.array(list(combined_annotations_string.keys()))\n",
        "combined_annotations = np.array(list(combined_annotations_string.values()))\n",
        "\n",
        "#Could add first annotation as well"
      ],
      "execution_count": 443,
      "outputs": []
    },
    {
      "cell_type": "markdown",
      "metadata": {
        "id": "XvR035w5_2IM"
      },
      "source": [
        "## Section 4: Vectorizing Single Clause Data"
      ]
    },
    {
      "cell_type": "code",
      "metadata": {
        "id": "7uF1AAaHccWL"
      },
      "source": [
        "from sklearn.feature_extraction.text import TfidfVectorizer\n",
        "\n",
        "vectorizer = TfidfVectorizer(ngram_range = (1,10),stop_words ='english',max_features=175)\n",
        "X = vectorizer.fit_transform(combined_annotations).toarray()\n"
      ],
      "execution_count": 444,
      "outputs": []
    },
    {
      "cell_type": "code",
      "metadata": {
        "id": "8EWvvoXypXom"
      },
      "source": [
        "from sklearn.cluster import KMeans\n",
        "kmeans = KMeans(n_clusters=6, random_state=42).fit(X)\n",
        "labs = kmeans.labels_"
      ],
      "execution_count": 384,
      "outputs": []
    },
    {
      "cell_type": "code",
      "metadata": {
        "id": "WPsTBxgYc6Iz",
        "outputId": "7fa8b7ab-65c5-42f5-f0b6-07c98406e340",
        "colab": {
          "base_uri": "https://localhost:8080/",
          "height": 663
        }
      },
      "source": [
        "from sklearn.decomposition import PCA\n",
        "#Decompose clause counts in to 2D via PCA analysis\n",
        "pca = PCA(n_components=2)\n",
        "pca_data_2D = pca.fit_transform(X)\n",
        "\n",
        "#Extract first two principal components to plot\n",
        "x = pca_data_2D[:,0]\n",
        "y = pca_data_2D[:,1]\n",
        "\n",
        "#Plot first two principal components\n",
        "plt.figure(figsize = (20,10))\n",
        "plt.title('2D PCA Decompositon of Contractual Clause Counts\\n', size = 15)\n",
        "plt.scatter(x,y, c = labs)\n",
        "plt.grid()\n",
        "plt.show()\n",
        "\n",
        "print('Explained variance ratios: {}'.format(pca.explained_variance_ratio_))\n",
        "print('Total variance explained in 2 principal components: {}'.format(pca.explained_variance_ratio_.sum()))\n"
      ],
      "execution_count": 385,
      "outputs": [
        {
          "output_type": "display_data",
          "data": {
            "image/png": "[encoded data removed]",
            "text/plain": [
              "<Figure size 1440x720 with 1 Axes>"
            ]
          },
          "metadata": {
            "tags": [],
            "needs_background": "light"
          }
        },
        {
          "output_type": "stream",
          "text": [
            "Explained variance ratios: [0.05778136 0.03733918]\n",
            "Total variance explained in 2 principal components: 0.09512053816838391\n"
          ],
          "name": "stdout"
        }
      ]
    },
    {
      "cell_type": "code",
      "metadata": {
        "id": "e-hR-GCjc7BL"
      },
      "source": [
        "from sklearn.manifold import TSNE\n",
        "n_clust=6\n",
        "\n",
        "X_raw = np.array(list(combined_annotations_string.values()))\n",
        "\n",
        "X = vectorizer.fit_transform(X_raw).toarray()\n",
        "\n",
        "X_tsne = TSNE(n_components=2).fit_transform(X)\n",
        "\n",
        "kmeans = KMeans(n_clusters=n_clust, random_state=42).fit(X_tsne)\n",
        "labs_tsne = kmeans.labels_"
      ],
      "execution_count": 386,
      "outputs": []
    },
    {
      "cell_type": "code",
      "metadata": {
        "id": "_WLYgi8Zn_gR",
        "outputId": "7a6417ea-b632-4abd-acb0-aaedb88ea675",
        "colab": {
          "base_uri": "https://localhost:8080/",
          "height": 609
        }
      },
      "source": [
        "#Extract first two principal components to plot\n",
        "x_tsne = X_tsne[:,0]\n",
        "y_tsne = X_tsne[:,1]\n",
        "\n",
        "#Plot first two principal components\n",
        "plt.figure(figsize = (20,10))\n",
        "plt.title('2D TSNE Plot with {} Clusters'.format(n_clust), size = 15)\n",
        "\n",
        "for i in np.unique(labs_tsne):\n",
        "  idx = labs_tsne == i\n",
        "  plt.scatter(x_tsne[idx],y_tsne[idx],label ='Cluster {}'.format(str(i)))\n",
        "\n",
        "plt.legend()\n",
        "plt.grid()\n",
        "plt.show()"
      ],
      "execution_count": 387,
      "outputs": [
        {
          "output_type": "display_data",
          "data": {
            "image/png": "[encoded data removed]",
            "text/plain": [
              "<Figure size 1440x720 with 1 Axes>"
            ]
          },
          "metadata": {
            "tags": [],
            "needs_background": "light"
          }
        }
      ]
    },
    {
      "cell_type": "code",
      "metadata": {
        "id": "upArwzp9s5Id"
      },
      "source": [
        ""
      ],
      "execution_count": null,
      "outputs": []
    },
    {
      "cell_type": "code",
      "metadata": {
        "id": "9OPAYpMBs5Lg"
      },
      "source": [
        ""
      ],
      "execution_count": null,
      "outputs": []
    },
    {
      "cell_type": "code",
      "metadata": {
        "id": "NUu6v51As5N-"
      },
      "source": [
        ""
      ],
      "execution_count": null,
      "outputs": []
    },
    {
      "cell_type": "code",
      "metadata": {
        "id": "bs4TEGnQsbRU",
        "outputId": "558cffe9-a941-4231-d16e-8147ad89e75b",
        "colab": {
          "base_uri": "https://localhost:8080/"
        }
      },
      "source": [
        "#Import all the dependencies\n",
        "from gensim.models.doc2vec import Doc2Vec, TaggedDocument\n",
        "from nltk.tokenize import word_tokenize\n",
        "import nltk\n",
        "nltk.download('punkt')"
      ],
      "execution_count": 388,
      "outputs": [
        {
          "output_type": "stream",
          "text": [
            "[nltk_data] Downloading package punkt to /root/nltk_data...\n",
            "[nltk_data]   Package punkt is already up-to-date!\n"
          ],
          "name": "stdout"
        },
        {
          "output_type": "execute_result",
          "data": {
            "text/plain": [
              "True"
            ]
          },
          "metadata": {
            "tags": []
          },
          "execution_count": 388
        }
      ]
    },
    {
      "cell_type": "code",
      "metadata": {
        "id": "kO-xb1Twr7vG"
      },
      "source": [
        "X = list(combined_annotations_string.values())\n",
        "tagged_data = [TaggedDocument(words=word_tokenize(_d.lower()), tags=[str(i)]) for i, _d in enumerate(X)]\n",
        "\n"
      ],
      "execution_count": 389,
      "outputs": []
    },
    {
      "cell_type": "code",
      "metadata": {
        "id": "kergd8JqyNcC",
        "outputId": "fb5f9ce1-02b5-4fa4-9f3a-e14da919d44c",
        "colab": {
          "base_uri": "https://localhost:8080/"
        }
      },
      "source": [
        "word_tokenize(X[0].lower())"
      ],
      "execution_count": 393,
      "outputs": [
        {
          "output_type": "execute_result",
          "data": {
            "text/plain": [
              "['during',\n",
              " 'the',\n",
              " 'term',\n",
              " ',',\n",
              " 'and',\n",
              " 'for',\n",
              " 'a',\n",
              " 'period',\n",
              " 'of',\n",
              " '[',\n",
              " '*',\n",
              " ']',\n",
              " 'thereafter',\n",
              " ',',\n",
              " 'google',\n",
              " 'may',\n",
              " 'audit',\n",
              " 'distributor',\n",
              " \"'s\",\n",
              " 'relevant',\n",
              " 'records',\n",
              " 'to',\n",
              " 'confirm',\n",
              " 'distributor',\n",
              " \"'s\",\n",
              " 'compliance',\n",
              " 'with',\n",
              " 'this',\n",
              " 'agreement',\n",
              " '.']"
            ]
          },
          "metadata": {
            "tags": []
          },
          "execution_count": 393
        }
      ]
    },
    {
      "cell_type": "markdown",
      "metadata": {
        "id": "a6xOHHvs0Ma9"
      },
      "source": [
        "taggec_data"
      ]
    },
    {
      "cell_type": "code",
      "metadata": {
        "id": "iz31LQfuw940",
        "outputId": "2663fc19-7543-4b26-cb18-d3c39dc7c0cd",
        "colab": {
          "base_uri": "https://localhost:8080/"
        }
      },
      "source": [
        "max_epochs = 100\n",
        "vec_size = 100\n",
        "alpha = 0.025\n",
        "\n",
        "model = Doc2Vec(size=vec_size,\n",
        "                alpha=alpha, \n",
        "                min_alpha=0.00025,\n",
        "                min_count=1,\n",
        "                dm =1)\n",
        "  \n",
        "model.build_vocab(tagged_data)\n",
        "\n",
        "for epoch in range(max_epochs):\n",
        "    print('iteration {0}'.format(epoch))\n",
        "    model.train(tagged_data,\n",
        "                total_examples=model.corpus_count,\n",
        "                epochs=model.iter)\n",
        "    # decrease the learning rate\n",
        "    model.alpha -= 0.0002\n",
        "    # fix the learning rate, no decay\n",
        "    model.min_alpha = model.alpha\n",
        "\n",
        "model.save(\"d2v.model\")\n",
        "print(\"Model Saved\")"
      ],
      "execution_count": 390,
      "outputs": [
        {
          "output_type": "stream",
          "text": [
            "/usr/local/lib/python3.7/dist-packages/gensim/models/doc2vec.py:570: UserWarning: The parameter `size` is deprecated, will be removed in 4.0.0, use `vector_size` instead.\n",
            "  warnings.warn(\"The parameter `size` is deprecated, will be removed in 4.0.0, use `vector_size` instead.\")\n"
          ],
          "name": "stderr"
        },
        {
          "output_type": "stream",
          "text": [
            "iteration 0\n"
          ],
          "name": "stdout"
        },
        {
          "output_type": "stream",
          "text": [
            "/usr/local/lib/python3.7/dist-packages/ipykernel_launcher.py:17: DeprecationWarning: Call to deprecated `iter` (Attribute will be removed in 4.0.0, use self.epochs instead).\n"
          ],
          "name": "stderr"
        },
        {
          "output_type": "stream",
          "text": [
            "iteration 1\n",
            "iteration 2\n",
            "iteration 3\n",
            "iteration 4\n",
            "iteration 5\n",
            "iteration 6\n",
            "iteration 7\n",
            "iteration 8\n",
            "iteration 9\n",
            "iteration 10\n",
            "iteration 11\n",
            "iteration 12\n",
            "iteration 13\n",
            "iteration 14\n",
            "iteration 15\n",
            "iteration 16\n",
            "iteration 17\n",
            "iteration 18\n",
            "iteration 19\n",
            "iteration 20\n",
            "iteration 21\n",
            "iteration 22\n",
            "iteration 23\n",
            "iteration 24\n",
            "iteration 25\n",
            "iteration 26\n",
            "iteration 27\n",
            "iteration 28\n",
            "iteration 29\n",
            "iteration 30\n",
            "iteration 31\n",
            "iteration 32\n",
            "iteration 33\n",
            "iteration 34\n",
            "iteration 35\n",
            "iteration 36\n",
            "iteration 37\n",
            "iteration 38\n",
            "iteration 39\n",
            "iteration 40\n",
            "iteration 41\n",
            "iteration 42\n",
            "iteration 43\n",
            "iteration 44\n",
            "iteration 45\n",
            "iteration 46\n",
            "iteration 47\n",
            "iteration 48\n",
            "iteration 49\n",
            "iteration 50\n",
            "iteration 51\n",
            "iteration 52\n",
            "iteration 53\n",
            "iteration 54\n",
            "iteration 55\n",
            "iteration 56\n",
            "iteration 57\n",
            "iteration 58\n",
            "iteration 59\n",
            "iteration 60\n",
            "iteration 61\n",
            "iteration 62\n",
            "iteration 63\n",
            "iteration 64\n",
            "iteration 65\n",
            "iteration 66\n",
            "iteration 67\n",
            "iteration 68\n",
            "iteration 69\n",
            "iteration 70\n",
            "iteration 71\n",
            "iteration 72\n",
            "iteration 73\n",
            "iteration 74\n",
            "iteration 75\n",
            "iteration 76\n",
            "iteration 77\n",
            "iteration 78\n",
            "iteration 79\n",
            "iteration 80\n",
            "iteration 81\n",
            "iteration 82\n",
            "iteration 83\n",
            "iteration 84\n",
            "iteration 85\n",
            "iteration 86\n",
            "iteration 87\n",
            "iteration 88\n",
            "iteration 89\n",
            "iteration 90\n",
            "iteration 91\n",
            "iteration 92\n",
            "iteration 93\n",
            "iteration 94\n",
            "iteration 95\n",
            "iteration 96\n",
            "iteration 97\n",
            "iteration 98\n",
            "iteration 99\n",
            "Model Saved\n"
          ],
          "name": "stdout"
        }
      ]
    },
    {
      "cell_type": "code",
      "metadata": {
        "id": "_zPxYyYOxJnz"
      },
      "source": [
        "#Intate array of correct size\n",
        "Xt = np.zeros((len(X),vec_size))\n",
        "\n",
        "#Add values in to correct row\n",
        "for j in range(len(X)):\n",
        "  Xt[j,:] = model.docvecs[j]"
      ],
      "execution_count": 391,
      "outputs": []
    },
    {
      "cell_type": "code",
      "metadata": {
        "id": "-sjYXjoG0jpw",
        "outputId": "bd6692c4-4009-4103-aecb-911a6ac628b7",
        "colab": {
          "base_uri": "https://localhost:8080/",
          "height": 634
        }
      },
      "source": [
        "#Decompose clause counts in to 2D via PCA analysis\n",
        "#pca = PCA(n_components=2)\n",
        "#pca_data_2D = pca.fit_transform(Xt)\n",
        "\n",
        "#Extract first two principal components to plot\n",
        "#x_d2v = pca_data_2D[:,0]\n",
        "#y_d2v = pca_data_2D[:,1]\n",
        "\n",
        "\n",
        "X_d2v_tsne = TSNE(n_components=2).fit_transform(Xt)\n",
        "\n",
        "x = X_d2v_tsne[:,0]\n",
        "y = X_d2v_tsne[:,1]\n",
        "\n",
        "#Plot first two principal components\n",
        "plt.figure(figsize = (20,10))\n",
        "plt.title('2D PCA Decompositon of Contractual Clause Counts\\n', size = 20)\n",
        "plt.scatter(x,y)\n",
        "plt.grid()\n",
        "plt.show()"
      ],
      "execution_count": 392,
      "outputs": [
        {
          "output_type": "display_data",
          "data": {
            "image/png": "[encoded data removed]",
            "text/plain": [
              "<Figure size 1440x720 with 1 Axes>"
            ]
          },
          "metadata": {
            "tags": [],
            "needs_background": "light"
          }
        }
      ]
    },
    {
      "cell_type": "code",
      "metadata": {
        "id": "YDOxCuaNHvkp"
      },
      "source": [
        ""
      ],
      "execution_count": 253,
      "outputs": []
    },
    {
      "cell_type": "code",
      "metadata": {
        "id": "JTn4bR8wH6H3"
      },
      "source": [
        ""
      ],
      "execution_count": 253,
      "outputs": []
    }
  ]
}