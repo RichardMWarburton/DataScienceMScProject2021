{
 "cells": [
  {
   "cell_type": "markdown",
   "id": "b313d052",
   "metadata": {},
   "source": [
    "# Date Parsing & Extraction\n",
    "\n",
    "The purpose of this note book is to look at extracting dates from the three Date specific fields in CUAD."
   ]
  },
  {
   "cell_type": "code",
   "execution_count": 157,
   "id": "09aeb13f",
   "metadata": {},
   "outputs": [
    {
     "name": "stderr",
     "output_type": "stream",
     "text": [
      "[nltk_data] Downloading package stopwords to\n",
      "[nltk_data]     C:\\Users\\RichardWarburton\\AppData\\Roaming\\nltk_data...\n",
      "[nltk_data]   Package stopwords is already up-to-date!\n"
     ]
    }
   ],
   "source": [
    "#Import required packages\n",
    "from DownloadCUAD import DownloadCUAD\n",
    "import numpy as np\n",
    "import pandas as pd\n",
    "import matplotlib.pyplot as plt\n",
    "from collections import defaultdict, Counter\n",
    "import spacy\n",
    "from spacy import displacy\n",
    "import en_core_web_sm\n",
    "import re\n",
    "\n",
    "import nltk\n",
    "from nltk.corpus import stopwords\n",
    "nltk.download('stopwords')\n",
    "\n",
    "from num2words import num2words\n",
    "import dateparser"
   ]
  },
  {
   "cell_type": "code",
   "execution_count": 81,
   "id": "c05cfec6",
   "metadata": {},
   "outputs": [
    {
     "name": "stdout",
     "output_type": "stream",
     "text": [
      "CUAD data downloading...\n",
      "CUAD data downloaded & extracted!\n"
     ]
    }
   ],
   "source": [
    "#Download CUAD Data to local drive\n",
    "DC = DownloadCUAD()\n",
    "DC.setup()"
   ]
  },
  {
   "cell_type": "code",
   "execution_count": 372,
   "id": "054d255e",
   "metadata": {},
   "outputs": [],
   "source": [
    "#Concatenate string where there are multiple annotations.\n",
    "agr_contracts,agr_combined_annotations = DC.extract_clause('Agreement Date',False)\n",
    "exp_contracts,exp_combined_annotations = DC.extract_clause('Expiration Date',False)\n",
    "eff_contracts,eff_combined_annotations = DC.extract_clause('Effective Date',False)"
   ]
  },
  {
   "cell_type": "code",
   "execution_count": 4,
   "id": "9273e6d7",
   "metadata": {},
   "outputs": [],
   "source": [
    "#Define Caluse of Interest for investigation\n",
    "clause_of_interest = 'Agreement Date'"
   ]
  },
  {
   "cell_type": "markdown",
   "id": "539aca5e",
   "metadata": {},
   "source": [
    "## Section 2: Extract dates from 'Agreement Date' annotations"
   ]
  },
  {
   "cell_type": "code",
   "execution_count": 83,
   "id": "ad99fa31",
   "metadata": {},
   "outputs": [],
   "source": [
    "#Define stopwords list\n",
    "stop_words = stopwords.words('english')"
   ]
  },
  {
   "cell_type": "code",
   "execution_count": 84,
   "id": "b3e17610",
   "metadata": {},
   "outputs": [],
   "source": [
    "def ordinalize_num(txt):\n",
    "    for token in txt.split(sep=' '):\n",
    "        try:\n",
    "            if int(token) <= 31:\n",
    "                ord_val = num2words(token, lang=\"en\", to=\"ordinal_num\")\n",
    "                txt = txt.replace(token,ord_val)\n",
    "        except:\n",
    "            continue\n",
    "    return txt"
   ]
  },
  {
   "cell_type": "code",
   "execution_count": 325,
   "id": "c2ca79a5",
   "metadata": {},
   "outputs": [],
   "source": [
    "date_feature_list = []\n",
    "not_mapped = []\n",
    "\n",
    "parsed_annotation = []\n",
    "\n",
    "nlp = en_core_web_sm.load()\n",
    "\n",
    "for annotation in agr_combined_annotations:\n",
    "\n",
    "    annotation_list = []  \n",
    "    #Clean annotaiton (typos etc)\n",
    "    \n",
    "    annotation = annotation.replace('  ',' ')\n",
    "    annotation = annotation.replace('t h','th')\n",
    "    annotation = annotation.replace('s t','st')\n",
    "    annotation = re.sub('day|Day|DAY','',annotation)\n",
    "    annotation = annotation.replace(\"'\",\"\") \n",
    "        \n",
    "    annotation = ' '.join([word for word in annotation.split(sep=' ') if word not in stop_words])   \n",
    "    \n",
    "    annotation = ordinalize_num(annotation)\n",
    "    \n",
    "    doc = nlp(repr(annotation))\n",
    "   \n",
    "    #If no date parsed\n",
    "    if annotation_list == []:\n",
    "        annotation = re.sub('(\\d{2})([^\\S]{1})(\\d{2})',r'\\1\\3',annotation)\n",
    "        annotation = annotation.replace('  ',' ')\n",
    "        doc = nlp(repr(annotation))\n",
    "        for X in doc.ents:\n",
    "            if X.label_ in ['DATE']:\n",
    "                annotation_list.append(X.text)\n",
    "            else:\n",
    "                annotation_list.append(annotation)\n",
    "                not_mapped.append(annotation)\n",
    "    \n",
    "    date_feature_list.append(' '.join(annotation_list))"
   ]
  },
  {
   "cell_type": "code",
   "execution_count": 363,
   "id": "86f6e0ff",
   "metadata": {},
   "outputs": [],
   "source": [
    "import datetime\n",
    "i=0\n",
    "\n",
    "new_features = []\n",
    "\n",
    "for annotation in agr_combined_annotations:\n",
    "    new_annotation = re.sub('day|Day|DAY','',annotation)\n",
    "    new_annotation = re.sub('of|Of|OF','',new_annotation)\n",
    "    new_annotation = re.sub('[^\\S]{2,}',' ',new_annotation)\n",
    "    new_annotation = new_annotation.replace('t h','th')\n",
    "    new_annotation = new_annotation.replace('s t','st')\n",
    "    #new_annotation = ordinalize_num(new_annotation)\n",
    "    \n",
    "    parsed_val = dateparser.parse(new_annotation)\n",
    "    \n",
    "    #print('Orriginal:',annotation)\n",
    "    #print('Processed:',new_annotation)\n",
    "    #print('Parsed:',parsed_val)\n",
    "    #print('-----')\n",
    "    \n",
    "    if parsed_val != None:\n",
    "        i+=1\n",
    "        new_features.append(parsed_val)\n",
    "    else:\n",
    "        new_features.append(np.datetime64('NaT'))\n",
    "        "
   ]
  },
  {
   "cell_type": "code",
   "execution_count": 369,
   "id": "792cc612",
   "metadata": {},
   "outputs": [
    {
     "name": "stdout",
     "output_type": "stream",
     "text": [
      "Date times extracted from 422 out of 476 annotations (88.66%)\n"
     ]
    }
   ],
   "source": [
    "print('Date times extracted from {} out of {} annotations ({:.2%})'.format(*(i,len(new_features),i/len(new_features))))"
   ]
  },
  {
   "cell_type": "code",
   "execution_count": 373,
   "id": "f301ff96",
   "metadata": {},
   "outputs": [],
   "source": [
    "date_dict = defaultdict(list)\n",
    "\n",
    "for ii in range(len(agr_contracts)):\n",
    "    date_dict[agr_contracts[ii]].append(new_features[ii])"
   ]
  },
  {
   "cell_type": "code",
   "execution_count": 378,
   "id": "f21c0a3f",
   "metadata": {},
   "outputs": [
    {
     "ename": "AttributeError",
     "evalue": "'list' object has no attribute 'totimestamp'",
     "output_type": "error",
     "traceback": [
      "\u001b[1;31m---------------------------------------------------------------------------\u001b[0m",
      "\u001b[1;31mAttributeError\u001b[0m                            Traceback (most recent call last)",
      "\u001b[1;32m<ipython-input-378-01b7a43af63f>\u001b[0m in \u001b[0;36m<module>\u001b[1;34m\u001b[0m\n\u001b[0;32m      1\u001b[0m \u001b[0mct\u001b[0m \u001b[1;33m=\u001b[0m \u001b[0mlist\u001b[0m\u001b[1;33m(\u001b[0m\u001b[0mdate_dict\u001b[0m\u001b[1;33m.\u001b[0m\u001b[0mkeys\u001b[0m\u001b[1;33m(\u001b[0m\u001b[1;33m)\u001b[0m\u001b[1;33m)\u001b[0m\u001b[1;33m\u001b[0m\u001b[1;33m\u001b[0m\u001b[0m\n\u001b[1;32m----> 2\u001b[1;33m \u001b[0mdts\u001b[0m \u001b[1;33m=\u001b[0m \u001b[1;33m[\u001b[0m\u001b[0mmax\u001b[0m\u001b[1;33m(\u001b[0m\u001b[0mdt\u001b[0m\u001b[1;33m.\u001b[0m\u001b[0mtotimestamp\u001b[0m\u001b[1;33m(\u001b[0m\u001b[1;33m)\u001b[0m\u001b[1;33m)\u001b[0m \u001b[1;32mfor\u001b[0m \u001b[0mdt\u001b[0m \u001b[1;32min\u001b[0m \u001b[0mdate_dict\u001b[0m\u001b[1;33m.\u001b[0m\u001b[0mvalues\u001b[0m\u001b[1;33m(\u001b[0m\u001b[1;33m)\u001b[0m\u001b[1;33m]\u001b[0m\u001b[1;33m\u001b[0m\u001b[1;33m\u001b[0m\u001b[0m\n\u001b[0m",
      "\u001b[1;32m<ipython-input-378-01b7a43af63f>\u001b[0m in \u001b[0;36m<listcomp>\u001b[1;34m(.0)\u001b[0m\n\u001b[0;32m      1\u001b[0m \u001b[0mct\u001b[0m \u001b[1;33m=\u001b[0m \u001b[0mlist\u001b[0m\u001b[1;33m(\u001b[0m\u001b[0mdate_dict\u001b[0m\u001b[1;33m.\u001b[0m\u001b[0mkeys\u001b[0m\u001b[1;33m(\u001b[0m\u001b[1;33m)\u001b[0m\u001b[1;33m)\u001b[0m\u001b[1;33m\u001b[0m\u001b[1;33m\u001b[0m\u001b[0m\n\u001b[1;32m----> 2\u001b[1;33m \u001b[0mdts\u001b[0m \u001b[1;33m=\u001b[0m \u001b[1;33m[\u001b[0m\u001b[0mmax\u001b[0m\u001b[1;33m(\u001b[0m\u001b[0mdt\u001b[0m\u001b[1;33m.\u001b[0m\u001b[0mtotimestamp\u001b[0m\u001b[1;33m(\u001b[0m\u001b[1;33m)\u001b[0m\u001b[1;33m)\u001b[0m \u001b[1;32mfor\u001b[0m \u001b[0mdt\u001b[0m \u001b[1;32min\u001b[0m \u001b[0mdate_dict\u001b[0m\u001b[1;33m.\u001b[0m\u001b[0mvalues\u001b[0m\u001b[1;33m(\u001b[0m\u001b[1;33m)\u001b[0m\u001b[1;33m]\u001b[0m\u001b[1;33m\u001b[0m\u001b[1;33m\u001b[0m\u001b[0m\n\u001b[0m",
      "\u001b[1;31mAttributeError\u001b[0m: 'list' object has no attribute 'totimestamp'"
     ]
    }
   ],
   "source": []
  },
  {
   "cell_type": "code",
   "execution_count": null,
   "id": "6e594da0",
   "metadata": {},
   "outputs": [],
   "source": []
  }
 ],
 "metadata": {
  "kernelspec": {
   "display_name": "Python 3",
   "language": "python",
   "name": "python3"
  },
  "language_info": {
   "codemirror_mode": {
    "name": "ipython",
    "version": 3
   },
   "file_extension": ".py",
   "mimetype": "text/x-python",
   "name": "python",
   "nbconvert_exporter": "python",
   "pygments_lexer": "ipython3",
   "version": "3.8.8"
  }
 },
 "nbformat": 4,
 "nbformat_minor": 5
}
